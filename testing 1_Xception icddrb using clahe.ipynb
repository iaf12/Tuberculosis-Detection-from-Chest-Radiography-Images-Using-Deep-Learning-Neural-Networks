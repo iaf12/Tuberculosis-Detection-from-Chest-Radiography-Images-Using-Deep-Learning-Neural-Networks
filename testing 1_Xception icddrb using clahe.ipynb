{
 "cells": [
  {
   "cell_type": "markdown",
   "id": "80aae10e",
   "metadata": {
    "id": "9Dg7bhcMQjrx",
    "papermill": {
     "duration": 0.009565,
     "end_time": "2023-03-29T12:41:07.721304",
     "exception": false,
     "start_time": "2023-03-29T12:41:07.711739",
     "status": "completed"
    },
    "tags": []
   },
   "source": [
    "# Starter Notebook"
   ]
  },
  {
   "cell_type": "markdown",
   "id": "9919c28c",
   "metadata": {
    "id": "jG_5SoNmSwPc",
    "papermill": {
     "duration": 0.007839,
     "end_time": "2023-03-29T12:41:07.737406",
     "exception": false,
     "start_time": "2023-03-29T12:41:07.729567",
     "status": "completed"
    },
    "tags": []
   },
   "source": [
    "## Importing Libraries"
   ]
  },
  {
   "cell_type": "code",
   "execution_count": 1,
   "id": "21562581",
   "metadata": {
    "execution": {
     "iopub.execute_input": "2023-03-29T12:41:07.756401Z",
     "iopub.status.busy": "2023-03-29T12:41:07.755208Z",
     "iopub.status.idle": "2023-03-29T12:41:07.766688Z",
     "shell.execute_reply": "2023-03-29T12:41:07.765679Z"
    },
    "id": "QwAtFRvYQpDm",
    "papermill": {
     "duration": 0.023428,
     "end_time": "2023-03-29T12:41:07.768842",
     "exception": false,
     "start_time": "2023-03-29T12:41:07.745414",
     "status": "completed"
    },
    "tags": []
   },
   "outputs": [],
   "source": [
    "\n",
    "import warnings\n",
    "warnings.filterwarnings('ignore')"
   ]
  },
  {
   "cell_type": "code",
   "execution_count": 2,
   "id": "e2bd3d78",
   "metadata": {
    "execution": {
     "iopub.execute_input": "2023-03-29T12:41:07.786970Z",
     "iopub.status.busy": "2023-03-29T12:41:07.786051Z",
     "iopub.status.idle": "2023-03-29T12:41:15.482240Z",
     "shell.execute_reply": "2023-03-29T12:41:15.481146Z"
    },
    "id": "q-CIsMW9QtQm",
    "papermill": {
     "duration": 7.708135,
     "end_time": "2023-03-29T12:41:15.485015",
     "exception": false,
     "start_time": "2023-03-29T12:41:07.776880",
     "status": "completed"
    },
    "tags": []
   },
   "outputs": [],
   "source": [
    "from tensorflow import keras\n",
    "from keras.layers import Input, Lambda, Dense, Flatten, Dropout, Convolution2D, BatchNormalization, MaxPooling2D, GlobalAveragePooling2D\n",
    "from keras.models import Model\n",
    "from keras.regularizers import l1, l2, l1_l2\n",
    "import tensorflow as tf\n",
    "from keras.preprocessing import image\n",
    "from keras.preprocessing.image import ImageDataGenerator\n",
    "from keras.applications import MobileNetV3Small, InceptionV3, DenseNet201, Xception\n",
    "# from keras.applications import \n",
    "from tensorflow.keras.callbacks import ReduceLROnPlateau\n",
    "from sklearn.metrics import confusion_matrix\n",
    "from sklearn.metrics import classification_report\n",
    "from sklearn.metrics import roc_curve\n",
    "from sklearn.metrics import auc\n",
    "from keras.models import Sequential\n",
    "import numpy as np\n",
    "from glob import glob\n",
    "import matplotlib.pyplot as plt\n",
    "%matplotlib inline\n",
    "import seaborn as sns"
   ]
  },
  {
   "cell_type": "markdown",
   "id": "314bf0f2",
   "metadata": {
    "id": "xs6p7RMOciNF",
    "papermill": {
     "duration": 0.007974,
     "end_time": "2023-03-29T12:41:15.502174",
     "exception": false,
     "start_time": "2023-03-29T12:41:15.494200",
     "status": "completed"
    },
    "tags": []
   },
   "source": [
    "## Initializing Parameters"
   ]
  },
  {
   "cell_type": "code",
   "execution_count": 3,
   "id": "539bd5a4",
   "metadata": {
    "execution": {
     "iopub.execute_input": "2023-03-29T12:41:15.521222Z",
     "iopub.status.busy": "2023-03-29T12:41:15.519660Z",
     "iopub.status.idle": "2023-03-29T12:41:15.535449Z",
     "shell.execute_reply": "2023-03-29T12:41:15.534303Z"
    },
    "papermill": {
     "duration": 0.028232,
     "end_time": "2023-03-29T12:41:15.538561",
     "exception": false,
     "start_time": "2023-03-29T12:41:15.510329",
     "status": "completed"
    },
    "tags": []
   },
   "outputs": [],
   "source": [
    "# import os\n",
    "# os.listdir('../input/tuberculosis-tb-chest-x-ray-cleaned-database/TB Chest Radiography Database/Partitioned Data/Cleaned Data')"
   ]
  },
  {
   "cell_type": "code",
   "execution_count": 4,
   "id": "59bc33c0",
   "metadata": {
    "execution": {
     "iopub.execute_input": "2023-03-29T12:41:15.556266Z",
     "iopub.status.busy": "2023-03-29T12:41:15.555969Z",
     "iopub.status.idle": "2023-03-29T12:41:15.560772Z",
     "shell.execute_reply": "2023-03-29T12:41:15.559770Z"
    },
    "id": "fiLzfiHJQyFv",
    "papermill": {
     "duration": 0.016064,
     "end_time": "2023-03-29T12:41:15.562825",
     "exception": false,
     "start_time": "2023-03-29T12:41:15.546761",
     "status": "completed"
    },
    "tags": []
   },
   "outputs": [],
   "source": [
    "IMAGE_SIZE = [256, 256, 3]\n",
    "target_size = (256, 256)\n",
    "Epochs = 500\n",
    "Batch = 16\n",
    "\n",
    "# train_path = 'Dataset/Shenzhen dataset/images/preprocessed data/a_preprocess/Train'\n",
    "# test_path = 'Dataset/Shenzhen dataset/images/preprocessed data/a_preprocess/Test'\n",
    "# val_path = 'Dataset/Shenzhen dataset/images/preprocessed data/a_preprocess/Validation'\n",
    "\n",
    "# train_path = 'Dataset/Merge data/small gray dataset - Copy/Train'\n",
    "# test_path = 'Dataset/Merge data/small gray dataset - Copy/Test'\n",
    "# val_path = 'Dataset/Merge data/small gray dataset - Copy/Val'\n",
    "\n",
    "# train_path = 'Dataset/icddr, b/Final png images/500,500 px/gray Dataset/init data - Copy/Train'\n",
    "# test_path = 'Dataset/icddr, b/Final png images/500,500 px/gray Dataset/init data - Copy/Test'\n",
    "# val_path ='Dataset/icddr, b/Final png images/500,500 px/gray Dataset/init data - Copy/Validation'\n",
    "\n",
    "\n",
    "# train_path = 'Dataset/icddr, b/Final png images/500,500 px/gray Dataset/update init data/Train'\n",
    "# test_path = 'Dataset/icddr, b/Final png images/500,500 px/gray Dataset/update init data/Test'\n",
    "# val_path = 'Dataset/icddr, b/Final png images/500,500 px/gray Dataset/update init data/Validation'\n",
    "\n",
    "train_path = 'Dataset/icddr, b/Final png images/500,500 px/gray Dataset/update preprocessed init data/Train'\n",
    "test_path = 'Dataset/icddr, b/Final png images/500,500 px/gray Dataset/update preprocessed init data/Test'\n",
    "val_path = 'Dataset/icddr, b/Final png images/500,500 px/gray Dataset/update preprocessed init data/Validation'\n",
    "\n",
    "# train_path = 'Dataset/Shenzhen dataset/images/data/Train'\n",
    "# test_path = 'Dataset/Shenzhen dataset/images/data/Test'\n",
    "# val_path = 'Dataset/Shenzhen dataset/images/data/Validation'\n",
    "\n",
    "# train_path = 'Dataset/icddr, b/Final png images/500,500 px/gray Dataset/init data/Train'\n",
    "# test_path = 'Dataset/icddr, b/Final png images/500,500 px/gray Dataset/init data/Test'\n",
    "# val_path = 'Dataset/icddr, b/Final png images/500,500 px/gray Dataset/init data/Validation'\n"
   ]
  },
  {
   "cell_type": "markdown",
   "id": "ee352efc",
   "metadata": {
    "id": "C9swfxvUcwfb",
    "papermill": {
     "duration": 0.008058,
     "end_time": "2023-03-29T12:41:15.579442",
     "exception": false,
     "start_time": "2023-03-29T12:41:15.571384",
     "status": "completed"
    },
    "tags": []
   },
   "source": [
    "## Data Augmentation"
   ]
  },
  {
   "cell_type": "code",
   "execution_count": 5,
   "id": "0e239b3e",
   "metadata": {
    "execution": {
     "iopub.execute_input": "2023-03-29T12:41:15.597838Z",
     "iopub.status.busy": "2023-03-29T12:41:15.597075Z",
     "iopub.status.idle": "2023-03-29T12:41:19.928328Z",
     "shell.execute_reply": "2023-03-29T12:41:19.926769Z"
    },
    "id": "YiRQm0hvcsmB",
    "outputId": "0a0afb85-2a97-445e-ccfb-7facbfa29e09",
    "papermill": {
     "duration": 4.343128,
     "end_time": "2023-03-29T12:41:19.931127",
     "exception": false,
     "start_time": "2023-03-29T12:41:15.587999",
     "status": "completed"
    },
    "tags": []
   },
   "outputs": [
    {
     "name": "stdout",
     "output_type": "stream",
     "text": [
      "Found 140 images belonging to 2 classes.\n",
      "Found 30 images belonging to 2 classes.\n",
      "Found 30 images belonging to 2 classes.\n"
     ]
    }
   ],
   "source": [
    "train_datagen = ImageDataGenerator(\n",
    "    rotation_range=15,\n",
    "    width_shift_range=0.2,\n",
    "    height_shift_range=0.2,\n",
    "    shear_range=0.2,\n",
    "    zoom_range=0.2,\n",
    "    horizontal_flip=True,\n",
    "    rescale=1./255  # Normalize pixel values\n",
    ")\n",
    "val_datagen = ImageDataGenerator(rescale = 1./255)\n",
    "test_datagen = ImageDataGenerator(rescale = 1./255)\n",
    "\n",
    "training_set = train_datagen.flow_from_directory(train_path,\n",
    "                                                 target_size = target_size,\n",
    "                                                 batch_size = Batch,\n",
    "                                                 class_mode = 'categorical')\n",
    "\n",
    "val_set = test_datagen.flow_from_directory(val_path,\n",
    "                                            target_size = target_size,\n",
    "                                            batch_size = Batch,\n",
    "                                            class_mode = 'categorical')\n",
    "\n",
    "test_set = test_datagen.flow_from_directory(test_path,                                            \n",
    "                                            target_size = target_size,\n",
    "                                            batch_size = Batch,\n",
    "                                            class_mode = 'categorical',\n",
    "                                           shuffle=False)"
   ]
  },
  {
   "cell_type": "markdown",
   "id": "1cd61203",
   "metadata": {
    "papermill": {
     "duration": 0.008363,
     "end_time": "2023-03-29T12:41:19.948303",
     "exception": false,
     "start_time": "2023-03-29T12:41:19.939940",
     "status": "completed"
    },
    "tags": []
   },
   "source": [
    "## Setting Base Model"
   ]
  },
  {
   "cell_type": "code",
   "execution_count": null,
   "id": "a5306ef2",
   "metadata": {},
   "outputs": [],
   "source": []
  },
  {
   "cell_type": "code",
   "execution_count": 6,
   "id": "b103c0d0",
   "metadata": {},
   "outputs": [],
   "source": [
    "# base_model = DenseNet201(\n",
    "#     weights='imagenet', include_top=False, input_shape=(256,256,3)\n",
    "# )\n",
    "\n",
    "base_model = Xception(weights='imagenet', include_top=False, input_shape=(256,256,3))\n"
   ]
  },
  {
   "cell_type": "code",
   "execution_count": null,
   "id": "211096de",
   "metadata": {
    "execution": {
     "iopub.execute_input": "2023-03-29T12:41:19.968157Z",
     "iopub.status.busy": "2023-03-29T12:41:19.967017Z",
     "iopub.status.idle": "2023-03-29T12:41:27.165847Z",
     "shell.execute_reply": "2023-03-29T12:41:27.164783Z"
    },
    "id": "M_hmEZCZUETs",
    "outputId": "a58a8249-d7de-4374-8364-df5be813d2f7",
    "papermill": {
     "duration": 7.211428,
     "end_time": "2023-03-29T12:41:27.168709",
     "exception": false,
     "start_time": "2023-03-29T12:41:19.957281",
     "status": "completed"
    },
    "tags": []
   },
   "outputs": [],
   "source": []
  },
  {
   "cell_type": "code",
   "execution_count": 7,
   "id": "fe22717c",
   "metadata": {
    "execution": {
     "iopub.execute_input": "2023-03-29T12:41:27.193342Z",
     "iopub.status.busy": "2023-03-29T12:41:27.192712Z",
     "iopub.status.idle": "2023-03-29T12:41:27.201527Z",
     "shell.execute_reply": "2023-03-29T12:41:27.200607Z"
    },
    "id": "kP16aMjdUJUf",
    "papermill": {
     "duration": 0.023174,
     "end_time": "2023-03-29T12:41:27.203671",
     "exception": false,
     "start_time": "2023-03-29T12:41:27.180497",
     "status": "completed"
    },
    "tags": []
   },
   "outputs": [],
   "source": [
    "# for layer in base_model.layers:\n",
    "#     layer.trainable = False\n",
    "for layer in base_model.layers:\n",
    "    layer.trainable = False"
   ]
  },
  {
   "cell_type": "markdown",
   "id": "77a1feab",
   "metadata": {
    "id": "QvKCywVUdZSu",
    "papermill": {
     "duration": 0.011116,
     "end_time": "2023-03-29T12:41:27.225772",
     "exception": false,
     "start_time": "2023-03-29T12:41:27.214656",
     "status": "completed"
    },
    "tags": []
   },
   "source": [
    "## Building Model"
   ]
  },
  {
   "cell_type": "code",
   "execution_count": 8,
   "id": "73e7e377",
   "metadata": {},
   "outputs": [
    {
     "name": "stdout",
     "output_type": "stream",
     "text": [
      "Model: \"xception\"\n",
      "__________________________________________________________________________________________________\n",
      " Layer (type)                   Output Shape         Param #     Connected to                     \n",
      "==================================================================================================\n",
      " input_1 (InputLayer)           [(None, 256, 256, 3  0           []                               \n",
      "                                )]                                                                \n",
      "                                                                                                  \n",
      " block1_conv1 (Conv2D)          (None, 127, 127, 32  864         ['input_1[0][0]']                \n",
      "                                )                                                                 \n",
      "                                                                                                  \n",
      " block1_conv1_bn (BatchNormaliz  (None, 127, 127, 32  128        ['block1_conv1[0][0]']           \n",
      " ation)                         )                                                                 \n",
      "                                                                                                  \n",
      " block1_conv1_act (Activation)  (None, 127, 127, 32  0           ['block1_conv1_bn[0][0]']        \n",
      "                                )                                                                 \n",
      "                                                                                                  \n",
      " block1_conv2 (Conv2D)          (None, 125, 125, 64  18432       ['block1_conv1_act[0][0]']       \n",
      "                                )                                                                 \n",
      "                                                                                                  \n",
      " block1_conv2_bn (BatchNormaliz  (None, 125, 125, 64  256        ['block1_conv2[0][0]']           \n",
      " ation)                         )                                                                 \n",
      "                                                                                                  \n",
      " block1_conv2_act (Activation)  (None, 125, 125, 64  0           ['block1_conv2_bn[0][0]']        \n",
      "                                )                                                                 \n",
      "                                                                                                  \n",
      " block2_sepconv1 (SeparableConv  (None, 125, 125, 12  8768       ['block1_conv2_act[0][0]']       \n",
      " 2D)                            8)                                                                \n",
      "                                                                                                  \n",
      " block2_sepconv1_bn (BatchNorma  (None, 125, 125, 12  512        ['block2_sepconv1[0][0]']        \n",
      " lization)                      8)                                                                \n",
      "                                                                                                  \n",
      " block2_sepconv2_act (Activatio  (None, 125, 125, 12  0          ['block2_sepconv1_bn[0][0]']     \n",
      " n)                             8)                                                                \n",
      "                                                                                                  \n",
      " block2_sepconv2 (SeparableConv  (None, 125, 125, 12  17536      ['block2_sepconv2_act[0][0]']    \n",
      " 2D)                            8)                                                                \n",
      "                                                                                                  \n",
      " block2_sepconv2_bn (BatchNorma  (None, 125, 125, 12  512        ['block2_sepconv2[0][0]']        \n",
      " lization)                      8)                                                                \n",
      "                                                                                                  \n",
      " conv2d (Conv2D)                (None, 63, 63, 128)  8192        ['block1_conv2_act[0][0]']       \n",
      "                                                                                                  \n",
      " block2_pool (MaxPooling2D)     (None, 63, 63, 128)  0           ['block2_sepconv2_bn[0][0]']     \n",
      "                                                                                                  \n",
      " batch_normalization (BatchNorm  (None, 63, 63, 128)  512        ['conv2d[0][0]']                 \n",
      " alization)                                                                                       \n",
      "                                                                                                  \n",
      " add (Add)                      (None, 63, 63, 128)  0           ['block2_pool[0][0]',            \n",
      "                                                                  'batch_normalization[0][0]']    \n",
      "                                                                                                  \n",
      " block3_sepconv1_act (Activatio  (None, 63, 63, 128)  0          ['add[0][0]']                    \n",
      " n)                                                                                               \n",
      "                                                                                                  \n",
      " block3_sepconv1 (SeparableConv  (None, 63, 63, 256)  33920      ['block3_sepconv1_act[0][0]']    \n",
      " 2D)                                                                                              \n",
      "                                                                                                  \n",
      " block3_sepconv1_bn (BatchNorma  (None, 63, 63, 256)  1024       ['block3_sepconv1[0][0]']        \n",
      " lization)                                                                                        \n",
      "                                                                                                  \n",
      " block3_sepconv2_act (Activatio  (None, 63, 63, 256)  0          ['block3_sepconv1_bn[0][0]']     \n",
      " n)                                                                                               \n",
      "                                                                                                  \n",
      " block3_sepconv2 (SeparableConv  (None, 63, 63, 256)  67840      ['block3_sepconv2_act[0][0]']    \n",
      " 2D)                                                                                              \n",
      "                                                                                                  \n",
      " block3_sepconv2_bn (BatchNorma  (None, 63, 63, 256)  1024       ['block3_sepconv2[0][0]']        \n",
      " lization)                                                                                        \n",
      "                                                                                                  \n",
      " conv2d_1 (Conv2D)              (None, 32, 32, 256)  32768       ['add[0][0]']                    \n",
      "                                                                                                  \n",
      " block3_pool (MaxPooling2D)     (None, 32, 32, 256)  0           ['block3_sepconv2_bn[0][0]']     \n",
      "                                                                                                  \n",
      " batch_normalization_1 (BatchNo  (None, 32, 32, 256)  1024       ['conv2d_1[0][0]']               \n",
      " rmalization)                                                                                     \n",
      "                                                                                                  \n",
      " add_1 (Add)                    (None, 32, 32, 256)  0           ['block3_pool[0][0]',            \n",
      "                                                                  'batch_normalization_1[0][0]']  \n",
      "                                                                                                  \n",
      " block4_sepconv1_act (Activatio  (None, 32, 32, 256)  0          ['add_1[0][0]']                  \n",
      " n)                                                                                               \n",
      "                                                                                                  \n",
      " block4_sepconv1 (SeparableConv  (None, 32, 32, 728)  188672     ['block4_sepconv1_act[0][0]']    \n",
      " 2D)                                                                                              \n",
      "                                                                                                  \n"
     ]
    },
    {
     "name": "stdout",
     "output_type": "stream",
     "text": [
      " block4_sepconv1_bn (BatchNorma  (None, 32, 32, 728)  2912       ['block4_sepconv1[0][0]']        \n",
      " lization)                                                                                        \n",
      "                                                                                                  \n",
      " block4_sepconv2_act (Activatio  (None, 32, 32, 728)  0          ['block4_sepconv1_bn[0][0]']     \n",
      " n)                                                                                               \n",
      "                                                                                                  \n",
      " block4_sepconv2 (SeparableConv  (None, 32, 32, 728)  536536     ['block4_sepconv2_act[0][0]']    \n",
      " 2D)                                                                                              \n",
      "                                                                                                  \n",
      " block4_sepconv2_bn (BatchNorma  (None, 32, 32, 728)  2912       ['block4_sepconv2[0][0]']        \n",
      " lization)                                                                                        \n",
      "                                                                                                  \n",
      " conv2d_2 (Conv2D)              (None, 16, 16, 728)  186368      ['add_1[0][0]']                  \n",
      "                                                                                                  \n",
      " block4_pool (MaxPooling2D)     (None, 16, 16, 728)  0           ['block4_sepconv2_bn[0][0]']     \n",
      "                                                                                                  \n",
      " batch_normalization_2 (BatchNo  (None, 16, 16, 728)  2912       ['conv2d_2[0][0]']               \n",
      " rmalization)                                                                                     \n",
      "                                                                                                  \n",
      " add_2 (Add)                    (None, 16, 16, 728)  0           ['block4_pool[0][0]',            \n",
      "                                                                  'batch_normalization_2[0][0]']  \n",
      "                                                                                                  \n",
      " block5_sepconv1_act (Activatio  (None, 16, 16, 728)  0          ['add_2[0][0]']                  \n",
      " n)                                                                                               \n",
      "                                                                                                  \n",
      " block5_sepconv1 (SeparableConv  (None, 16, 16, 728)  536536     ['block5_sepconv1_act[0][0]']    \n",
      " 2D)                                                                                              \n",
      "                                                                                                  \n",
      " block5_sepconv1_bn (BatchNorma  (None, 16, 16, 728)  2912       ['block5_sepconv1[0][0]']        \n",
      " lization)                                                                                        \n",
      "                                                                                                  \n",
      " block5_sepconv2_act (Activatio  (None, 16, 16, 728)  0          ['block5_sepconv1_bn[0][0]']     \n",
      " n)                                                                                               \n",
      "                                                                                                  \n",
      " block5_sepconv2 (SeparableConv  (None, 16, 16, 728)  536536     ['block5_sepconv2_act[0][0]']    \n",
      " 2D)                                                                                              \n",
      "                                                                                                  \n",
      " block5_sepconv2_bn (BatchNorma  (None, 16, 16, 728)  2912       ['block5_sepconv2[0][0]']        \n",
      " lization)                                                                                        \n",
      "                                                                                                  \n",
      " block5_sepconv3_act (Activatio  (None, 16, 16, 728)  0          ['block5_sepconv2_bn[0][0]']     \n",
      " n)                                                                                               \n",
      "                                                                                                  \n",
      " block5_sepconv3 (SeparableConv  (None, 16, 16, 728)  536536     ['block5_sepconv3_act[0][0]']    \n",
      " 2D)                                                                                              \n",
      "                                                                                                  \n",
      " block5_sepconv3_bn (BatchNorma  (None, 16, 16, 728)  2912       ['block5_sepconv3[0][0]']        \n",
      " lization)                                                                                        \n",
      "                                                                                                  \n",
      " add_3 (Add)                    (None, 16, 16, 728)  0           ['block5_sepconv3_bn[0][0]',     \n",
      "                                                                  'add_2[0][0]']                  \n",
      "                                                                                                  \n",
      " block6_sepconv1_act (Activatio  (None, 16, 16, 728)  0          ['add_3[0][0]']                  \n",
      " n)                                                                                               \n",
      "                                                                                                  \n",
      " block6_sepconv1 (SeparableConv  (None, 16, 16, 728)  536536     ['block6_sepconv1_act[0][0]']    \n",
      " 2D)                                                                                              \n",
      "                                                                                                  \n",
      " block6_sepconv1_bn (BatchNorma  (None, 16, 16, 728)  2912       ['block6_sepconv1[0][0]']        \n",
      " lization)                                                                                        \n",
      "                                                                                                  \n",
      " block6_sepconv2_act (Activatio  (None, 16, 16, 728)  0          ['block6_sepconv1_bn[0][0]']     \n",
      " n)                                                                                               \n",
      "                                                                                                  \n",
      " block6_sepconv2 (SeparableConv  (None, 16, 16, 728)  536536     ['block6_sepconv2_act[0][0]']    \n",
      " 2D)                                                                                              \n",
      "                                                                                                  \n",
      " block6_sepconv2_bn (BatchNorma  (None, 16, 16, 728)  2912       ['block6_sepconv2[0][0]']        \n",
      " lization)                                                                                        \n",
      "                                                                                                  \n",
      " block6_sepconv3_act (Activatio  (None, 16, 16, 728)  0          ['block6_sepconv2_bn[0][0]']     \n",
      " n)                                                                                               \n",
      "                                                                                                  \n",
      " block6_sepconv3 (SeparableConv  (None, 16, 16, 728)  536536     ['block6_sepconv3_act[0][0]']    \n",
      " 2D)                                                                                              \n",
      "                                                                                                  \n",
      " block6_sepconv3_bn (BatchNorma  (None, 16, 16, 728)  2912       ['block6_sepconv3[0][0]']        \n",
      " lization)                                                                                        \n",
      "                                                                                                  \n",
      " add_4 (Add)                    (None, 16, 16, 728)  0           ['block6_sepconv3_bn[0][0]',     \n",
      "                                                                  'add_3[0][0]']                  \n",
      "                                                                                                  \n",
      " block7_sepconv1_act (Activatio  (None, 16, 16, 728)  0          ['add_4[0][0]']                  \n"
     ]
    },
    {
     "name": "stdout",
     "output_type": "stream",
     "text": [
      " n)                                                                                               \n",
      "                                                                                                  \n",
      " block7_sepconv1 (SeparableConv  (None, 16, 16, 728)  536536     ['block7_sepconv1_act[0][0]']    \n",
      " 2D)                                                                                              \n",
      "                                                                                                  \n",
      " block7_sepconv1_bn (BatchNorma  (None, 16, 16, 728)  2912       ['block7_sepconv1[0][0]']        \n",
      " lization)                                                                                        \n",
      "                                                                                                  \n",
      " block7_sepconv2_act (Activatio  (None, 16, 16, 728)  0          ['block7_sepconv1_bn[0][0]']     \n",
      " n)                                                                                               \n",
      "                                                                                                  \n",
      " block7_sepconv2 (SeparableConv  (None, 16, 16, 728)  536536     ['block7_sepconv2_act[0][0]']    \n",
      " 2D)                                                                                              \n",
      "                                                                                                  \n",
      " block7_sepconv2_bn (BatchNorma  (None, 16, 16, 728)  2912       ['block7_sepconv2[0][0]']        \n",
      " lization)                                                                                        \n",
      "                                                                                                  \n",
      " block7_sepconv3_act (Activatio  (None, 16, 16, 728)  0          ['block7_sepconv2_bn[0][0]']     \n",
      " n)                                                                                               \n",
      "                                                                                                  \n",
      " block7_sepconv3 (SeparableConv  (None, 16, 16, 728)  536536     ['block7_sepconv3_act[0][0]']    \n",
      " 2D)                                                                                              \n",
      "                                                                                                  \n",
      " block7_sepconv3_bn (BatchNorma  (None, 16, 16, 728)  2912       ['block7_sepconv3[0][0]']        \n",
      " lization)                                                                                        \n",
      "                                                                                                  \n",
      " add_5 (Add)                    (None, 16, 16, 728)  0           ['block7_sepconv3_bn[0][0]',     \n",
      "                                                                  'add_4[0][0]']                  \n",
      "                                                                                                  \n",
      " block8_sepconv1_act (Activatio  (None, 16, 16, 728)  0          ['add_5[0][0]']                  \n",
      " n)                                                                                               \n",
      "                                                                                                  \n",
      " block8_sepconv1 (SeparableConv  (None, 16, 16, 728)  536536     ['block8_sepconv1_act[0][0]']    \n",
      " 2D)                                                                                              \n",
      "                                                                                                  \n",
      " block8_sepconv1_bn (BatchNorma  (None, 16, 16, 728)  2912       ['block8_sepconv1[0][0]']        \n",
      " lization)                                                                                        \n",
      "                                                                                                  \n",
      " block8_sepconv2_act (Activatio  (None, 16, 16, 728)  0          ['block8_sepconv1_bn[0][0]']     \n",
      " n)                                                                                               \n",
      "                                                                                                  \n",
      " block8_sepconv2 (SeparableConv  (None, 16, 16, 728)  536536     ['block8_sepconv2_act[0][0]']    \n",
      " 2D)                                                                                              \n",
      "                                                                                                  \n",
      " block8_sepconv2_bn (BatchNorma  (None, 16, 16, 728)  2912       ['block8_sepconv2[0][0]']        \n",
      " lization)                                                                                        \n",
      "                                                                                                  \n",
      " block8_sepconv3_act (Activatio  (None, 16, 16, 728)  0          ['block8_sepconv2_bn[0][0]']     \n",
      " n)                                                                                               \n",
      "                                                                                                  \n",
      " block8_sepconv3 (SeparableConv  (None, 16, 16, 728)  536536     ['block8_sepconv3_act[0][0]']    \n",
      " 2D)                                                                                              \n",
      "                                                                                                  \n",
      " block8_sepconv3_bn (BatchNorma  (None, 16, 16, 728)  2912       ['block8_sepconv3[0][0]']        \n",
      " lization)                                                                                        \n",
      "                                                                                                  \n",
      " add_6 (Add)                    (None, 16, 16, 728)  0           ['block8_sepconv3_bn[0][0]',     \n",
      "                                                                  'add_5[0][0]']                  \n",
      "                                                                                                  \n",
      " block9_sepconv1_act (Activatio  (None, 16, 16, 728)  0          ['add_6[0][0]']                  \n",
      " n)                                                                                               \n",
      "                                                                                                  \n",
      " block9_sepconv1 (SeparableConv  (None, 16, 16, 728)  536536     ['block9_sepconv1_act[0][0]']    \n",
      " 2D)                                                                                              \n",
      "                                                                                                  \n",
      " block9_sepconv1_bn (BatchNorma  (None, 16, 16, 728)  2912       ['block9_sepconv1[0][0]']        \n",
      " lization)                                                                                        \n",
      "                                                                                                  \n",
      " block9_sepconv2_act (Activatio  (None, 16, 16, 728)  0          ['block9_sepconv1_bn[0][0]']     \n",
      " n)                                                                                               \n",
      "                                                                                                  \n",
      " block9_sepconv2 (SeparableConv  (None, 16, 16, 728)  536536     ['block9_sepconv2_act[0][0]']    \n",
      " 2D)                                                                                              \n",
      "                                                                                                  \n",
      " block9_sepconv2_bn (BatchNorma  (None, 16, 16, 728)  2912       ['block9_sepconv2[0][0]']        \n",
      " lization)                                                                                        \n",
      "                                                                                                  \n",
      " block9_sepconv3_act (Activatio  (None, 16, 16, 728)  0          ['block9_sepconv2_bn[0][0]']     \n",
      " n)                                                                                               \n",
      "                                                                                                  \n",
      " block9_sepconv3 (SeparableConv  (None, 16, 16, 728)  536536     ['block9_sepconv3_act[0][0]']    \n",
      " 2D)                                                                                              \n",
      "                                                                                                  \n"
     ]
    },
    {
     "name": "stdout",
     "output_type": "stream",
     "text": [
      " block9_sepconv3_bn (BatchNorma  (None, 16, 16, 728)  2912       ['block9_sepconv3[0][0]']        \n",
      " lization)                                                                                        \n",
      "                                                                                                  \n",
      " add_7 (Add)                    (None, 16, 16, 728)  0           ['block9_sepconv3_bn[0][0]',     \n",
      "                                                                  'add_6[0][0]']                  \n",
      "                                                                                                  \n",
      " block10_sepconv1_act (Activati  (None, 16, 16, 728)  0          ['add_7[0][0]']                  \n",
      " on)                                                                                              \n",
      "                                                                                                  \n",
      " block10_sepconv1 (SeparableCon  (None, 16, 16, 728)  536536     ['block10_sepconv1_act[0][0]']   \n",
      " v2D)                                                                                             \n",
      "                                                                                                  \n",
      " block10_sepconv1_bn (BatchNorm  (None, 16, 16, 728)  2912       ['block10_sepconv1[0][0]']       \n",
      " alization)                                                                                       \n",
      "                                                                                                  \n",
      " block10_sepconv2_act (Activati  (None, 16, 16, 728)  0          ['block10_sepconv1_bn[0][0]']    \n",
      " on)                                                                                              \n",
      "                                                                                                  \n",
      " block10_sepconv2 (SeparableCon  (None, 16, 16, 728)  536536     ['block10_sepconv2_act[0][0]']   \n",
      " v2D)                                                                                             \n",
      "                                                                                                  \n",
      " block10_sepconv2_bn (BatchNorm  (None, 16, 16, 728)  2912       ['block10_sepconv2[0][0]']       \n",
      " alization)                                                                                       \n",
      "                                                                                                  \n",
      " block10_sepconv3_act (Activati  (None, 16, 16, 728)  0          ['block10_sepconv2_bn[0][0]']    \n",
      " on)                                                                                              \n",
      "                                                                                                  \n",
      " block10_sepconv3 (SeparableCon  (None, 16, 16, 728)  536536     ['block10_sepconv3_act[0][0]']   \n",
      " v2D)                                                                                             \n",
      "                                                                                                  \n",
      " block10_sepconv3_bn (BatchNorm  (None, 16, 16, 728)  2912       ['block10_sepconv3[0][0]']       \n",
      " alization)                                                                                       \n",
      "                                                                                                  \n",
      " add_8 (Add)                    (None, 16, 16, 728)  0           ['block10_sepconv3_bn[0][0]',    \n",
      "                                                                  'add_7[0][0]']                  \n",
      "                                                                                                  \n",
      " block11_sepconv1_act (Activati  (None, 16, 16, 728)  0          ['add_8[0][0]']                  \n",
      " on)                                                                                              \n",
      "                                                                                                  \n",
      " block11_sepconv1 (SeparableCon  (None, 16, 16, 728)  536536     ['block11_sepconv1_act[0][0]']   \n",
      " v2D)                                                                                             \n",
      "                                                                                                  \n",
      " block11_sepconv1_bn (BatchNorm  (None, 16, 16, 728)  2912       ['block11_sepconv1[0][0]']       \n",
      " alization)                                                                                       \n",
      "                                                                                                  \n",
      " block11_sepconv2_act (Activati  (None, 16, 16, 728)  0          ['block11_sepconv1_bn[0][0]']    \n",
      " on)                                                                                              \n",
      "                                                                                                  \n",
      " block11_sepconv2 (SeparableCon  (None, 16, 16, 728)  536536     ['block11_sepconv2_act[0][0]']   \n",
      " v2D)                                                                                             \n",
      "                                                                                                  \n",
      " block11_sepconv2_bn (BatchNorm  (None, 16, 16, 728)  2912       ['block11_sepconv2[0][0]']       \n",
      " alization)                                                                                       \n",
      "                                                                                                  \n",
      " block11_sepconv3_act (Activati  (None, 16, 16, 728)  0          ['block11_sepconv2_bn[0][0]']    \n",
      " on)                                                                                              \n",
      "                                                                                                  \n",
      " block11_sepconv3 (SeparableCon  (None, 16, 16, 728)  536536     ['block11_sepconv3_act[0][0]']   \n",
      " v2D)                                                                                             \n",
      "                                                                                                  \n",
      " block11_sepconv3_bn (BatchNorm  (None, 16, 16, 728)  2912       ['block11_sepconv3[0][0]']       \n",
      " alization)                                                                                       \n",
      "                                                                                                  \n",
      " add_9 (Add)                    (None, 16, 16, 728)  0           ['block11_sepconv3_bn[0][0]',    \n",
      "                                                                  'add_8[0][0]']                  \n",
      "                                                                                                  \n",
      " block12_sepconv1_act (Activati  (None, 16, 16, 728)  0          ['add_9[0][0]']                  \n",
      " on)                                                                                              \n",
      "                                                                                                  \n",
      " block12_sepconv1 (SeparableCon  (None, 16, 16, 728)  536536     ['block12_sepconv1_act[0][0]']   \n",
      " v2D)                                                                                             \n",
      "                                                                                                  \n",
      " block12_sepconv1_bn (BatchNorm  (None, 16, 16, 728)  2912       ['block12_sepconv1[0][0]']       \n",
      " alization)                                                                                       \n",
      "                                                                                                  \n",
      " block12_sepconv2_act (Activati  (None, 16, 16, 728)  0          ['block12_sepconv1_bn[0][0]']    \n",
      " on)                                                                                              \n",
      "                                                                                                  \n",
      " block12_sepconv2 (SeparableCon  (None, 16, 16, 728)  536536     ['block12_sepconv2_act[0][0]']   \n",
      " v2D)                                                                                             \n",
      "                                                                                                  \n",
      " block12_sepconv2_bn (BatchNorm  (None, 16, 16, 728)  2912       ['block12_sepconv2[0][0]']       \n",
      " alization)                                                                                       \n"
     ]
    },
    {
     "name": "stdout",
     "output_type": "stream",
     "text": [
      "                                                                                                  \n",
      " block12_sepconv3_act (Activati  (None, 16, 16, 728)  0          ['block12_sepconv2_bn[0][0]']    \n",
      " on)                                                                                              \n",
      "                                                                                                  \n",
      " block12_sepconv3 (SeparableCon  (None, 16, 16, 728)  536536     ['block12_sepconv3_act[0][0]']   \n",
      " v2D)                                                                                             \n",
      "                                                                                                  \n",
      " block12_sepconv3_bn (BatchNorm  (None, 16, 16, 728)  2912       ['block12_sepconv3[0][0]']       \n",
      " alization)                                                                                       \n",
      "                                                                                                  \n",
      " add_10 (Add)                   (None, 16, 16, 728)  0           ['block12_sepconv3_bn[0][0]',    \n",
      "                                                                  'add_9[0][0]']                  \n",
      "                                                                                                  \n",
      " block13_sepconv1_act (Activati  (None, 16, 16, 728)  0          ['add_10[0][0]']                 \n",
      " on)                                                                                              \n",
      "                                                                                                  \n",
      " block13_sepconv1 (SeparableCon  (None, 16, 16, 728)  536536     ['block13_sepconv1_act[0][0]']   \n",
      " v2D)                                                                                             \n",
      "                                                                                                  \n",
      " block13_sepconv1_bn (BatchNorm  (None, 16, 16, 728)  2912       ['block13_sepconv1[0][0]']       \n",
      " alization)                                                                                       \n",
      "                                                                                                  \n",
      " block13_sepconv2_act (Activati  (None, 16, 16, 728)  0          ['block13_sepconv1_bn[0][0]']    \n",
      " on)                                                                                              \n",
      "                                                                                                  \n",
      " block13_sepconv2 (SeparableCon  (None, 16, 16, 1024  752024     ['block13_sepconv2_act[0][0]']   \n",
      " v2D)                           )                                                                 \n",
      "                                                                                                  \n",
      " block13_sepconv2_bn (BatchNorm  (None, 16, 16, 1024  4096       ['block13_sepconv2[0][0]']       \n",
      " alization)                     )                                                                 \n",
      "                                                                                                  \n",
      " conv2d_3 (Conv2D)              (None, 8, 8, 1024)   745472      ['add_10[0][0]']                 \n",
      "                                                                                                  \n",
      " block13_pool (MaxPooling2D)    (None, 8, 8, 1024)   0           ['block13_sepconv2_bn[0][0]']    \n",
      "                                                                                                  \n",
      " batch_normalization_3 (BatchNo  (None, 8, 8, 1024)  4096        ['conv2d_3[0][0]']               \n",
      " rmalization)                                                                                     \n",
      "                                                                                                  \n",
      " add_11 (Add)                   (None, 8, 8, 1024)   0           ['block13_pool[0][0]',           \n",
      "                                                                  'batch_normalization_3[0][0]']  \n",
      "                                                                                                  \n",
      " block14_sepconv1 (SeparableCon  (None, 8, 8, 1536)  1582080     ['add_11[0][0]']                 \n",
      " v2D)                                                                                             \n",
      "                                                                                                  \n",
      " block14_sepconv1_bn (BatchNorm  (None, 8, 8, 1536)  6144        ['block14_sepconv1[0][0]']       \n",
      " alization)                                                                                       \n",
      "                                                                                                  \n",
      " block14_sepconv1_act (Activati  (None, 8, 8, 1536)  0           ['block14_sepconv1_bn[0][0]']    \n",
      " on)                                                                                              \n",
      "                                                                                                  \n",
      " block14_sepconv2 (SeparableCon  (None, 8, 8, 2048)  3159552     ['block14_sepconv1_act[0][0]']   \n",
      " v2D)                                                                                             \n",
      "                                                                                                  \n",
      " block14_sepconv2_bn (BatchNorm  (None, 8, 8, 2048)  8192        ['block14_sepconv2[0][0]']       \n",
      " alization)                                                                                       \n",
      "                                                                                                  \n",
      " block14_sepconv2_act (Activati  (None, 8, 8, 2048)  0           ['block14_sepconv2_bn[0][0]']    \n",
      " on)                                                                                              \n",
      "                                                                                                  \n",
      "==================================================================================================\n",
      "Total params: 20,861,480\n",
      "Trainable params: 0\n",
      "Non-trainable params: 20,861,480\n",
      "__________________________________________________________________________________________________\n"
     ]
    }
   ],
   "source": [
    "base_model.summary()"
   ]
  },
  {
   "cell_type": "code",
   "execution_count": 9,
   "id": "3697ebb7",
   "metadata": {},
   "outputs": [],
   "source": [
    "# model = Sequential()\n",
    "# model.add(dense_model)\n",
    "# # model.add(Convolution2D(256, (3,3), activation='relu', padding='same', kernel_regularizer=l1_l2(0.001)))\n",
    "# # model.add(Convolution2D(256, (3,3), activation='relu', padding='same', kernel_regularizer=l1_l2(0.001)))\n",
    "# model.add(Flatten())\n",
    "# model.add(Dropout(0.2))\n",
    "# model.add(Dense(1024, activation='relu'))\n",
    "# model.add(Dropout(0.2))\n",
    "# model.add(Dense(512, activation='relu'))\n",
    "# #model.add(Dense(256, activation='relu'))\n",
    "# model.add(Dense(2, activation='softmax'))"
   ]
  },
  {
   "cell_type": "code",
   "execution_count": 10,
   "id": "938c90a2",
   "metadata": {},
   "outputs": [],
   "source": [
    "x = base_model.output\n",
    "x = Flatten()(x)\n",
    "\n",
    "x = Dropout(0.2)(x)\n",
    "\n",
    "x = Dense(1024, activation='LeakyReLU')(x)\n",
    "x = BatchNormalization()(x)\n",
    "x = Dropout(0.2)(x)\n",
    "\n",
    "x = Dense(512, activation='LeakyReLU')(x)\n",
    "x = BatchNormalization()(x)\n",
    "# x = Dropout(0.2)(x)  # it made more complex\n",
    "\n",
    "x = Dense(256, activation='LeakyReLU')(x)\n",
    "x = Dense(128, activation='LeakyReLU')(x)\n",
    "x = Dense(64, activation='LeakyReLU')(x)\n",
    "prediction = Dense(2, activation='softmax')(x)\n",
    "\n",
    "model = Model(inputs=base_model.input, outputs=prediction)"
   ]
  },
  {
   "cell_type": "code",
   "execution_count": 11,
   "id": "4f565657",
   "metadata": {},
   "outputs": [],
   "source": [
    "# '''kindda ok to provide'''\n",
    "\n",
    "# # model = Sequential()\n",
    "# # model.add(base_model)\n",
    "# # # model.add(Convolution2D(256, (3,3), activation='relu', padding='same', kernel_regularizer=l2(0.01)))\n",
    "# # # model.add(MaxPooling2D(2,2))\n",
    "# # # model.add(BatchNormalization())\n",
    "\n",
    "# # # model.add(Convolution2D(256, (3,3), activation='relu', padding='same', kernel_regularizer=l2(0.01)))\n",
    "# # # model.add(MaxPooling2D(2,2))\n",
    "# # # model.add(BatchNormalization())\n",
    "\n",
    "# model.add(Flatten())\n",
    "\n",
    "# model.add(Dropout(0.3))\n",
    "# model.add(Dense(1024, activation='relu'))\n",
    "# model.add(Dropout(0.3))\n",
    "# model.add(BatchNormalization())\n",
    "# model.add(Dense(512, activation='relu'))\n",
    "\n",
    "# model.add(Dense(256, activation='relu'))\n",
    "# model.add(Dense(2, activation='softmax'))"
   ]
  },
  {
   "cell_type": "code",
   "execution_count": 12,
   "id": "8b66641f",
   "metadata": {},
   "outputs": [
    {
     "name": "stdout",
     "output_type": "stream",
     "text": [
      "Model: \"model\"\n",
      "__________________________________________________________________________________________________\n",
      " Layer (type)                   Output Shape         Param #     Connected to                     \n",
      "==================================================================================================\n",
      " input_1 (InputLayer)           [(None, 256, 256, 3  0           []                               \n",
      "                                )]                                                                \n",
      "                                                                                                  \n",
      " block1_conv1 (Conv2D)          (None, 127, 127, 32  864         ['input_1[0][0]']                \n",
      "                                )                                                                 \n",
      "                                                                                                  \n",
      " block1_conv1_bn (BatchNormaliz  (None, 127, 127, 32  128        ['block1_conv1[0][0]']           \n",
      " ation)                         )                                                                 \n",
      "                                                                                                  \n",
      " block1_conv1_act (Activation)  (None, 127, 127, 32  0           ['block1_conv1_bn[0][0]']        \n",
      "                                )                                                                 \n",
      "                                                                                                  \n",
      " block1_conv2 (Conv2D)          (None, 125, 125, 64  18432       ['block1_conv1_act[0][0]']       \n",
      "                                )                                                                 \n",
      "                                                                                                  \n",
      " block1_conv2_bn (BatchNormaliz  (None, 125, 125, 64  256        ['block1_conv2[0][0]']           \n",
      " ation)                         )                                                                 \n",
      "                                                                                                  \n",
      " block1_conv2_act (Activation)  (None, 125, 125, 64  0           ['block1_conv2_bn[0][0]']        \n",
      "                                )                                                                 \n",
      "                                                                                                  \n",
      " block2_sepconv1 (SeparableConv  (None, 125, 125, 12  8768       ['block1_conv2_act[0][0]']       \n",
      " 2D)                            8)                                                                \n",
      "                                                                                                  \n",
      " block2_sepconv1_bn (BatchNorma  (None, 125, 125, 12  512        ['block2_sepconv1[0][0]']        \n",
      " lization)                      8)                                                                \n",
      "                                                                                                  \n",
      " block2_sepconv2_act (Activatio  (None, 125, 125, 12  0          ['block2_sepconv1_bn[0][0]']     \n",
      " n)                             8)                                                                \n",
      "                                                                                                  \n",
      " block2_sepconv2 (SeparableConv  (None, 125, 125, 12  17536      ['block2_sepconv2_act[0][0]']    \n",
      " 2D)                            8)                                                                \n",
      "                                                                                                  \n",
      " block2_sepconv2_bn (BatchNorma  (None, 125, 125, 12  512        ['block2_sepconv2[0][0]']        \n",
      " lization)                      8)                                                                \n",
      "                                                                                                  \n",
      " conv2d (Conv2D)                (None, 63, 63, 128)  8192        ['block1_conv2_act[0][0]']       \n",
      "                                                                                                  \n",
      " block2_pool (MaxPooling2D)     (None, 63, 63, 128)  0           ['block2_sepconv2_bn[0][0]']     \n",
      "                                                                                                  \n",
      " batch_normalization (BatchNorm  (None, 63, 63, 128)  512        ['conv2d[0][0]']                 \n",
      " alization)                                                                                       \n",
      "                                                                                                  \n",
      " add (Add)                      (None, 63, 63, 128)  0           ['block2_pool[0][0]',            \n",
      "                                                                  'batch_normalization[0][0]']    \n",
      "                                                                                                  \n",
      " block3_sepconv1_act (Activatio  (None, 63, 63, 128)  0          ['add[0][0]']                    \n",
      " n)                                                                                               \n",
      "                                                                                                  \n",
      " block3_sepconv1 (SeparableConv  (None, 63, 63, 256)  33920      ['block3_sepconv1_act[0][0]']    \n",
      " 2D)                                                                                              \n",
      "                                                                                                  \n",
      " block3_sepconv1_bn (BatchNorma  (None, 63, 63, 256)  1024       ['block3_sepconv1[0][0]']        \n",
      " lization)                                                                                        \n",
      "                                                                                                  \n",
      " block3_sepconv2_act (Activatio  (None, 63, 63, 256)  0          ['block3_sepconv1_bn[0][0]']     \n",
      " n)                                                                                               \n",
      "                                                                                                  \n",
      " block3_sepconv2 (SeparableConv  (None, 63, 63, 256)  67840      ['block3_sepconv2_act[0][0]']    \n",
      " 2D)                                                                                              \n",
      "                                                                                                  \n",
      " block3_sepconv2_bn (BatchNorma  (None, 63, 63, 256)  1024       ['block3_sepconv2[0][0]']        \n",
      " lization)                                                                                        \n",
      "                                                                                                  \n",
      " conv2d_1 (Conv2D)              (None, 32, 32, 256)  32768       ['add[0][0]']                    \n",
      "                                                                                                  \n",
      " block3_pool (MaxPooling2D)     (None, 32, 32, 256)  0           ['block3_sepconv2_bn[0][0]']     \n",
      "                                                                                                  \n",
      " batch_normalization_1 (BatchNo  (None, 32, 32, 256)  1024       ['conv2d_1[0][0]']               \n",
      " rmalization)                                                                                     \n",
      "                                                                                                  \n",
      " add_1 (Add)                    (None, 32, 32, 256)  0           ['block3_pool[0][0]',            \n",
      "                                                                  'batch_normalization_1[0][0]']  \n",
      "                                                                                                  \n",
      " block4_sepconv1_act (Activatio  (None, 32, 32, 256)  0          ['add_1[0][0]']                  \n",
      " n)                                                                                               \n",
      "                                                                                                  \n",
      " block4_sepconv1 (SeparableConv  (None, 32, 32, 728)  188672     ['block4_sepconv1_act[0][0]']    \n",
      " 2D)                                                                                              \n",
      "                                                                                                  \n"
     ]
    },
    {
     "name": "stdout",
     "output_type": "stream",
     "text": [
      " block4_sepconv1_bn (BatchNorma  (None, 32, 32, 728)  2912       ['block4_sepconv1[0][0]']        \n",
      " lization)                                                                                        \n",
      "                                                                                                  \n",
      " block4_sepconv2_act (Activatio  (None, 32, 32, 728)  0          ['block4_sepconv1_bn[0][0]']     \n",
      " n)                                                                                               \n",
      "                                                                                                  \n",
      " block4_sepconv2 (SeparableConv  (None, 32, 32, 728)  536536     ['block4_sepconv2_act[0][0]']    \n",
      " 2D)                                                                                              \n",
      "                                                                                                  \n",
      " block4_sepconv2_bn (BatchNorma  (None, 32, 32, 728)  2912       ['block4_sepconv2[0][0]']        \n",
      " lization)                                                                                        \n",
      "                                                                                                  \n",
      " conv2d_2 (Conv2D)              (None, 16, 16, 728)  186368      ['add_1[0][0]']                  \n",
      "                                                                                                  \n",
      " block4_pool (MaxPooling2D)     (None, 16, 16, 728)  0           ['block4_sepconv2_bn[0][0]']     \n",
      "                                                                                                  \n",
      " batch_normalization_2 (BatchNo  (None, 16, 16, 728)  2912       ['conv2d_2[0][0]']               \n",
      " rmalization)                                                                                     \n",
      "                                                                                                  \n",
      " add_2 (Add)                    (None, 16, 16, 728)  0           ['block4_pool[0][0]',            \n",
      "                                                                  'batch_normalization_2[0][0]']  \n",
      "                                                                                                  \n",
      " block5_sepconv1_act (Activatio  (None, 16, 16, 728)  0          ['add_2[0][0]']                  \n",
      " n)                                                                                               \n",
      "                                                                                                  \n",
      " block5_sepconv1 (SeparableConv  (None, 16, 16, 728)  536536     ['block5_sepconv1_act[0][0]']    \n",
      " 2D)                                                                                              \n",
      "                                                                                                  \n",
      " block5_sepconv1_bn (BatchNorma  (None, 16, 16, 728)  2912       ['block5_sepconv1[0][0]']        \n",
      " lization)                                                                                        \n",
      "                                                                                                  \n",
      " block5_sepconv2_act (Activatio  (None, 16, 16, 728)  0          ['block5_sepconv1_bn[0][0]']     \n",
      " n)                                                                                               \n",
      "                                                                                                  \n",
      " block5_sepconv2 (SeparableConv  (None, 16, 16, 728)  536536     ['block5_sepconv2_act[0][0]']    \n",
      " 2D)                                                                                              \n",
      "                                                                                                  \n",
      " block5_sepconv2_bn (BatchNorma  (None, 16, 16, 728)  2912       ['block5_sepconv2[0][0]']        \n",
      " lization)                                                                                        \n",
      "                                                                                                  \n",
      " block5_sepconv3_act (Activatio  (None, 16, 16, 728)  0          ['block5_sepconv2_bn[0][0]']     \n",
      " n)                                                                                               \n",
      "                                                                                                  \n",
      " block5_sepconv3 (SeparableConv  (None, 16, 16, 728)  536536     ['block5_sepconv3_act[0][0]']    \n",
      " 2D)                                                                                              \n",
      "                                                                                                  \n",
      " block5_sepconv3_bn (BatchNorma  (None, 16, 16, 728)  2912       ['block5_sepconv3[0][0]']        \n",
      " lization)                                                                                        \n",
      "                                                                                                  \n",
      " add_3 (Add)                    (None, 16, 16, 728)  0           ['block5_sepconv3_bn[0][0]',     \n",
      "                                                                  'add_2[0][0]']                  \n",
      "                                                                                                  \n",
      " block6_sepconv1_act (Activatio  (None, 16, 16, 728)  0          ['add_3[0][0]']                  \n",
      " n)                                                                                               \n",
      "                                                                                                  \n",
      " block6_sepconv1 (SeparableConv  (None, 16, 16, 728)  536536     ['block6_sepconv1_act[0][0]']    \n",
      " 2D)                                                                                              \n",
      "                                                                                                  \n",
      " block6_sepconv1_bn (BatchNorma  (None, 16, 16, 728)  2912       ['block6_sepconv1[0][0]']        \n",
      " lization)                                                                                        \n",
      "                                                                                                  \n",
      " block6_sepconv2_act (Activatio  (None, 16, 16, 728)  0          ['block6_sepconv1_bn[0][0]']     \n",
      " n)                                                                                               \n",
      "                                                                                                  \n",
      " block6_sepconv2 (SeparableConv  (None, 16, 16, 728)  536536     ['block6_sepconv2_act[0][0]']    \n",
      " 2D)                                                                                              \n",
      "                                                                                                  \n",
      " block6_sepconv2_bn (BatchNorma  (None, 16, 16, 728)  2912       ['block6_sepconv2[0][0]']        \n",
      " lization)                                                                                        \n",
      "                                                                                                  \n",
      " block6_sepconv3_act (Activatio  (None, 16, 16, 728)  0          ['block6_sepconv2_bn[0][0]']     \n",
      " n)                                                                                               \n",
      "                                                                                                  \n",
      " block6_sepconv3 (SeparableConv  (None, 16, 16, 728)  536536     ['block6_sepconv3_act[0][0]']    \n",
      " 2D)                                                                                              \n",
      "                                                                                                  \n",
      " block6_sepconv3_bn (BatchNorma  (None, 16, 16, 728)  2912       ['block6_sepconv3[0][0]']        \n",
      " lization)                                                                                        \n",
      "                                                                                                  \n",
      " add_4 (Add)                    (None, 16, 16, 728)  0           ['block6_sepconv3_bn[0][0]',     \n",
      "                                                                  'add_3[0][0]']                  \n",
      "                                                                                                  \n",
      " block7_sepconv1_act (Activatio  (None, 16, 16, 728)  0          ['add_4[0][0]']                  \n"
     ]
    },
    {
     "name": "stdout",
     "output_type": "stream",
     "text": [
      " n)                                                                                               \n",
      "                                                                                                  \n",
      " block7_sepconv1 (SeparableConv  (None, 16, 16, 728)  536536     ['block7_sepconv1_act[0][0]']    \n",
      " 2D)                                                                                              \n",
      "                                                                                                  \n",
      " block7_sepconv1_bn (BatchNorma  (None, 16, 16, 728)  2912       ['block7_sepconv1[0][0]']        \n",
      " lization)                                                                                        \n",
      "                                                                                                  \n",
      " block7_sepconv2_act (Activatio  (None, 16, 16, 728)  0          ['block7_sepconv1_bn[0][0]']     \n",
      " n)                                                                                               \n",
      "                                                                                                  \n",
      " block7_sepconv2 (SeparableConv  (None, 16, 16, 728)  536536     ['block7_sepconv2_act[0][0]']    \n",
      " 2D)                                                                                              \n",
      "                                                                                                  \n",
      " block7_sepconv2_bn (BatchNorma  (None, 16, 16, 728)  2912       ['block7_sepconv2[0][0]']        \n",
      " lization)                                                                                        \n",
      "                                                                                                  \n",
      " block7_sepconv3_act (Activatio  (None, 16, 16, 728)  0          ['block7_sepconv2_bn[0][0]']     \n",
      " n)                                                                                               \n",
      "                                                                                                  \n",
      " block7_sepconv3 (SeparableConv  (None, 16, 16, 728)  536536     ['block7_sepconv3_act[0][0]']    \n",
      " 2D)                                                                                              \n",
      "                                                                                                  \n",
      " block7_sepconv3_bn (BatchNorma  (None, 16, 16, 728)  2912       ['block7_sepconv3[0][0]']        \n",
      " lization)                                                                                        \n",
      "                                                                                                  \n",
      " add_5 (Add)                    (None, 16, 16, 728)  0           ['block7_sepconv3_bn[0][0]',     \n",
      "                                                                  'add_4[0][0]']                  \n",
      "                                                                                                  \n",
      " block8_sepconv1_act (Activatio  (None, 16, 16, 728)  0          ['add_5[0][0]']                  \n",
      " n)                                                                                               \n",
      "                                                                                                  \n",
      " block8_sepconv1 (SeparableConv  (None, 16, 16, 728)  536536     ['block8_sepconv1_act[0][0]']    \n",
      " 2D)                                                                                              \n",
      "                                                                                                  \n",
      " block8_sepconv1_bn (BatchNorma  (None, 16, 16, 728)  2912       ['block8_sepconv1[0][0]']        \n",
      " lization)                                                                                        \n",
      "                                                                                                  \n",
      " block8_sepconv2_act (Activatio  (None, 16, 16, 728)  0          ['block8_sepconv1_bn[0][0]']     \n",
      " n)                                                                                               \n",
      "                                                                                                  \n",
      " block8_sepconv2 (SeparableConv  (None, 16, 16, 728)  536536     ['block8_sepconv2_act[0][0]']    \n",
      " 2D)                                                                                              \n",
      "                                                                                                  \n",
      " block8_sepconv2_bn (BatchNorma  (None, 16, 16, 728)  2912       ['block8_sepconv2[0][0]']        \n",
      " lization)                                                                                        \n",
      "                                                                                                  \n",
      " block8_sepconv3_act (Activatio  (None, 16, 16, 728)  0          ['block8_sepconv2_bn[0][0]']     \n",
      " n)                                                                                               \n",
      "                                                                                                  \n",
      " block8_sepconv3 (SeparableConv  (None, 16, 16, 728)  536536     ['block8_sepconv3_act[0][0]']    \n",
      " 2D)                                                                                              \n",
      "                                                                                                  \n",
      " block8_sepconv3_bn (BatchNorma  (None, 16, 16, 728)  2912       ['block8_sepconv3[0][0]']        \n",
      " lization)                                                                                        \n",
      "                                                                                                  \n",
      " add_6 (Add)                    (None, 16, 16, 728)  0           ['block8_sepconv3_bn[0][0]',     \n",
      "                                                                  'add_5[0][0]']                  \n",
      "                                                                                                  \n",
      " block9_sepconv1_act (Activatio  (None, 16, 16, 728)  0          ['add_6[0][0]']                  \n",
      " n)                                                                                               \n",
      "                                                                                                  \n",
      " block9_sepconv1 (SeparableConv  (None, 16, 16, 728)  536536     ['block9_sepconv1_act[0][0]']    \n",
      " 2D)                                                                                              \n",
      "                                                                                                  \n",
      " block9_sepconv1_bn (BatchNorma  (None, 16, 16, 728)  2912       ['block9_sepconv1[0][0]']        \n",
      " lization)                                                                                        \n",
      "                                                                                                  \n",
      " block9_sepconv2_act (Activatio  (None, 16, 16, 728)  0          ['block9_sepconv1_bn[0][0]']     \n",
      " n)                                                                                               \n",
      "                                                                                                  \n",
      " block9_sepconv2 (SeparableConv  (None, 16, 16, 728)  536536     ['block9_sepconv2_act[0][0]']    \n",
      " 2D)                                                                                              \n",
      "                                                                                                  \n",
      " block9_sepconv2_bn (BatchNorma  (None, 16, 16, 728)  2912       ['block9_sepconv2[0][0]']        \n",
      " lization)                                                                                        \n",
      "                                                                                                  \n",
      " block9_sepconv3_act (Activatio  (None, 16, 16, 728)  0          ['block9_sepconv2_bn[0][0]']     \n",
      " n)                                                                                               \n",
      "                                                                                                  \n",
      " block9_sepconv3 (SeparableConv  (None, 16, 16, 728)  536536     ['block9_sepconv3_act[0][0]']    \n",
      " 2D)                                                                                              \n",
      "                                                                                                  \n"
     ]
    },
    {
     "name": "stdout",
     "output_type": "stream",
     "text": [
      " block9_sepconv3_bn (BatchNorma  (None, 16, 16, 728)  2912       ['block9_sepconv3[0][0]']        \n",
      " lization)                                                                                        \n",
      "                                                                                                  \n",
      " add_7 (Add)                    (None, 16, 16, 728)  0           ['block9_sepconv3_bn[0][0]',     \n",
      "                                                                  'add_6[0][0]']                  \n",
      "                                                                                                  \n",
      " block10_sepconv1_act (Activati  (None, 16, 16, 728)  0          ['add_7[0][0]']                  \n",
      " on)                                                                                              \n",
      "                                                                                                  \n",
      " block10_sepconv1 (SeparableCon  (None, 16, 16, 728)  536536     ['block10_sepconv1_act[0][0]']   \n",
      " v2D)                                                                                             \n",
      "                                                                                                  \n",
      " block10_sepconv1_bn (BatchNorm  (None, 16, 16, 728)  2912       ['block10_sepconv1[0][0]']       \n",
      " alization)                                                                                       \n",
      "                                                                                                  \n",
      " block10_sepconv2_act (Activati  (None, 16, 16, 728)  0          ['block10_sepconv1_bn[0][0]']    \n",
      " on)                                                                                              \n",
      "                                                                                                  \n",
      " block10_sepconv2 (SeparableCon  (None, 16, 16, 728)  536536     ['block10_sepconv2_act[0][0]']   \n",
      " v2D)                                                                                             \n",
      "                                                                                                  \n",
      " block10_sepconv2_bn (BatchNorm  (None, 16, 16, 728)  2912       ['block10_sepconv2[0][0]']       \n",
      " alization)                                                                                       \n",
      "                                                                                                  \n",
      " block10_sepconv3_act (Activati  (None, 16, 16, 728)  0          ['block10_sepconv2_bn[0][0]']    \n",
      " on)                                                                                              \n",
      "                                                                                                  \n",
      " block10_sepconv3 (SeparableCon  (None, 16, 16, 728)  536536     ['block10_sepconv3_act[0][0]']   \n",
      " v2D)                                                                                             \n",
      "                                                                                                  \n",
      " block10_sepconv3_bn (BatchNorm  (None, 16, 16, 728)  2912       ['block10_sepconv3[0][0]']       \n",
      " alization)                                                                                       \n",
      "                                                                                                  \n",
      " add_8 (Add)                    (None, 16, 16, 728)  0           ['block10_sepconv3_bn[0][0]',    \n",
      "                                                                  'add_7[0][0]']                  \n",
      "                                                                                                  \n",
      " block11_sepconv1_act (Activati  (None, 16, 16, 728)  0          ['add_8[0][0]']                  \n",
      " on)                                                                                              \n",
      "                                                                                                  \n",
      " block11_sepconv1 (SeparableCon  (None, 16, 16, 728)  536536     ['block11_sepconv1_act[0][0]']   \n",
      " v2D)                                                                                             \n",
      "                                                                                                  \n",
      " block11_sepconv1_bn (BatchNorm  (None, 16, 16, 728)  2912       ['block11_sepconv1[0][0]']       \n",
      " alization)                                                                                       \n",
      "                                                                                                  \n",
      " block11_sepconv2_act (Activati  (None, 16, 16, 728)  0          ['block11_sepconv1_bn[0][0]']    \n",
      " on)                                                                                              \n",
      "                                                                                                  \n",
      " block11_sepconv2 (SeparableCon  (None, 16, 16, 728)  536536     ['block11_sepconv2_act[0][0]']   \n",
      " v2D)                                                                                             \n",
      "                                                                                                  \n",
      " block11_sepconv2_bn (BatchNorm  (None, 16, 16, 728)  2912       ['block11_sepconv2[0][0]']       \n",
      " alization)                                                                                       \n",
      "                                                                                                  \n",
      " block11_sepconv3_act (Activati  (None, 16, 16, 728)  0          ['block11_sepconv2_bn[0][0]']    \n",
      " on)                                                                                              \n",
      "                                                                                                  \n",
      " block11_sepconv3 (SeparableCon  (None, 16, 16, 728)  536536     ['block11_sepconv3_act[0][0]']   \n",
      " v2D)                                                                                             \n",
      "                                                                                                  \n",
      " block11_sepconv3_bn (BatchNorm  (None, 16, 16, 728)  2912       ['block11_sepconv3[0][0]']       \n",
      " alization)                                                                                       \n",
      "                                                                                                  \n",
      " add_9 (Add)                    (None, 16, 16, 728)  0           ['block11_sepconv3_bn[0][0]',    \n",
      "                                                                  'add_8[0][0]']                  \n",
      "                                                                                                  \n",
      " block12_sepconv1_act (Activati  (None, 16, 16, 728)  0          ['add_9[0][0]']                  \n",
      " on)                                                                                              \n",
      "                                                                                                  \n",
      " block12_sepconv1 (SeparableCon  (None, 16, 16, 728)  536536     ['block12_sepconv1_act[0][0]']   \n",
      " v2D)                                                                                             \n",
      "                                                                                                  \n",
      " block12_sepconv1_bn (BatchNorm  (None, 16, 16, 728)  2912       ['block12_sepconv1[0][0]']       \n",
      " alization)                                                                                       \n",
      "                                                                                                  \n",
      " block12_sepconv2_act (Activati  (None, 16, 16, 728)  0          ['block12_sepconv1_bn[0][0]']    \n",
      " on)                                                                                              \n",
      "                                                                                                  \n",
      " block12_sepconv2 (SeparableCon  (None, 16, 16, 728)  536536     ['block12_sepconv2_act[0][0]']   \n",
      " v2D)                                                                                             \n",
      "                                                                                                  \n",
      " block12_sepconv2_bn (BatchNorm  (None, 16, 16, 728)  2912       ['block12_sepconv2[0][0]']       \n",
      " alization)                                                                                       \n"
     ]
    },
    {
     "name": "stdout",
     "output_type": "stream",
     "text": [
      "                                                                                                  \n",
      " block12_sepconv3_act (Activati  (None, 16, 16, 728)  0          ['block12_sepconv2_bn[0][0]']    \n",
      " on)                                                                                              \n",
      "                                                                                                  \n",
      " block12_sepconv3 (SeparableCon  (None, 16, 16, 728)  536536     ['block12_sepconv3_act[0][0]']   \n",
      " v2D)                                                                                             \n",
      "                                                                                                  \n",
      " block12_sepconv3_bn (BatchNorm  (None, 16, 16, 728)  2912       ['block12_sepconv3[0][0]']       \n",
      " alization)                                                                                       \n",
      "                                                                                                  \n",
      " add_10 (Add)                   (None, 16, 16, 728)  0           ['block12_sepconv3_bn[0][0]',    \n",
      "                                                                  'add_9[0][0]']                  \n",
      "                                                                                                  \n",
      " block13_sepconv1_act (Activati  (None, 16, 16, 728)  0          ['add_10[0][0]']                 \n",
      " on)                                                                                              \n",
      "                                                                                                  \n",
      " block13_sepconv1 (SeparableCon  (None, 16, 16, 728)  536536     ['block13_sepconv1_act[0][0]']   \n",
      " v2D)                                                                                             \n",
      "                                                                                                  \n",
      " block13_sepconv1_bn (BatchNorm  (None, 16, 16, 728)  2912       ['block13_sepconv1[0][0]']       \n",
      " alization)                                                                                       \n",
      "                                                                                                  \n",
      " block13_sepconv2_act (Activati  (None, 16, 16, 728)  0          ['block13_sepconv1_bn[0][0]']    \n",
      " on)                                                                                              \n",
      "                                                                                                  \n",
      " block13_sepconv2 (SeparableCon  (None, 16, 16, 1024  752024     ['block13_sepconv2_act[0][0]']   \n",
      " v2D)                           )                                                                 \n",
      "                                                                                                  \n",
      " block13_sepconv2_bn (BatchNorm  (None, 16, 16, 1024  4096       ['block13_sepconv2[0][0]']       \n",
      " alization)                     )                                                                 \n",
      "                                                                                                  \n",
      " conv2d_3 (Conv2D)              (None, 8, 8, 1024)   745472      ['add_10[0][0]']                 \n",
      "                                                                                                  \n",
      " block13_pool (MaxPooling2D)    (None, 8, 8, 1024)   0           ['block13_sepconv2_bn[0][0]']    \n",
      "                                                                                                  \n",
      " batch_normalization_3 (BatchNo  (None, 8, 8, 1024)  4096        ['conv2d_3[0][0]']               \n",
      " rmalization)                                                                                     \n",
      "                                                                                                  \n",
      " add_11 (Add)                   (None, 8, 8, 1024)   0           ['block13_pool[0][0]',           \n",
      "                                                                  'batch_normalization_3[0][0]']  \n",
      "                                                                                                  \n",
      " block14_sepconv1 (SeparableCon  (None, 8, 8, 1536)  1582080     ['add_11[0][0]']                 \n",
      " v2D)                                                                                             \n",
      "                                                                                                  \n",
      " block14_sepconv1_bn (BatchNorm  (None, 8, 8, 1536)  6144        ['block14_sepconv1[0][0]']       \n",
      " alization)                                                                                       \n",
      "                                                                                                  \n",
      " block14_sepconv1_act (Activati  (None, 8, 8, 1536)  0           ['block14_sepconv1_bn[0][0]']    \n",
      " on)                                                                                              \n",
      "                                                                                                  \n",
      " block14_sepconv2 (SeparableCon  (None, 8, 8, 2048)  3159552     ['block14_sepconv1_act[0][0]']   \n",
      " v2D)                                                                                             \n",
      "                                                                                                  \n",
      " block14_sepconv2_bn (BatchNorm  (None, 8, 8, 2048)  8192        ['block14_sepconv2[0][0]']       \n",
      " alization)                                                                                       \n",
      "                                                                                                  \n",
      " block14_sepconv2_act (Activati  (None, 8, 8, 2048)  0           ['block14_sepconv2_bn[0][0]']    \n",
      " on)                                                                                              \n",
      "                                                                                                  \n",
      " flatten (Flatten)              (None, 131072)       0           ['block14_sepconv2_act[0][0]']   \n",
      "                                                                                                  \n",
      " dropout (Dropout)              (None, 131072)       0           ['flatten[0][0]']                \n",
      "                                                                                                  \n",
      " dense (Dense)                  (None, 1024)         134218752   ['dropout[0][0]']                \n",
      "                                                                                                  \n",
      " batch_normalization_4 (BatchNo  (None, 1024)        4096        ['dense[0][0]']                  \n",
      " rmalization)                                                                                     \n",
      "                                                                                                  \n",
      " dropout_1 (Dropout)            (None, 1024)         0           ['batch_normalization_4[0][0]']  \n",
      "                                                                                                  \n",
      " dense_1 (Dense)                (None, 512)          524800      ['dropout_1[0][0]']              \n",
      "                                                                                                  \n",
      " batch_normalization_5 (BatchNo  (None, 512)         2048        ['dense_1[0][0]']                \n",
      " rmalization)                                                                                     \n",
      "                                                                                                  \n",
      " dense_2 (Dense)                (None, 256)          131328      ['batch_normalization_5[0][0]']  \n",
      "                                                                                                  \n",
      " dense_3 (Dense)                (None, 128)          32896       ['dense_2[0][0]']                \n",
      "                                                                                                  \n",
      " dense_4 (Dense)                (None, 64)           8256        ['dense_3[0][0]']                \n",
      "                                                                                                  \n",
      " dense_5 (Dense)                (None, 2)            130         ['dense_4[0][0]']                \n",
      "                                                                                                  \n"
     ]
    },
    {
     "name": "stdout",
     "output_type": "stream",
     "text": [
      "==================================================================================================\n",
      "Total params: 155,783,786\n",
      "Trainable params: 134,919,234\n",
      "Non-trainable params: 20,864,552\n",
      "__________________________________________________________________________________________________\n"
     ]
    }
   ],
   "source": [
    "model.summary()"
   ]
  },
  {
   "cell_type": "code",
   "execution_count": null,
   "id": "6dc4d81c",
   "metadata": {},
   "outputs": [],
   "source": []
  },
  {
   "cell_type": "code",
   "execution_count": null,
   "id": "f125c4b2",
   "metadata": {},
   "outputs": [],
   "source": []
  },
  {
   "cell_type": "markdown",
   "id": "c3fc2512",
   "metadata": {
    "papermill": {
     "duration": 0.01157,
     "end_time": "2023-03-29T12:41:27.320048",
     "exception": false,
     "start_time": "2023-03-29T12:41:27.308478",
     "status": "completed"
    },
    "tags": []
   },
   "source": [
    "## Optimization"
   ]
  },
  {
   "cell_type": "code",
   "execution_count": 13,
   "id": "6c23b2b2",
   "metadata": {
    "execution": {
     "iopub.execute_input": "2023-03-29T12:41:27.344749Z",
     "iopub.status.busy": "2023-03-29T12:41:27.343819Z",
     "iopub.status.idle": "2023-03-29T12:41:27.348978Z",
     "shell.execute_reply": "2023-03-29T12:41:27.347913Z"
    },
    "papermill": {
     "duration": 0.019578,
     "end_time": "2023-03-29T12:41:27.351096",
     "exception": false,
     "start_time": "2023-03-29T12:41:27.331518",
     "status": "completed"
    },
    "tags": []
   },
   "outputs": [],
   "source": [
    "reduce_lr = ReduceLROnPlateau(monitor='val_accuracy', factor=0.5, patience=2)\n",
    "\n",
    "early = tf.keras.callbacks.EarlyStopping(monitor='loss', patience=3)"
   ]
  },
  {
   "cell_type": "markdown",
   "id": "8d14a7fc",
   "metadata": {
    "papermill": {
     "duration": 0.010853,
     "end_time": "2023-03-29T12:41:27.372955",
     "exception": false,
     "start_time": "2023-03-29T12:41:27.362102",
     "status": "completed"
    },
    "tags": []
   },
   "source": [
    "## Compiling Model"
   ]
  },
  {
   "cell_type": "code",
   "execution_count": 14,
   "id": "c1b93b4f",
   "metadata": {
    "execution": {
     "iopub.execute_input": "2023-03-29T12:41:27.396356Z",
     "iopub.status.busy": "2023-03-29T12:41:27.396054Z",
     "iopub.status.idle": "2023-03-29T12:41:27.415150Z",
     "shell.execute_reply": "2023-03-29T12:41:27.414225Z"
    },
    "id": "onWkMLGkVj_x",
    "papermill": {
     "duration": 0.033112,
     "end_time": "2023-03-29T12:41:27.417100",
     "exception": false,
     "start_time": "2023-03-29T12:41:27.383988",
     "status": "completed"
    },
    "tags": []
   },
   "outputs": [],
   "source": [
    "# model.compile(optimizer='adam', loss='binary_crossentropy', metrics=['accuracy'])\n",
    "\n",
    "model.compile(optimizer='sgd', loss='categorical_crossentropy', metrics=['accuracy'])"
   ]
  },
  {
   "cell_type": "markdown",
   "id": "b7219014",
   "metadata": {
    "id": "UrGXm4MkKIr7",
    "papermill": {
     "duration": 0.010883,
     "end_time": "2023-03-29T12:41:27.439110",
     "exception": false,
     "start_time": "2023-03-29T12:41:27.428227",
     "status": "completed"
    },
    "tags": []
   },
   "source": [
    "## Training"
   ]
  },
  {
   "cell_type": "code",
   "execution_count": 15,
   "id": "8f7e6f93",
   "metadata": {
    "execution": {
     "iopub.execute_input": "2023-03-29T12:41:27.462884Z",
     "iopub.status.busy": "2023-03-29T12:41:27.462575Z",
     "iopub.status.idle": "2023-03-29T19:31:26.094578Z",
     "shell.execute_reply": "2023-03-29T19:31:26.093462Z"
    },
    "id": "T7LwpawHGgs6",
    "outputId": "80e6e6ed-18ce-4cfc-f0ba-d93b25d41615",
    "papermill": {
     "duration": 24602.578574,
     "end_time": "2023-03-29T19:31:30.029076",
     "exception": false,
     "start_time": "2023-03-29T12:41:27.450502",
     "status": "completed"
    },
    "scrolled": false,
    "tags": []
   },
   "outputs": [
    {
     "name": "stdout",
     "output_type": "stream",
     "text": [
      "Epoch 1/40\n",
      "9/9 [==============================] - 13s 715ms/step - loss: 0.8563 - accuracy: 0.6571 - val_loss: 0.5419 - val_accuracy: 0.7000 - lr: 0.0100\n",
      "Epoch 2/40\n",
      "9/9 [==============================] - 4s 455ms/step - loss: 0.4155 - accuracy: 0.7857 - val_loss: 0.5771 - val_accuracy: 0.7000 - lr: 0.0100\n",
      "Epoch 3/40\n",
      "9/9 [==============================] - 4s 479ms/step - loss: 0.3636 - accuracy: 0.8286 - val_loss: 0.2953 - val_accuracy: 0.8667 - lr: 0.0100\n",
      "Epoch 4/40\n",
      "9/9 [==============================] - 4s 469ms/step - loss: 0.3513 - accuracy: 0.8500 - val_loss: 0.4215 - val_accuracy: 0.7667 - lr: 0.0100\n",
      "Epoch 5/40\n",
      "9/9 [==============================] - 4s 444ms/step - loss: 0.3705 - accuracy: 0.8571 - val_loss: 0.2643 - val_accuracy: 0.9000 - lr: 0.0100\n",
      "Epoch 6/40\n",
      "9/9 [==============================] - 4s 422ms/step - loss: 0.4313 - accuracy: 0.8143 - val_loss: 0.4391 - val_accuracy: 0.7333 - lr: 0.0100\n",
      "Epoch 7/40\n",
      "9/9 [==============================] - 4s 404ms/step - loss: 0.3464 - accuracy: 0.8214 - val_loss: 0.2920 - val_accuracy: 0.9333 - lr: 0.0100\n",
      "Epoch 8/40\n",
      "9/9 [==============================] - 4s 413ms/step - loss: 0.3045 - accuracy: 0.8571 - val_loss: 0.3787 - val_accuracy: 0.8333 - lr: 0.0100\n",
      "Epoch 9/40\n",
      "9/9 [==============================] - 4s 398ms/step - loss: 0.2489 - accuracy: 0.9000 - val_loss: 0.3560 - val_accuracy: 0.8000 - lr: 0.0100\n",
      "Epoch 10/40\n",
      "9/9 [==============================] - 4s 396ms/step - loss: 0.2018 - accuracy: 0.9357 - val_loss: 0.3854 - val_accuracy: 0.8333 - lr: 0.0050\n",
      "Epoch 11/40\n",
      "9/9 [==============================] - 4s 400ms/step - loss: 0.2183 - accuracy: 0.9071 - val_loss: 0.2905 - val_accuracy: 0.8667 - lr: 0.0050\n",
      "Epoch 12/40\n",
      "9/9 [==============================] - 4s 438ms/step - loss: 0.2079 - accuracy: 0.9286 - val_loss: 0.2553 - val_accuracy: 0.8333 - lr: 0.0025\n",
      "Epoch 13/40\n",
      "9/9 [==============================] - 4s 392ms/step - loss: 0.2645 - accuracy: 0.9000 - val_loss: 0.2190 - val_accuracy: 0.9333 - lr: 0.0025\n"
     ]
    }
   ],
   "source": [
    "history = model.fit(\n",
    "    training_set,\n",
    "    validation_data=val_set,\n",
    "    epochs=40,\n",
    "    callbacks=[reduce_lr, early]\n",
    ")"
   ]
  },
  {
   "cell_type": "markdown",
   "id": "f93be814",
   "metadata": {
    "id": "wqvMA-ZuKdG6",
    "papermill": {
     "duration": 3.957571,
     "end_time": "2023-03-29T19:31:37.740673",
     "exception": false,
     "start_time": "2023-03-29T19:31:33.783102",
     "status": "completed"
    },
    "tags": []
   },
   "source": [
    "## Evaluating Model"
   ]
  },
  {
   "cell_type": "code",
   "execution_count": 16,
   "id": "b20018a6",
   "metadata": {
    "execution": {
     "iopub.execute_input": "2023-03-29T19:31:45.641059Z",
     "iopub.status.busy": "2023-03-29T19:31:45.640016Z",
     "iopub.status.idle": "2023-03-29T19:32:04.191348Z",
     "shell.execute_reply": "2023-03-29T19:32:04.190382Z"
    },
    "id": "Lf56gnUUZ8PB",
    "papermill": {
     "duration": 22.290076,
     "end_time": "2023-03-29T19:32:04.193426",
     "exception": false,
     "start_time": "2023-03-29T19:31:41.903350",
     "status": "completed"
    },
    "tags": []
   },
   "outputs": [
    {
     "name": "stdout",
     "output_type": "stream",
     "text": [
      "Evaluating on test data ....\n",
      "2/2 [==============================] - 0s 166ms/step - loss: 0.1740 - accuracy: 0.9333\n",
      "test loss, test acc: [0.17402274906635284, 0.9333333373069763]\n"
     ]
    }
   ],
   "source": [
    "print(\"Evaluating on test data ....\")\n",
    "results = model.evaluate(test_set, batch_size=Batch)\n",
    "print(\"test loss, test acc:\", results)"
   ]
  },
  {
   "cell_type": "markdown",
   "id": "fcc5c44d",
   "metadata": {
    "id": "oAttfdbALKT-",
    "papermill": {
     "duration": 4.431841,
     "end_time": "2023-03-29T19:32:12.591079",
     "exception": false,
     "start_time": "2023-03-29T19:32:08.159238",
     "status": "completed"
    },
    "tags": []
   },
   "source": [
    "## Saving History"
   ]
  },
  {
   "cell_type": "markdown",
   "id": "e724ea70",
   "metadata": {
    "papermill": {
     "duration": 3.780717,
     "end_time": "2023-03-29T19:32:28.174703",
     "exception": false,
     "start_time": "2023-03-29T19:32:24.393986",
     "status": "completed"
    },
    "tags": []
   },
   "source": [
    "## Plotting Curves"
   ]
  },
  {
   "cell_type": "code",
   "execution_count": 17,
   "id": "c0e691b3",
   "metadata": {
    "execution": {
     "iopub.execute_input": "2023-03-29T19:32:35.900597Z",
     "iopub.status.busy": "2023-03-29T19:32:35.899543Z",
     "iopub.status.idle": "2023-03-29T19:32:35.906330Z",
     "shell.execute_reply": "2023-03-29T19:32:35.905245Z"
    },
    "papermill": {
     "duration": 3.905151,
     "end_time": "2023-03-29T19:32:35.908479",
     "exception": false,
     "start_time": "2023-03-29T19:32:32.003328",
     "status": "completed"
    },
    "tags": []
   },
   "outputs": [],
   "source": [
    "def plot(history):\n",
    "    fig, axes = plt.subplots(1, 2, figsize=(10, 4))\n",
    "    axes[0].plot(history[\"loss\"], \"r-\", history[\"val_loss\"], \"b-\", linewidth=0.5)\n",
    "    axes[0].set_title(\"Loss\")\n",
    "    axes[1].plot(history[\"accuracy\"], \"r-\", history[\"val_accuracy\"], \"b-\", linewidth=0.5)\n",
    "    axes[1].set_title(\"Accuracy\")\n",
    "    fig.tight_layout()\n",
    "    fig.show()"
   ]
  },
  {
   "cell_type": "code",
   "execution_count": 18,
   "id": "2a9e5916",
   "metadata": {
    "execution": {
     "iopub.execute_input": "2023-03-29T19:32:44.282699Z",
     "iopub.status.busy": "2023-03-29T19:32:44.282280Z",
     "iopub.status.idle": "2023-03-29T19:32:44.686056Z",
     "shell.execute_reply": "2023-03-29T19:32:44.685075Z"
    },
    "papermill": {
     "duration": 4.8748,
     "end_time": "2023-03-29T19:32:44.688303",
     "exception": false,
     "start_time": "2023-03-29T19:32:39.813503",
     "status": "completed"
    },
    "tags": []
   },
   "outputs": [
    {
     "data": {
      "image/png": "[encoded data removed]",
      "text/plain": [
       "<Figure size 1000x400 with 2 Axes>"
      ]
     },
     "metadata": {},
     "output_type": "display_data"
    }
   ],
   "source": [
    "plot(history.history)"
   ]
  },
  {
   "cell_type": "markdown",
   "id": "517df935",
   "metadata": {
    "id": "_6YrqxNiK74j",
    "papermill": {
     "duration": 3.858959,
     "end_time": "2023-03-29T19:32:52.321522",
     "exception": false,
     "start_time": "2023-03-29T19:32:48.462563",
     "status": "completed"
    },
    "tags": []
   },
   "source": [
    "### Accuracy vs Epochs"
   ]
  },
  {
   "cell_type": "code",
   "execution_count": 19,
   "id": "ce5dee9a",
   "metadata": {
    "execution": {
     "iopub.execute_input": "2023-03-29T19:33:00.058879Z",
     "iopub.status.busy": "2023-03-29T19:33:00.058517Z",
     "iopub.status.idle": "2023-03-29T19:33:00.276759Z",
     "shell.execute_reply": "2023-03-29T19:33:00.275830Z"
    },
    "id": "sdB7_fjsaa5z",
    "papermill": {
     "duration": 3.9849,
     "end_time": "2023-03-29T19:33:00.278890",
     "exception": false,
     "start_time": "2023-03-29T19:32:56.293990",
     "status": "completed"
    },
    "tags": []
   },
   "outputs": [
    {
     "data": {
      "image/png": "[encoded data removed]",
      "text/plain": [
       "<Figure size 640x480 with 1 Axes>"
      ]
     },
     "metadata": {},
     "output_type": "display_data"
    }
   ],
   "source": [
    "plt.plot(history.history['accuracy'])\n",
    "plt.plot(history.history['val_accuracy'])\n",
    "plt.title('model accuracy')\n",
    "plt.ylabel('accuracy')\n",
    "plt.xlabel('epoch')\n",
    "plt.legend(['train', 'test'], loc='upper left')\n",
    "plt.show()"
   ]
  },
  {
   "cell_type": "markdown",
   "id": "2209bb76",
   "metadata": {
    "id": "2Y77bbOVLAhu",
    "papermill": {
     "duration": 3.93183,
     "end_time": "2023-03-29T19:33:07.998022",
     "exception": false,
     "start_time": "2023-03-29T19:33:04.066192",
     "status": "completed"
    },
    "tags": []
   },
   "source": [
    "### Loss vs Epochs"
   ]
  },
  {
   "cell_type": "code",
   "execution_count": 20,
   "id": "75499e6e",
   "metadata": {
    "execution": {
     "iopub.execute_input": "2023-03-29T19:33:16.357518Z",
     "iopub.status.busy": "2023-03-29T19:33:16.357066Z",
     "iopub.status.idle": "2023-03-29T19:33:16.571878Z",
     "shell.execute_reply": "2023-03-29T19:33:16.570943Z"
    },
    "id": "_GV-kvZqKydx",
    "papermill": {
     "duration": 4.649906,
     "end_time": "2023-03-29T19:33:16.574438",
     "exception": false,
     "start_time": "2023-03-29T19:33:11.924532",
     "status": "completed"
    },
    "tags": []
   },
   "outputs": [
    {
     "data": {
      "image/png": "[encoded data removed]",
      "text/plain": [
       "<Figure size 640x480 with 1 Axes>"
      ]
     },
     "metadata": {},
     "output_type": "display_data"
    }
   ],
   "source": [
    "plt.plot(history.history['loss'])\n",
    "plt.plot(history.history['val_loss'])\n",
    "plt.title('model loss')\n",
    "plt.ylabel('loss')\n",
    "plt.xlabel('epoch')\n",
    "plt.legend(['train', 'test'], loc='upper left')\n",
    "plt.show()"
   ]
  },
  {
   "cell_type": "markdown",
   "id": "bdb6b9b1",
   "metadata": {
    "papermill": {
     "duration": 3.771053,
     "end_time": "2023-03-29T19:33:24.279005",
     "exception": false,
     "start_time": "2023-03-29T19:33:20.507952",
     "status": "completed"
    },
    "tags": []
   },
   "source": [
    "### Confusion Matrix"
   ]
  },
  {
   "cell_type": "code",
   "execution_count": 21,
   "id": "703ea1cb",
   "metadata": {
    "execution": {
     "iopub.execute_input": "2023-03-29T19:33:32.133224Z",
     "iopub.status.busy": "2023-03-29T19:33:32.132125Z",
     "iopub.status.idle": "2023-03-29T19:33:43.318662Z",
     "shell.execute_reply": "2023-03-29T19:33:43.317621Z"
    },
    "papermill": {
     "duration": 14.971482,
     "end_time": "2023-03-29T19:33:43.321435",
     "exception": false,
     "start_time": "2023-03-29T19:33:28.349953",
     "status": "completed"
    },
    "tags": []
   },
   "outputs": [],
   "source": [
    "Y_pred = np.argmax(model.predict_generator(test_set), axis=1)\n",
    "Y_test = test_set.classes"
   ]
  },
  {
   "cell_type": "code",
   "execution_count": 22,
   "id": "70a29784",
   "metadata": {
    "execution": {
     "iopub.execute_input": "2023-03-29T19:33:51.546269Z",
     "iopub.status.busy": "2023-03-29T19:33:51.545880Z",
     "iopub.status.idle": "2023-03-29T19:33:51.553252Z",
     "shell.execute_reply": "2023-03-29T19:33:51.552121Z"
    },
    "papermill": {
     "duration": 4.236474,
     "end_time": "2023-03-29T19:33:51.556045",
     "exception": false,
     "start_time": "2023-03-29T19:33:47.319571",
     "status": "completed"
    },
    "tags": []
   },
   "outputs": [
    {
     "name": "stdout",
     "output_type": "stream",
     "text": [
      "Confusion Matrix : \n",
      " [[15  0]\n",
      " [ 2 13]]\n"
     ]
    }
   ],
   "source": [
    "cm = confusion_matrix(Y_test, Y_pred)\n",
    "print('Confusion Matrix : \\n', cm)"
   ]
  },
  {
   "cell_type": "code",
   "execution_count": 23,
   "id": "3bcada41",
   "metadata": {
    "execution": {
     "iopub.execute_input": "2023-03-29T19:33:59.147793Z",
     "iopub.status.busy": "2023-03-29T19:33:59.147416Z",
     "iopub.status.idle": "2023-03-29T19:33:59.580028Z",
     "shell.execute_reply": "2023-03-29T19:33:59.578929Z"
    },
    "papermill": {
     "duration": 4.261798,
     "end_time": "2023-03-29T19:33:59.582297",
     "exception": false,
     "start_time": "2023-03-29T19:33:55.320499",
     "status": "completed"
    },
    "tags": []
   },
   "outputs": [
    {
     "data": {
      "image/png": "[encoded data removed]",
      "text/plain": [
       "<Figure size 640x480 with 2 Axes>"
      ]
     },
     "metadata": {},
     "output_type": "display_data"
    }
   ],
   "source": [
    "cm = sns.heatmap(confusion_matrix(Y_test, Y_pred), annot=True,fmt=\"d\")"
   ]
  },
  {
   "cell_type": "markdown",
   "id": "4e2f7260",
   "metadata": {
    "papermill": {
     "duration": 4.076178,
     "end_time": "2023-03-29T19:34:23.972511",
     "exception": false,
     "start_time": "2023-03-29T19:34:19.896333",
     "status": "completed"
    },
    "tags": []
   },
   "source": [
    "### Classification Report"
   ]
  },
  {
   "cell_type": "code",
   "execution_count": 24,
   "id": "80cc183f",
   "metadata": {
    "execution": {
     "iopub.execute_input": "2023-03-29T19:34:31.556501Z",
     "iopub.status.busy": "2023-03-29T19:34:31.556128Z",
     "iopub.status.idle": "2023-03-29T19:34:31.567682Z",
     "shell.execute_reply": "2023-03-29T19:34:31.566364Z"
    },
    "papermill": {
     "duration": 3.823602,
     "end_time": "2023-03-29T19:34:31.569862",
     "exception": false,
     "start_time": "2023-03-29T19:34:27.746260",
     "status": "completed"
    },
    "tags": []
   },
   "outputs": [
    {
     "name": "stdout",
     "output_type": "stream",
     "text": [
      "              precision    recall  f1-score   support\n",
      "\n",
      "   colon_aca       0.88      1.00      0.94        15\n",
      "     colon_n       1.00      0.87      0.93        15\n",
      "\n",
      "    accuracy                           0.93        30\n",
      "   macro avg       0.94      0.93      0.93        30\n",
      "weighted avg       0.94      0.93      0.93        30\n",
      "\n"
     ]
    }
   ],
   "source": [
    "print(classification_report(Y_test, Y_pred, target_names = ['colon_aca', 'colon_n']))"
   ]
  },
  {
   "cell_type": "code",
   "execution_count": null,
   "id": "01f2bea3",
   "metadata": {},
   "outputs": [],
   "source": []
  },
  {
   "cell_type": "code",
   "execution_count": 25,
   "id": "7d350e16",
   "metadata": {},
   "outputs": [],
   "source": [
    "from tensorflow.keras.preprocessing import image\n",
    "\n",
    "img = image.load_img(\"TB5.bmp\", target_size=(256,256))              \n",
    "img_array = image.img_to_array(img)\n",
    "img_array = np.expand_dims(img_array, axis=0)  # Add a batch dimension\n",
    "img_array = img_array / 255.0  "
   ]
  },
  {
   "cell_type": "code",
   "execution_count": 26,
   "id": "18293ae5",
   "metadata": {},
   "outputs": [
    {
     "name": "stdout",
     "output_type": "stream",
     "text": [
      "1/1 [==============================] - 1s 1s/step\n"
     ]
    },
    {
     "data": {
      "text/plain": [
       "0"
      ]
     },
     "execution_count": 26,
     "metadata": {},
     "output_type": "execute_result"
    }
   ],
   "source": [
    "pred = model.predict(img_array)\n",
    "np.argmax(pred)"
   ]
  },
  {
   "cell_type": "code",
   "execution_count": 27,
   "id": "2acab9ad",
   "metadata": {},
   "outputs": [
    {
     "data": {
      "text/plain": [
       "0"
      ]
     },
     "execution_count": 27,
     "metadata": {},
     "output_type": "execute_result"
    }
   ],
   "source": [
    "np.argmax(pred)\n",
    "# result = False\n",
    "\n",
    "# if pred >= 0.5:\n",
    "#     result = True\n",
    "\n",
    "# result\n"
   ]
  },
  {
   "cell_type": "code",
   "execution_count": null,
   "id": "e6cec803",
   "metadata": {},
   "outputs": [],
   "source": []
  },
  {
   "cell_type": "code",
   "execution_count": null,
   "id": "8913e337",
   "metadata": {},
   "outputs": [],
   "source": []
  },
  {
   "cell_type": "markdown",
   "id": "964a8759",
   "metadata": {
    "papermill": {
     "duration": 3.750739,
     "end_time": "2023-03-29T19:34:39.355438",
     "exception": false,
     "start_time": "2023-03-29T19:34:35.604699",
     "status": "completed"
    },
    "tags": []
   },
   "source": [
    "### AUC-ROC"
   ]
  },
  {
   "cell_type": "code",
   "execution_count": 28,
   "id": "69b5e65a",
   "metadata": {
    "execution": {
     "iopub.execute_input": "2023-03-29T19:34:47.292054Z",
     "iopub.status.busy": "2023-03-29T19:34:47.291665Z",
     "iopub.status.idle": "2023-03-29T19:34:47.539803Z",
     "shell.execute_reply": "2023-03-29T19:34:47.538806Z"
    },
    "papermill": {
     "duration": 4.224917,
     "end_time": "2023-03-29T19:34:47.542438",
     "exception": false,
     "start_time": "2023-03-29T19:34:43.317521",
     "status": "completed"
    },
    "tags": []
   },
   "outputs": [
    {
     "name": "stdout",
     "output_type": "stream",
     "text": [
      "ROC AUC score: 0.9333333333333333\n"
     ]
    },
    {
     "data": {
      "image/png": "[encoded data removed]",
      "text/plain": [
       "<Figure size 1200x800 with 1 Axes>"
      ]
     },
     "metadata": {},
     "output_type": "display_data"
    }
   ],
   "source": [
    "import matplotlib.pyplot as plt \n",
    "from sklearn.preprocessing import LabelBinarizer\n",
    "from sklearn.metrics import roc_curve, auc, roc_auc_score\n",
    "\n",
    "\n",
    "target= ['ROC curve']\n",
    "\n",
    "# set plot figure size\n",
    "fig, c_ax = plt.subplots(1,1, figsize = (12, 8))\n",
    "\n",
    "# function for scoring roc auc score for multi-class\n",
    "def multiclass_roc_auc_score(y_test, y_pred, average=\"macro\"):\n",
    "    lb = LabelBinarizer()\n",
    "    lb.fit(y_test)\n",
    "    y_test = lb.transform(y_test)\n",
    "    y_pred = lb.transform(y_pred)\n",
    "\n",
    "    for (idx, c_label) in enumerate(target):\n",
    "        fpr, tpr, thresholds = roc_curve(y_test[:,idx].astype(int), y_pred[:,idx])\n",
    "        c_ax.plot(fpr, tpr, label = '%s (AUC:%0.2f)'  % (c_label, auc(fpr, tpr)))\n",
    "    c_ax.plot(fpr, fpr, 'b-', label = 'Random Guessing')\n",
    "    return roc_auc_score(y_test, y_pred, average=average)\n",
    "\n",
    "\n",
    "print('ROC AUC score:', multiclass_roc_auc_score(Y_test, Y_pred))\n",
    "\n",
    "c_ax.legend()\n",
    "c_ax.set_xlabel('False Positive Rate')\n",
    "c_ax.set_ylabel('True Positive Rate')\n",
    "plt.show()"
   ]
  },
  {
   "cell_type": "markdown",
   "id": "699a950a",
   "metadata": {
    "papermill": {
     "duration": 4.03697,
     "end_time": "2023-03-29T19:34:55.874419",
     "exception": false,
     "start_time": "2023-03-29T19:34:51.837449",
     "status": "completed"
    },
    "tags": []
   },
   "source": [
    "### Curves with Seaborn Styling"
   ]
  },
  {
   "cell_type": "code",
   "execution_count": 29,
   "id": "37f61dd8",
   "metadata": {
    "execution": {
     "iopub.execute_input": "2023-03-29T19:35:03.419155Z",
     "iopub.status.busy": "2023-03-29T19:35:03.417960Z",
     "iopub.status.idle": "2023-03-29T19:35:03.423841Z",
     "shell.execute_reply": "2023-03-29T19:35:03.422938Z"
    },
    "papermill": {
     "duration": 3.777855,
     "end_time": "2023-03-29T19:35:03.425823",
     "exception": false,
     "start_time": "2023-03-29T19:34:59.647968",
     "status": "completed"
    },
    "tags": []
   },
   "outputs": [],
   "source": [
    "import seaborn as sns\n",
    "sns.set()"
   ]
  },
  {
   "cell_type": "code",
   "execution_count": 30,
   "id": "bcd70c64",
   "metadata": {
    "execution": {
     "iopub.execute_input": "2023-03-29T19:35:11.166187Z",
     "iopub.status.busy": "2023-03-29T19:35:11.165796Z",
     "iopub.status.idle": "2023-03-29T19:35:11.454759Z",
     "shell.execute_reply": "2023-03-29T19:35:11.453815Z"
    },
    "papermill": {
     "duration": 4.064241,
     "end_time": "2023-03-29T19:35:11.457163",
     "exception": false,
     "start_time": "2023-03-29T19:35:07.392922",
     "status": "completed"
    },
    "tags": []
   },
   "outputs": [
    {
     "name": "stdout",
     "output_type": "stream",
     "text": [
      "ROC AUC score: 0.9333333333333333\n"
     ]
    },
    {
     "data": {
      "image/png": "[encoded data removed]",
      "text/plain": [
       "<Figure size 1200x800 with 1 Axes>"
      ]
     },
     "metadata": {},
     "output_type": "display_data"
    }
   ],
   "source": [
    "import matplotlib.pyplot as plt \n",
    "from sklearn.preprocessing import LabelBinarizer\n",
    "from sklearn.metrics import roc_curve, auc, roc_auc_score\n",
    "\n",
    "\n",
    "target= ['ROC curve']\n",
    "\n",
    "# set plot figure size\n",
    "fig, c_ax = plt.subplots(1,1, figsize = (12, 8))\n",
    "\n",
    "# function for scoring roc auc score for multi-class\n",
    "def multiclass_roc_auc_score(y_test, y_pred, average=\"macro\"):\n",
    "    lb = LabelBinarizer()\n",
    "    lb.fit(y_test)\n",
    "    y_test = lb.transform(y_test)\n",
    "    y_pred = lb.transform(y_pred)\n",
    "\n",
    "    for (idx, c_label) in enumerate(target):\n",
    "        fpr, tpr, thresholds = roc_curve(y_test[:,idx].astype(int), y_pred[:,idx])\n",
    "        c_ax.plot(fpr, tpr, label = '%s (AUC:%0.2f)'  % (c_label, auc(fpr, tpr)))\n",
    "    c_ax.plot(fpr, fpr, 'b-', label = 'Random Guessing')\n",
    "    return roc_auc_score(y_test, y_pred, average=average)\n",
    "\n",
    "\n",
    "print('ROC AUC score:', multiclass_roc_auc_score(Y_test, Y_pred))\n",
    "\n",
    "c_ax.legend()\n",
    "c_ax.set_xlabel('False Positive Rate')\n",
    "c_ax.set_ylabel('True Positive Rate')\n",
    "plt.show()"
   ]
  },
  {
   "cell_type": "code",
   "execution_count": 31,
   "id": "96f6e5f8",
   "metadata": {
    "execution": {
     "iopub.execute_input": "2023-03-29T19:35:19.242302Z",
     "iopub.status.busy": "2023-03-29T19:35:19.241895Z",
     "iopub.status.idle": "2023-03-29T19:35:19.731853Z",
     "shell.execute_reply": "2023-03-29T19:35:19.730873Z"
    },
    "papermill": {
     "duration": 4.450754,
     "end_time": "2023-03-29T19:35:19.734798",
     "exception": false,
     "start_time": "2023-03-29T19:35:15.284044",
     "status": "completed"
    },
    "tags": []
   },
   "outputs": [
    {
     "data": {
      "image/png": "[encoded data removed]",
      "text/plain": [
       "<Figure size 1000x400 with 2 Axes>"
      ]
     },
     "metadata": {},
     "output_type": "display_data"
    }
   ],
   "source": [
    "plot(history.history)"
   ]
  },
  {
   "cell_type": "markdown",
   "id": "0a58f9f5",
   "metadata": {
    "papermill": {
     "duration": 3.831082,
     "end_time": "2023-03-29T19:35:28.070841",
     "exception": false,
     "start_time": "2023-03-29T19:35:24.239759",
     "status": "completed"
    },
    "tags": []
   },
   "source": [
    "### Loss Accuracy Curve"
   ]
  },
  {
   "cell_type": "code",
   "execution_count": 32,
   "id": "f9fa73d5",
   "metadata": {
    "execution": {
     "iopub.execute_input": "2023-03-29T19:35:35.829270Z",
     "iopub.status.busy": "2023-03-29T19:35:35.828863Z",
     "iopub.status.idle": "2023-03-29T19:35:35.842623Z",
     "shell.execute_reply": "2023-03-29T19:35:35.841608Z"
    },
    "papermill": {
     "duration": 3.802452,
     "end_time": "2023-03-29T19:35:35.844917",
     "exception": false,
     "start_time": "2023-03-29T19:35:32.042465",
     "status": "completed"
    },
    "tags": []
   },
   "outputs": [],
   "source": [
    "# def display_training_curves(history, name, model_name, EPOCHS = epochs):\n",
    "#     '''\n",
    "#     Plots the training process\n",
    "#     '''\n",
    "#     fig, (ax1, ax2) = plt.subplots(2, figsize=(20,15))\n",
    "#     fig.suptitle(model_name, size=20)\n",
    "    \n",
    "#     # plot AUC\n",
    "#     ax1.plot(np.arange(EPOCHS),history.history['accuracy'],'-o',\n",
    "#              label='train',color='#ff7f0e')\n",
    "#     ax1.plot(np.arange(EPOCHS),history.history['val_accuracy'],'-o',\n",
    "#              label='val',color='#1f77b4')\n",
    "#     x = np.argmax(history.history['val_accuracy']); y = np.max(history.history['val_accuracy'])\n",
    "#     xdist = plt.xlim()[1] - plt.xlim()[0]; ydist = plt.ylim()[1] - plt.ylim()[0]\n",
    "#     ax1.scatter(x,y,s=200,color='#1f77b4')\n",
    "#     ax1.text(x-0.03*xdist,y-0.05*ydist,'max accuracy\\n%.2f'%y,size=14)\n",
    "#     ax1.set_ylabel('Accuracy',size=14); ax1.set_xlabel('Epoch',size=14)\n",
    "#     ax1.set_title('Accuracy')\n",
    "#     ax1.set_xticks(list(range(EPOCHS)))\n",
    "#     ax1.set_xticklabels(list(range(1, EPOCHS+1)))\n",
    "#     ax1.legend(loc=2)\n",
    "\n",
    "#     #  plot loss\n",
    "#     ax2.plot(np.arange(EPOCHS),history.history['loss'],'-o',\n",
    "#               label='Train Loss',color='#2ca02c')\n",
    "#     ax2.plot(np.arange(EPOCHS),history.history['val_loss'],'-o',\n",
    "#               label='Val Loss',color='#d62728')\n",
    "#     x = np.argmin(history.history['val_loss'] )\n",
    "#     y = np.min(history.history['val_loss'] )\n",
    "#     ydist = plt.ylim()[1] - plt.ylim()[0]\n",
    "#     ax2.scatter(x,y,s=200,color='#d62728')\n",
    "#     ax2.text(x-0.03*xdist,y+0.05*ydist,'min loss',size=14)\n",
    "#     ax2.set_ylabel('Loss',size=14); ax2.set_xlabel('Epoch',size=14)\n",
    "#     ax2.set_title('Loss')\n",
    "#     ax2.set_xticks(list(range(EPOCHS)))\n",
    "#     ax2.set_xticklabels(list(range(1, EPOCHS+1)))\n",
    "#     ax2.legend(loc=3)\n",
    "#     plt.savefig(name + '.png')\n",
    "#     plt.show() "
   ]
  },
  {
   "cell_type": "code",
   "execution_count": 33,
   "id": "747e9992",
   "metadata": {
    "execution": {
     "iopub.execute_input": "2023-03-29T19:35:43.606011Z",
     "iopub.status.busy": "2023-03-29T19:35:43.604801Z",
     "iopub.status.idle": "2023-03-29T19:36:08.892164Z",
     "shell.execute_reply": "2023-03-29T19:36:08.891240Z"
    },
    "papermill": {
     "duration": 29.03587,
     "end_time": "2023-03-29T19:36:08.898016",
     "exception": false,
     "start_time": "2023-03-29T19:35:39.862146",
     "status": "completed"
    },
    "tags": []
   },
   "outputs": [],
   "source": [
    "# display_training_curves(history, 'name', 'Loss-Accuracy Curve')"
   ]
  },
  {
   "cell_type": "code",
   "execution_count": 34,
   "id": "be307e9c",
   "metadata": {},
   "outputs": [
    {
     "name": "stdout",
     "output_type": "stream",
     "text": [
      "NORMAL1.png\n",
      "1/1 [==============================] - 0s 36ms/step\n",
      "\t Tuberculosis Negative\n",
      "NORMAL10.png\n",
      "1/1 [==============================] - 0s 32ms/step\n",
      "\t Tuberculosis Negative\n",
      "NORMAL11.png\n",
      "1/1 [==============================] - 0s 32ms/step\n",
      "\t Tuberculosis Negative\n",
      "NORMAL2.png\n",
      "1/1 [==============================] - 0s 36ms/step\n",
      "\t Tuberculosis Negative\n",
      "NORMAL3.png\n",
      "1/1 [==============================] - 0s 36ms/step\n",
      "\t Tuberculosis Negative\n",
      "NORMAL4.png\n",
      "1/1 [==============================] - 0s 32ms/step\n",
      "\t Tuberculosis positive\n",
      "NORMAL5.png\n",
      "1/1 [==============================] - 0s 32ms/step\n",
      "\t Tuberculosis Negative\n",
      "NORMAL6.png\n",
      "1/1 [==============================] - 0s 32ms/step\n",
      "\t Tuberculosis Negative\n",
      "NORMAL7.png\n",
      "1/1 [==============================] - 0s 32ms/step\n",
      "\t Tuberculosis Negative\n",
      "NORMAL8.png\n",
      "1/1 [==============================] - 0s 32ms/step\n",
      "\t Tuberculosis Negative\n",
      "NORMAL9.png\n",
      "1/1 [==============================] - 0s 32ms/step\n",
      "\t Tuberculosis Negative\n",
      "TB1.bmp\n",
      "1/1 [==============================] - 0s 37ms/step\n",
      "\t Tuberculosis positive\n",
      "TB2.bmp\n",
      "1/1 [==============================] - 0s 40ms/step\n",
      "\t Tuberculosis positive\n",
      "TB3.bmp\n",
      "1/1 [==============================] - 0s 28ms/step\n",
      "\t Tuberculosis positive\n",
      "TB4.bmp\n",
      "1/1 [==============================] - 0s 33ms/step\n",
      "\t Tuberculosis positive\n",
      "TB5.bmp\n",
      "1/1 [==============================] - 0s 36ms/step\n",
      "\t Tuberculosis Negative\n",
      "TB6.bmp\n",
      "1/1 [==============================] - 0s 28ms/step\n",
      "\t Tuberculosis positive\n",
      "TB7.bmp\n",
      "1/1 [==============================] - 0s 32ms/step\n",
      "\t Tuberculosis positive\n",
      "TB8.bmp\n",
      "1/1 [==============================] - 0s 28ms/step\n",
      "\t Tuberculosis positive\n",
      "TB9.bmp\n",
      "1/1 [==============================] - 0s 32ms/step\n",
      "\t Tuberculosis positive\n"
     ]
    }
   ],
   "source": [
    "import os\n",
    "from tensorflow.keras.preprocessing import image\n",
    "import numpy as np\n",
    "\n",
    "# Path to the folder containing images\n",
    "folder_path = 'ForTest/'\n",
    "\n",
    "# List all files in the folder\n",
    "image_files = os.listdir(folder_path)\n",
    "\n",
    "for file_name in image_files:\n",
    "    # Construct the complete file path\n",
    "    file_path = os.path.join(folder_path, file_name)\n",
    "    \n",
    "    # Load and preprocess each image\n",
    "    img = image.load_img(file_path, target_size=(256, 256))\n",
    "    img_array = image.img_to_array(img)\n",
    "    img_array = np.expand_dims(img_array, axis=0)  # Add a batch dimension\n",
    "    img_array = img_array / 255.0  # Normalize\n",
    "    \n",
    "    # Perform further processing or prediction with the img_array\n",
    "    # Example: model.predict(img_array) if you have a model for predictions\n",
    "    print(file_name)\n",
    "    pred = model.predict(img_array)\n",
    "    \n",
    "    if np.argmax(pred)==0:\n",
    "        print(\"\\t Tuberculosis Negative\")\n",
    "    else:\n",
    "        print(\"\\t Tuberculosis positive\")\n"
   ]
  },
  {
   "cell_type": "code",
   "execution_count": null,
   "id": "79639a34",
   "metadata": {},
   "outputs": [],
   "source": []
  }
 ],
 "metadata": {
  "kernelspec": {
   "display_name": "Python 3 (ipykernel)",
   "language": "python",
   "name": "python3"
  },
  "language_info": {
   "codemirror_mode": {
    "name": "ipython",
    "version": 3
   },
   "file_extension": ".py",
   "mimetype": "text/x-python",
   "name": "python",
   "nbconvert_exporter": "python",
   "pygments_lexer": "ipython3",
   "version": "3.9.7"
  },
  "papermill": {
   "default_parameters": {},
   "duration": 24917.923826,
   "end_time": "2023-03-29T19:36:16.483625",
   "environment_variables": {},
   "exception": null,
   "input_path": "__notebook__.ipynb",
   "output_path": "__notebook__.ipynb",
   "parameters": {},
   "start_time": "2023-03-29T12:40:58.559799",
   "version": "2.4.0"
  }
 },
 "nbformat": 4,
 "nbformat_minor": 5
}
