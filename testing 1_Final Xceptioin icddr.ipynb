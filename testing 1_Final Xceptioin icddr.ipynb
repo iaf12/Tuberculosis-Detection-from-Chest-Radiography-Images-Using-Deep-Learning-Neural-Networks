{
 "cells": [
  {
   "cell_type": "markdown",
   "id": "80aae10e",
   "metadata": {
    "id": "9Dg7bhcMQjrx",
    "papermill": {
     "duration": 0.009565,
     "end_time": "2023-03-29T12:41:07.721304",
     "exception": false,
     "start_time": "2023-03-29T12:41:07.711739",
     "status": "completed"
    },
    "tags": []
   },
   "source": [
    "# Starter Notebook"
   ]
  },
  {
   "cell_type": "markdown",
   "id": "9919c28c",
   "metadata": {
    "id": "jG_5SoNmSwPc",
    "papermill": {
     "duration": 0.007839,
     "end_time": "2023-03-29T12:41:07.737406",
     "exception": false,
     "start_time": "2023-03-29T12:41:07.729567",
     "status": "completed"
    },
    "tags": []
   },
   "source": [
    "## Importing Libraries"
   ]
  },
  {
   "cell_type": "code",
   "execution_count": 1,
   "id": "21562581",
   "metadata": {
    "execution": {
     "iopub.execute_input": "2023-03-29T12:41:07.756401Z",
     "iopub.status.busy": "2023-03-29T12:41:07.755208Z",
     "iopub.status.idle": "2023-03-29T12:41:07.766688Z",
     "shell.execute_reply": "2023-03-29T12:41:07.765679Z"
    },
    "id": "QwAtFRvYQpDm",
    "papermill": {
     "duration": 0.023428,
     "end_time": "2023-03-29T12:41:07.768842",
     "exception": false,
     "start_time": "2023-03-29T12:41:07.745414",
     "status": "completed"
    },
    "tags": []
   },
   "outputs": [],
   "source": [
    "#P100 GPU \n",
    "\n",
    "import warnings\n",
    "warnings.filterwarnings('ignore')"
   ]
  },
  {
   "cell_type": "code",
   "execution_count": 2,
   "id": "e2bd3d78",
   "metadata": {
    "execution": {
     "iopub.execute_input": "2023-03-29T12:41:07.786970Z",
     "iopub.status.busy": "2023-03-29T12:41:07.786051Z",
     "iopub.status.idle": "2023-03-29T12:41:15.482240Z",
     "shell.execute_reply": "2023-03-29T12:41:15.481146Z"
    },
    "id": "q-CIsMW9QtQm",
    "papermill": {
     "duration": 7.708135,
     "end_time": "2023-03-29T12:41:15.485015",
     "exception": false,
     "start_time": "2023-03-29T12:41:07.776880",
     "status": "completed"
    },
    "tags": []
   },
   "outputs": [],
   "source": [
    "from tensorflow import keras\n",
    "from keras.layers import Input, Lambda, Dense, Flatten, Dropout, BatchNormalization, GlobalAveragePooling2D\n",
    "from keras.models import Model\n",
    "from tensorflow.keras.applications import Xception\n",
    "from tensorflow.keras.regularizers import l1_l2, l1, l2\n",
    "from keras.preprocessing import image\n",
    "from keras.preprocessing.image import ImageDataGenerator\n",
    "from tensorflow.keras.callbacks import ReduceLROnPlateau, EarlyStopping\n",
    "from sklearn.metrics import confusion_matrix\n",
    "from sklearn.metrics import classification_report\n",
    "from sklearn.metrics import roc_curve\n",
    "from sklearn.metrics import auc\n",
    "from keras.models import Sequential\n",
    "import numpy as np\n",
    "from glob import glob\n",
    "import matplotlib.pyplot as plt\n",
    "%matplotlib inline\n",
    "import seaborn as sns"
   ]
  },
  {
   "cell_type": "markdown",
   "id": "314bf0f2",
   "metadata": {
    "id": "xs6p7RMOciNF",
    "papermill": {
     "duration": 0.007974,
     "end_time": "2023-03-29T12:41:15.502174",
     "exception": false,
     "start_time": "2023-03-29T12:41:15.494200",
     "status": "completed"
    },
    "tags": []
   },
   "source": [
    "## Initializing Parameters"
   ]
  },
  {
   "cell_type": "code",
   "execution_count": 3,
   "id": "539bd5a4",
   "metadata": {
    "execution": {
     "iopub.execute_input": "2023-03-29T12:41:15.521222Z",
     "iopub.status.busy": "2023-03-29T12:41:15.519660Z",
     "iopub.status.idle": "2023-03-29T12:41:15.535449Z",
     "shell.execute_reply": "2023-03-29T12:41:15.534303Z"
    },
    "papermill": {
     "duration": 0.028232,
     "end_time": "2023-03-29T12:41:15.538561",
     "exception": false,
     "start_time": "2023-03-29T12:41:15.510329",
     "status": "completed"
    },
    "tags": []
   },
   "outputs": [],
   "source": [
    "# import os\n",
    "# os.listdir('../input/tuberculosis-tb-chest-x-ray-cleaned-database/TB Chest Radiography Database/Partitioned Data/Cleaned Data')"
   ]
  },
  {
   "cell_type": "code",
   "execution_count": 4,
   "id": "59bc33c0",
   "metadata": {
    "execution": {
     "iopub.execute_input": "2023-03-29T12:41:15.556266Z",
     "iopub.status.busy": "2023-03-29T12:41:15.555969Z",
     "iopub.status.idle": "2023-03-29T12:41:15.560772Z",
     "shell.execute_reply": "2023-03-29T12:41:15.559770Z"
    },
    "id": "fiLzfiHJQyFv",
    "papermill": {
     "duration": 0.016064,
     "end_time": "2023-03-29T12:41:15.562825",
     "exception": false,
     "start_time": "2023-03-29T12:41:15.546761",
     "status": "completed"
    },
    "tags": []
   },
   "outputs": [],
   "source": [
    "IMAGE_SIZE = [256, 256, 3]\n",
    "target_size = (256, 256)\n",
    "epochs = 50\n",
    "Batch = 16\n",
    "\n",
    "# train_path = 'Dataset/TB Chest Radiography Database/TB Chest Radiography Database/Partitioned Data/Cleaned Data/Train'\n",
    "# test_path = 'Dataset/TB Chest Radiography Database/TB Chest Radiography Database/Partitioned Data/Cleaned Data/Test'\n",
    "# val_path = 'Dataset/TB Chest Radiography Database/TB Chest Radiography Database/Partitioned Data/Cleaned Data/Val'\n",
    "\n",
    "\n",
    "# train_path = 'Dataset/Merge data/dataset/Train'\n",
    "# test_path = 'Dataset/Merge data/dataset/Test'\n",
    "# val_path = 'Dataset/Merge data/dataset/Val'\n",
    "\n",
    "# train_path = 'Dataset/icddr, b/Final png images/500,500 px/gray Dataset/preprocess init data/Train'\n",
    "# test_path = 'Dataset/icddr, b/Final png images/500,500 px/gray Dataset/preprocess init data/Test'\n",
    "# val_path = 'Dataset/icddr, b/Final png images/500,500 px/gray Dataset/preprocess init data/Validation'\n",
    "\n",
    "\n",
    "# train_path = 'Dataset/Merge data/preprocess data/dataset 1/Train'\n",
    "# test_path = 'Dataset/Merge data/preprocess data/dataset 1/Test'\n",
    "# val_path = 'Dataset/Merge data/preprocess data/dataset 1/Val'\n",
    "\n",
    "# train_path = 'Dataset/icddr, b/Final png images/500,500 px/gray Dataset/init data - Copy/Train'\n",
    "# test_path = 'Dataset/icddr, b/Final png images/500,500 px/gray Dataset/init data - Copy/Test'\n",
    "# val_path ='Dataset/icddr, b/Final png images/500,500 px/gray Dataset/init data - Copy/Validation'\n",
    "\n",
    "train_path = 'Dataset/icddr, b/Final png images/500,500 px/gray Dataset/update init data/Train'\n",
    "test_path = 'Dataset/icddr, b/Final png images/500,500 px/gray Dataset/update init data/Test'\n",
    "val_path = 'Dataset/icddr, b/Final png images/500,500 px/gray Dataset/update init data/Validation'"
   ]
  },
  {
   "cell_type": "markdown",
   "id": "ee352efc",
   "metadata": {
    "id": "C9swfxvUcwfb",
    "papermill": {
     "duration": 0.008058,
     "end_time": "2023-03-29T12:41:15.579442",
     "exception": false,
     "start_time": "2023-03-29T12:41:15.571384",
     "status": "completed"
    },
    "tags": []
   },
   "source": [
    "## Data Augmentation"
   ]
  },
  {
   "cell_type": "code",
   "execution_count": 5,
   "id": "0e239b3e",
   "metadata": {
    "execution": {
     "iopub.execute_input": "2023-03-29T12:41:15.597838Z",
     "iopub.status.busy": "2023-03-29T12:41:15.597075Z",
     "iopub.status.idle": "2023-03-29T12:41:19.928328Z",
     "shell.execute_reply": "2023-03-29T12:41:19.926769Z"
    },
    "id": "YiRQm0hvcsmB",
    "outputId": "0a0afb85-2a97-445e-ccfb-7facbfa29e09",
    "papermill": {
     "duration": 4.343128,
     "end_time": "2023-03-29T12:41:19.931127",
     "exception": false,
     "start_time": "2023-03-29T12:41:15.587999",
     "status": "completed"
    },
    "tags": []
   },
   "outputs": [
    {
     "name": "stdout",
     "output_type": "stream",
     "text": [
      "Found 140 images belonging to 2 classes.\n",
      "Found 30 images belonging to 2 classes.\n",
      "Found 30 images belonging to 2 classes.\n"
     ]
    }
   ],
   "source": [
    "train_datagen = ImageDataGenerator( \n",
    "    rescale=1.0/255.0,  # Normalize pixel values to the range [0, 1]\n",
    "    rotation_range=20,  # Randomly rotate images\n",
    "    width_shift_range=0.1,  # Randomly shift the width\n",
    "    height_shift_range=0.1,  # Randomly shift the height\n",
    "    shear_range=0.2,  # Shear transformation\n",
    "    zoom_range=0.1,  # Randomly zoom in\n",
    "    horizontal_flip=True,  # Randomly flip horizontally\n",
    "    fill_mode='nearest'  # Fill missing pixels with the nearest value\n",
    ")\n",
    "\n",
    "val_datagen = ImageDataGenerator(rescale = 1./255)\n",
    "test_datagen = ImageDataGenerator(rescale = 1./255)\n",
    "\n",
    "training_set = train_datagen.flow_from_directory(train_path,\n",
    "                                                 target_size = target_size,\n",
    "                                                 batch_size = Batch,                                            \n",
    "                                                 class_mode = 'categorical')\n",
    "\n",
    "val_set = test_datagen.flow_from_directory(val_path,\n",
    "                                            target_size = target_size,\n",
    "                                            batch_size = Batch,\n",
    "                                            class_mode = 'categorical')\n",
    "\n",
    "test_set = test_datagen.flow_from_directory(test_path,\n",
    "                                            target_size = target_size,\n",
    "                                            batch_size = Batch,\n",
    "                                            class_mode = 'categorical',\n",
    "                                           shuffle=False)"
   ]
  },
  {
   "cell_type": "markdown",
   "id": "1cd61203",
   "metadata": {
    "papermill": {
     "duration": 0.008363,
     "end_time": "2023-03-29T12:41:19.948303",
     "exception": false,
     "start_time": "2023-03-29T12:41:19.939940",
     "status": "completed"
    },
    "tags": []
   },
   "source": [
    "## Setting Base Model"
   ]
  },
  {
   "cell_type": "code",
   "execution_count": 6,
   "id": "211096de",
   "metadata": {
    "execution": {
     "iopub.execute_input": "2023-03-29T12:41:19.968157Z",
     "iopub.status.busy": "2023-03-29T12:41:19.967017Z",
     "iopub.status.idle": "2023-03-29T12:41:27.165847Z",
     "shell.execute_reply": "2023-03-29T12:41:27.164783Z"
    },
    "id": "M_hmEZCZUETs",
    "outputId": "a58a8249-d7de-4374-8364-df5be813d2f7",
    "papermill": {
     "duration": 7.211428,
     "end_time": "2023-03-29T12:41:27.168709",
     "exception": false,
     "start_time": "2023-03-29T12:41:19.957281",
     "status": "completed"
    },
    "tags": []
   },
   "outputs": [],
   "source": [
    "base_model = Xception(input_shape=IMAGE_SIZE, weights='imagenet', include_top=False, pooling='max')"
   ]
  },
  {
   "cell_type": "code",
   "execution_count": 7,
   "id": "fe22717c",
   "metadata": {
    "execution": {
     "iopub.execute_input": "2023-03-29T12:41:27.193342Z",
     "iopub.status.busy": "2023-03-29T12:41:27.192712Z",
     "iopub.status.idle": "2023-03-29T12:41:27.201527Z",
     "shell.execute_reply": "2023-03-29T12:41:27.200607Z"
    },
    "id": "kP16aMjdUJUf",
    "papermill": {
     "duration": 0.023174,
     "end_time": "2023-03-29T12:41:27.203671",
     "exception": false,
     "start_time": "2023-03-29T12:41:27.180497",
     "status": "completed"
    },
    "tags": []
   },
   "outputs": [],
   "source": [
    "\n",
    "# base_model.trainable = True\n",
    "\n",
    "# set_trainable = False\n",
    "\n",
    "# for layer in base_model.layers:\n",
    "#     if layer.name == 'block14*':\n",
    "#         set_trainable = True\n",
    "#     if set_trainable:\n",
    "#         layer.trainable = True\n",
    "#     else:\n",
    "#         layer.trainable=False\n",
    "        \n",
    "# for layer in base_model.layers:\n",
    "#     print(layer.name, layer.trainable)\n",
    "\n",
    "for layer in base_model.layers:\n",
    "    layer.trainable = False"
   ]
  },
  {
   "cell_type": "code",
   "execution_count": 8,
   "id": "0b765007",
   "metadata": {
    "scrolled": true
   },
   "outputs": [
    {
     "name": "stdout",
     "output_type": "stream",
     "text": [
      "Model: \"xception\"\n",
      "__________________________________________________________________________________________________\n",
      " Layer (type)                   Output Shape         Param #     Connected to                     \n",
      "==================================================================================================\n",
      " input_1 (InputLayer)           [(None, 256, 256, 3  0           []                               \n",
      "                                )]                                                                \n",
      "                                                                                                  \n",
      " block1_conv1 (Conv2D)          (None, 127, 127, 32  864         ['input_1[0][0]']                \n",
      "                                )                                                                 \n",
      "                                                                                                  \n",
      " block1_conv1_bn (BatchNormaliz  (None, 127, 127, 32  128        ['block1_conv1[0][0]']           \n",
      " ation)                         )                                                                 \n",
      "                                                                                                  \n",
      " block1_conv1_act (Activation)  (None, 127, 127, 32  0           ['block1_conv1_bn[0][0]']        \n",
      "                                )                                                                 \n",
      "                                                                                                  \n",
      " block1_conv2 (Conv2D)          (None, 125, 125, 64  18432       ['block1_conv1_act[0][0]']       \n",
      "                                )                                                                 \n",
      "                                                                                                  \n",
      " block1_conv2_bn (BatchNormaliz  (None, 125, 125, 64  256        ['block1_conv2[0][0]']           \n",
      " ation)                         )                                                                 \n",
      "                                                                                                  \n",
      " block1_conv2_act (Activation)  (None, 125, 125, 64  0           ['block1_conv2_bn[0][0]']        \n",
      "                                )                                                                 \n",
      "                                                                                                  \n",
      " block2_sepconv1 (SeparableConv  (None, 125, 125, 12  8768       ['block1_conv2_act[0][0]']       \n",
      " 2D)                            8)                                                                \n",
      "                                                                                                  \n",
      " block2_sepconv1_bn (BatchNorma  (None, 125, 125, 12  512        ['block2_sepconv1[0][0]']        \n",
      " lization)                      8)                                                                \n",
      "                                                                                                  \n",
      " block2_sepconv2_act (Activatio  (None, 125, 125, 12  0          ['block2_sepconv1_bn[0][0]']     \n",
      " n)                             8)                                                                \n",
      "                                                                                                  \n",
      " block2_sepconv2 (SeparableConv  (None, 125, 125, 12  17536      ['block2_sepconv2_act[0][0]']    \n",
      " 2D)                            8)                                                                \n",
      "                                                                                                  \n",
      " block2_sepconv2_bn (BatchNorma  (None, 125, 125, 12  512        ['block2_sepconv2[0][0]']        \n",
      " lization)                      8)                                                                \n",
      "                                                                                                  \n",
      " conv2d (Conv2D)                (None, 63, 63, 128)  8192        ['block1_conv2_act[0][0]']       \n",
      "                                                                                                  \n",
      " block2_pool (MaxPooling2D)     (None, 63, 63, 128)  0           ['block2_sepconv2_bn[0][0]']     \n",
      "                                                                                                  \n",
      " batch_normalization (BatchNorm  (None, 63, 63, 128)  512        ['conv2d[0][0]']                 \n",
      " alization)                                                                                       \n",
      "                                                                                                  \n",
      " add (Add)                      (None, 63, 63, 128)  0           ['block2_pool[0][0]',            \n",
      "                                                                  'batch_normalization[0][0]']    \n",
      "                                                                                                  \n",
      " block3_sepconv1_act (Activatio  (None, 63, 63, 128)  0          ['add[0][0]']                    \n",
      " n)                                                                                               \n",
      "                                                                                                  \n",
      " block3_sepconv1 (SeparableConv  (None, 63, 63, 256)  33920      ['block3_sepconv1_act[0][0]']    \n",
      " 2D)                                                                                              \n",
      "                                                                                                  \n",
      " block3_sepconv1_bn (BatchNorma  (None, 63, 63, 256)  1024       ['block3_sepconv1[0][0]']        \n",
      " lization)                                                                                        \n",
      "                                                                                                  \n",
      " block3_sepconv2_act (Activatio  (None, 63, 63, 256)  0          ['block3_sepconv1_bn[0][0]']     \n",
      " n)                                                                                               \n",
      "                                                                                                  \n",
      " block3_sepconv2 (SeparableConv  (None, 63, 63, 256)  67840      ['block3_sepconv2_act[0][0]']    \n",
      " 2D)                                                                                              \n",
      "                                                                                                  \n",
      " block3_sepconv2_bn (BatchNorma  (None, 63, 63, 256)  1024       ['block3_sepconv2[0][0]']        \n",
      " lization)                                                                                        \n",
      "                                                                                                  \n",
      " conv2d_1 (Conv2D)              (None, 32, 32, 256)  32768       ['add[0][0]']                    \n",
      "                                                                                                  \n",
      " block3_pool (MaxPooling2D)     (None, 32, 32, 256)  0           ['block3_sepconv2_bn[0][0]']     \n",
      "                                                                                                  \n",
      " batch_normalization_1 (BatchNo  (None, 32, 32, 256)  1024       ['conv2d_1[0][0]']               \n",
      " rmalization)                                                                                     \n",
      "                                                                                                  \n",
      " add_1 (Add)                    (None, 32, 32, 256)  0           ['block3_pool[0][0]',            \n",
      "                                                                  'batch_normalization_1[0][0]']  \n",
      "                                                                                                  \n",
      " block4_sepconv1_act (Activatio  (None, 32, 32, 256)  0          ['add_1[0][0]']                  \n",
      " n)                                                                                               \n",
      "                                                                                                  \n",
      " block4_sepconv1 (SeparableConv  (None, 32, 32, 728)  188672     ['block4_sepconv1_act[0][0]']    \n",
      " 2D)                                                                                              \n",
      "                                                                                                  \n"
     ]
    },
    {
     "name": "stdout",
     "output_type": "stream",
     "text": [
      " block4_sepconv1_bn (BatchNorma  (None, 32, 32, 728)  2912       ['block4_sepconv1[0][0]']        \n",
      " lization)                                                                                        \n",
      "                                                                                                  \n",
      " block4_sepconv2_act (Activatio  (None, 32, 32, 728)  0          ['block4_sepconv1_bn[0][0]']     \n",
      " n)                                                                                               \n",
      "                                                                                                  \n",
      " block4_sepconv2 (SeparableConv  (None, 32, 32, 728)  536536     ['block4_sepconv2_act[0][0]']    \n",
      " 2D)                                                                                              \n",
      "                                                                                                  \n",
      " block4_sepconv2_bn (BatchNorma  (None, 32, 32, 728)  2912       ['block4_sepconv2[0][0]']        \n",
      " lization)                                                                                        \n",
      "                                                                                                  \n",
      " conv2d_2 (Conv2D)              (None, 16, 16, 728)  186368      ['add_1[0][0]']                  \n",
      "                                                                                                  \n",
      " block4_pool (MaxPooling2D)     (None, 16, 16, 728)  0           ['block4_sepconv2_bn[0][0]']     \n",
      "                                                                                                  \n",
      " batch_normalization_2 (BatchNo  (None, 16, 16, 728)  2912       ['conv2d_2[0][0]']               \n",
      " rmalization)                                                                                     \n",
      "                                                                                                  \n",
      " add_2 (Add)                    (None, 16, 16, 728)  0           ['block4_pool[0][0]',            \n",
      "                                                                  'batch_normalization_2[0][0]']  \n",
      "                                                                                                  \n",
      " block5_sepconv1_act (Activatio  (None, 16, 16, 728)  0          ['add_2[0][0]']                  \n",
      " n)                                                                                               \n",
      "                                                                                                  \n",
      " block5_sepconv1 (SeparableConv  (None, 16, 16, 728)  536536     ['block5_sepconv1_act[0][0]']    \n",
      " 2D)                                                                                              \n",
      "                                                                                                  \n",
      " block5_sepconv1_bn (BatchNorma  (None, 16, 16, 728)  2912       ['block5_sepconv1[0][0]']        \n",
      " lization)                                                                                        \n",
      "                                                                                                  \n",
      " block5_sepconv2_act (Activatio  (None, 16, 16, 728)  0          ['block5_sepconv1_bn[0][0]']     \n",
      " n)                                                                                               \n",
      "                                                                                                  \n",
      " block5_sepconv2 (SeparableConv  (None, 16, 16, 728)  536536     ['block5_sepconv2_act[0][0]']    \n",
      " 2D)                                                                                              \n",
      "                                                                                                  \n",
      " block5_sepconv2_bn (BatchNorma  (None, 16, 16, 728)  2912       ['block5_sepconv2[0][0]']        \n",
      " lization)                                                                                        \n",
      "                                                                                                  \n",
      " block5_sepconv3_act (Activatio  (None, 16, 16, 728)  0          ['block5_sepconv2_bn[0][0]']     \n",
      " n)                                                                                               \n",
      "                                                                                                  \n",
      " block5_sepconv3 (SeparableConv  (None, 16, 16, 728)  536536     ['block5_sepconv3_act[0][0]']    \n",
      " 2D)                                                                                              \n",
      "                                                                                                  \n",
      " block5_sepconv3_bn (BatchNorma  (None, 16, 16, 728)  2912       ['block5_sepconv3[0][0]']        \n",
      " lization)                                                                                        \n",
      "                                                                                                  \n",
      " add_3 (Add)                    (None, 16, 16, 728)  0           ['block5_sepconv3_bn[0][0]',     \n",
      "                                                                  'add_2[0][0]']                  \n",
      "                                                                                                  \n",
      " block6_sepconv1_act (Activatio  (None, 16, 16, 728)  0          ['add_3[0][0]']                  \n",
      " n)                                                                                               \n",
      "                                                                                                  \n",
      " block6_sepconv1 (SeparableConv  (None, 16, 16, 728)  536536     ['block6_sepconv1_act[0][0]']    \n",
      " 2D)                                                                                              \n",
      "                                                                                                  \n",
      " block6_sepconv1_bn (BatchNorma  (None, 16, 16, 728)  2912       ['block6_sepconv1[0][0]']        \n",
      " lization)                                                                                        \n",
      "                                                                                                  \n",
      " block6_sepconv2_act (Activatio  (None, 16, 16, 728)  0          ['block6_sepconv1_bn[0][0]']     \n",
      " n)                                                                                               \n",
      "                                                                                                  \n",
      " block6_sepconv2 (SeparableConv  (None, 16, 16, 728)  536536     ['block6_sepconv2_act[0][0]']    \n",
      " 2D)                                                                                              \n",
      "                                                                                                  \n",
      " block6_sepconv2_bn (BatchNorma  (None, 16, 16, 728)  2912       ['block6_sepconv2[0][0]']        \n",
      " lization)                                                                                        \n",
      "                                                                                                  \n",
      " block6_sepconv3_act (Activatio  (None, 16, 16, 728)  0          ['block6_sepconv2_bn[0][0]']     \n",
      " n)                                                                                               \n",
      "                                                                                                  \n",
      " block6_sepconv3 (SeparableConv  (None, 16, 16, 728)  536536     ['block6_sepconv3_act[0][0]']    \n",
      " 2D)                                                                                              \n",
      "                                                                                                  \n",
      " block6_sepconv3_bn (BatchNorma  (None, 16, 16, 728)  2912       ['block6_sepconv3[0][0]']        \n",
      " lization)                                                                                        \n",
      "                                                                                                  \n",
      " add_4 (Add)                    (None, 16, 16, 728)  0           ['block6_sepconv3_bn[0][0]',     \n",
      "                                                                  'add_3[0][0]']                  \n",
      "                                                                                                  \n",
      " block7_sepconv1_act (Activatio  (None, 16, 16, 728)  0          ['add_4[0][0]']                  \n"
     ]
    },
    {
     "name": "stdout",
     "output_type": "stream",
     "text": [
      " n)                                                                                               \n",
      "                                                                                                  \n",
      " block7_sepconv1 (SeparableConv  (None, 16, 16, 728)  536536     ['block7_sepconv1_act[0][0]']    \n",
      " 2D)                                                                                              \n",
      "                                                                                                  \n",
      " block7_sepconv1_bn (BatchNorma  (None, 16, 16, 728)  2912       ['block7_sepconv1[0][0]']        \n",
      " lization)                                                                                        \n",
      "                                                                                                  \n",
      " block7_sepconv2_act (Activatio  (None, 16, 16, 728)  0          ['block7_sepconv1_bn[0][0]']     \n",
      " n)                                                                                               \n",
      "                                                                                                  \n",
      " block7_sepconv2 (SeparableConv  (None, 16, 16, 728)  536536     ['block7_sepconv2_act[0][0]']    \n",
      " 2D)                                                                                              \n",
      "                                                                                                  \n",
      " block7_sepconv2_bn (BatchNorma  (None, 16, 16, 728)  2912       ['block7_sepconv2[0][0]']        \n",
      " lization)                                                                                        \n",
      "                                                                                                  \n",
      " block7_sepconv3_act (Activatio  (None, 16, 16, 728)  0          ['block7_sepconv2_bn[0][0]']     \n",
      " n)                                                                                               \n",
      "                                                                                                  \n",
      " block7_sepconv3 (SeparableConv  (None, 16, 16, 728)  536536     ['block7_sepconv3_act[0][0]']    \n",
      " 2D)                                                                                              \n",
      "                                                                                                  \n",
      " block7_sepconv3_bn (BatchNorma  (None, 16, 16, 728)  2912       ['block7_sepconv3[0][0]']        \n",
      " lization)                                                                                        \n",
      "                                                                                                  \n",
      " add_5 (Add)                    (None, 16, 16, 728)  0           ['block7_sepconv3_bn[0][0]',     \n",
      "                                                                  'add_4[0][0]']                  \n",
      "                                                                                                  \n",
      " block8_sepconv1_act (Activatio  (None, 16, 16, 728)  0          ['add_5[0][0]']                  \n",
      " n)                                                                                               \n",
      "                                                                                                  \n",
      " block8_sepconv1 (SeparableConv  (None, 16, 16, 728)  536536     ['block8_sepconv1_act[0][0]']    \n",
      " 2D)                                                                                              \n",
      "                                                                                                  \n",
      " block8_sepconv1_bn (BatchNorma  (None, 16, 16, 728)  2912       ['block8_sepconv1[0][0]']        \n",
      " lization)                                                                                        \n",
      "                                                                                                  \n",
      " block8_sepconv2_act (Activatio  (None, 16, 16, 728)  0          ['block8_sepconv1_bn[0][0]']     \n",
      " n)                                                                                               \n",
      "                                                                                                  \n",
      " block8_sepconv2 (SeparableConv  (None, 16, 16, 728)  536536     ['block8_sepconv2_act[0][0]']    \n",
      " 2D)                                                                                              \n",
      "                                                                                                  \n",
      " block8_sepconv2_bn (BatchNorma  (None, 16, 16, 728)  2912       ['block8_sepconv2[0][0]']        \n",
      " lization)                                                                                        \n",
      "                                                                                                  \n",
      " block8_sepconv3_act (Activatio  (None, 16, 16, 728)  0          ['block8_sepconv2_bn[0][0]']     \n",
      " n)                                                                                               \n",
      "                                                                                                  \n",
      " block8_sepconv3 (SeparableConv  (None, 16, 16, 728)  536536     ['block8_sepconv3_act[0][0]']    \n",
      " 2D)                                                                                              \n",
      "                                                                                                  \n",
      " block8_sepconv3_bn (BatchNorma  (None, 16, 16, 728)  2912       ['block8_sepconv3[0][0]']        \n",
      " lization)                                                                                        \n",
      "                                                                                                  \n",
      " add_6 (Add)                    (None, 16, 16, 728)  0           ['block8_sepconv3_bn[0][0]',     \n",
      "                                                                  'add_5[0][0]']                  \n",
      "                                                                                                  \n",
      " block9_sepconv1_act (Activatio  (None, 16, 16, 728)  0          ['add_6[0][0]']                  \n",
      " n)                                                                                               \n",
      "                                                                                                  \n",
      " block9_sepconv1 (SeparableConv  (None, 16, 16, 728)  536536     ['block9_sepconv1_act[0][0]']    \n",
      " 2D)                                                                                              \n",
      "                                                                                                  \n",
      " block9_sepconv1_bn (BatchNorma  (None, 16, 16, 728)  2912       ['block9_sepconv1[0][0]']        \n",
      " lization)                                                                                        \n",
      "                                                                                                  \n",
      " block9_sepconv2_act (Activatio  (None, 16, 16, 728)  0          ['block9_sepconv1_bn[0][0]']     \n",
      " n)                                                                                               \n",
      "                                                                                                  \n",
      " block9_sepconv2 (SeparableConv  (None, 16, 16, 728)  536536     ['block9_sepconv2_act[0][0]']    \n",
      " 2D)                                                                                              \n",
      "                                                                                                  \n",
      " block9_sepconv2_bn (BatchNorma  (None, 16, 16, 728)  2912       ['block9_sepconv2[0][0]']        \n",
      " lization)                                                                                        \n",
      "                                                                                                  \n",
      " block9_sepconv3_act (Activatio  (None, 16, 16, 728)  0          ['block9_sepconv2_bn[0][0]']     \n",
      " n)                                                                                               \n",
      "                                                                                                  \n",
      " block9_sepconv3 (SeparableConv  (None, 16, 16, 728)  536536     ['block9_sepconv3_act[0][0]']    \n",
      " 2D)                                                                                              \n",
      "                                                                                                  \n"
     ]
    },
    {
     "name": "stdout",
     "output_type": "stream",
     "text": [
      " block9_sepconv3_bn (BatchNorma  (None, 16, 16, 728)  2912       ['block9_sepconv3[0][0]']        \n",
      " lization)                                                                                        \n",
      "                                                                                                  \n",
      " add_7 (Add)                    (None, 16, 16, 728)  0           ['block9_sepconv3_bn[0][0]',     \n",
      "                                                                  'add_6[0][0]']                  \n",
      "                                                                                                  \n",
      " block10_sepconv1_act (Activati  (None, 16, 16, 728)  0          ['add_7[0][0]']                  \n",
      " on)                                                                                              \n",
      "                                                                                                  \n",
      " block10_sepconv1 (SeparableCon  (None, 16, 16, 728)  536536     ['block10_sepconv1_act[0][0]']   \n",
      " v2D)                                                                                             \n",
      "                                                                                                  \n",
      " block10_sepconv1_bn (BatchNorm  (None, 16, 16, 728)  2912       ['block10_sepconv1[0][0]']       \n",
      " alization)                                                                                       \n",
      "                                                                                                  \n",
      " block10_sepconv2_act (Activati  (None, 16, 16, 728)  0          ['block10_sepconv1_bn[0][0]']    \n",
      " on)                                                                                              \n",
      "                                                                                                  \n",
      " block10_sepconv2 (SeparableCon  (None, 16, 16, 728)  536536     ['block10_sepconv2_act[0][0]']   \n",
      " v2D)                                                                                             \n",
      "                                                                                                  \n",
      " block10_sepconv2_bn (BatchNorm  (None, 16, 16, 728)  2912       ['block10_sepconv2[0][0]']       \n",
      " alization)                                                                                       \n",
      "                                                                                                  \n",
      " block10_sepconv3_act (Activati  (None, 16, 16, 728)  0          ['block10_sepconv2_bn[0][0]']    \n",
      " on)                                                                                              \n",
      "                                                                                                  \n",
      " block10_sepconv3 (SeparableCon  (None, 16, 16, 728)  536536     ['block10_sepconv3_act[0][0]']   \n",
      " v2D)                                                                                             \n",
      "                                                                                                  \n",
      " block10_sepconv3_bn (BatchNorm  (None, 16, 16, 728)  2912       ['block10_sepconv3[0][0]']       \n",
      " alization)                                                                                       \n",
      "                                                                                                  \n",
      " add_8 (Add)                    (None, 16, 16, 728)  0           ['block10_sepconv3_bn[0][0]',    \n",
      "                                                                  'add_7[0][0]']                  \n",
      "                                                                                                  \n",
      " block11_sepconv1_act (Activati  (None, 16, 16, 728)  0          ['add_8[0][0]']                  \n",
      " on)                                                                                              \n",
      "                                                                                                  \n",
      " block11_sepconv1 (SeparableCon  (None, 16, 16, 728)  536536     ['block11_sepconv1_act[0][0]']   \n",
      " v2D)                                                                                             \n",
      "                                                                                                  \n",
      " block11_sepconv1_bn (BatchNorm  (None, 16, 16, 728)  2912       ['block11_sepconv1[0][0]']       \n",
      " alization)                                                                                       \n",
      "                                                                                                  \n",
      " block11_sepconv2_act (Activati  (None, 16, 16, 728)  0          ['block11_sepconv1_bn[0][0]']    \n",
      " on)                                                                                              \n",
      "                                                                                                  \n",
      " block11_sepconv2 (SeparableCon  (None, 16, 16, 728)  536536     ['block11_sepconv2_act[0][0]']   \n",
      " v2D)                                                                                             \n",
      "                                                                                                  \n",
      " block11_sepconv2_bn (BatchNorm  (None, 16, 16, 728)  2912       ['block11_sepconv2[0][0]']       \n",
      " alization)                                                                                       \n",
      "                                                                                                  \n",
      " block11_sepconv3_act (Activati  (None, 16, 16, 728)  0          ['block11_sepconv2_bn[0][0]']    \n",
      " on)                                                                                              \n",
      "                                                                                                  \n",
      " block11_sepconv3 (SeparableCon  (None, 16, 16, 728)  536536     ['block11_sepconv3_act[0][0]']   \n",
      " v2D)                                                                                             \n",
      "                                                                                                  \n",
      " block11_sepconv3_bn (BatchNorm  (None, 16, 16, 728)  2912       ['block11_sepconv3[0][0]']       \n",
      " alization)                                                                                       \n",
      "                                                                                                  \n",
      " add_9 (Add)                    (None, 16, 16, 728)  0           ['block11_sepconv3_bn[0][0]',    \n",
      "                                                                  'add_8[0][0]']                  \n",
      "                                                                                                  \n",
      " block12_sepconv1_act (Activati  (None, 16, 16, 728)  0          ['add_9[0][0]']                  \n",
      " on)                                                                                              \n",
      "                                                                                                  \n",
      " block12_sepconv1 (SeparableCon  (None, 16, 16, 728)  536536     ['block12_sepconv1_act[0][0]']   \n",
      " v2D)                                                                                             \n",
      "                                                                                                  \n",
      " block12_sepconv1_bn (BatchNorm  (None, 16, 16, 728)  2912       ['block12_sepconv1[0][0]']       \n",
      " alization)                                                                                       \n",
      "                                                                                                  \n",
      " block12_sepconv2_act (Activati  (None, 16, 16, 728)  0          ['block12_sepconv1_bn[0][0]']    \n",
      " on)                                                                                              \n",
      "                                                                                                  \n",
      " block12_sepconv2 (SeparableCon  (None, 16, 16, 728)  536536     ['block12_sepconv2_act[0][0]']   \n",
      " v2D)                                                                                             \n",
      "                                                                                                  \n",
      " block12_sepconv2_bn (BatchNorm  (None, 16, 16, 728)  2912       ['block12_sepconv2[0][0]']       \n",
      " alization)                                                                                       \n"
     ]
    },
    {
     "name": "stdout",
     "output_type": "stream",
     "text": [
      "                                                                                                  \n",
      " block12_sepconv3_act (Activati  (None, 16, 16, 728)  0          ['block12_sepconv2_bn[0][0]']    \n",
      " on)                                                                                              \n",
      "                                                                                                  \n",
      " block12_sepconv3 (SeparableCon  (None, 16, 16, 728)  536536     ['block12_sepconv3_act[0][0]']   \n",
      " v2D)                                                                                             \n",
      "                                                                                                  \n",
      " block12_sepconv3_bn (BatchNorm  (None, 16, 16, 728)  2912       ['block12_sepconv3[0][0]']       \n",
      " alization)                                                                                       \n",
      "                                                                                                  \n",
      " add_10 (Add)                   (None, 16, 16, 728)  0           ['block12_sepconv3_bn[0][0]',    \n",
      "                                                                  'add_9[0][0]']                  \n",
      "                                                                                                  \n",
      " block13_sepconv1_act (Activati  (None, 16, 16, 728)  0          ['add_10[0][0]']                 \n",
      " on)                                                                                              \n",
      "                                                                                                  \n",
      " block13_sepconv1 (SeparableCon  (None, 16, 16, 728)  536536     ['block13_sepconv1_act[0][0]']   \n",
      " v2D)                                                                                             \n",
      "                                                                                                  \n",
      " block13_sepconv1_bn (BatchNorm  (None, 16, 16, 728)  2912       ['block13_sepconv1[0][0]']       \n",
      " alization)                                                                                       \n",
      "                                                                                                  \n",
      " block13_sepconv2_act (Activati  (None, 16, 16, 728)  0          ['block13_sepconv1_bn[0][0]']    \n",
      " on)                                                                                              \n",
      "                                                                                                  \n",
      " block13_sepconv2 (SeparableCon  (None, 16, 16, 1024  752024     ['block13_sepconv2_act[0][0]']   \n",
      " v2D)                           )                                                                 \n",
      "                                                                                                  \n",
      " block13_sepconv2_bn (BatchNorm  (None, 16, 16, 1024  4096       ['block13_sepconv2[0][0]']       \n",
      " alization)                     )                                                                 \n",
      "                                                                                                  \n",
      " conv2d_3 (Conv2D)              (None, 8, 8, 1024)   745472      ['add_10[0][0]']                 \n",
      "                                                                                                  \n",
      " block13_pool (MaxPooling2D)    (None, 8, 8, 1024)   0           ['block13_sepconv2_bn[0][0]']    \n",
      "                                                                                                  \n",
      " batch_normalization_3 (BatchNo  (None, 8, 8, 1024)  4096        ['conv2d_3[0][0]']               \n",
      " rmalization)                                                                                     \n",
      "                                                                                                  \n",
      " add_11 (Add)                   (None, 8, 8, 1024)   0           ['block13_pool[0][0]',           \n",
      "                                                                  'batch_normalization_3[0][0]']  \n",
      "                                                                                                  \n",
      " block14_sepconv1 (SeparableCon  (None, 8, 8, 1536)  1582080     ['add_11[0][0]']                 \n",
      " v2D)                                                                                             \n",
      "                                                                                                  \n",
      " block14_sepconv1_bn (BatchNorm  (None, 8, 8, 1536)  6144        ['block14_sepconv1[0][0]']       \n",
      " alization)                                                                                       \n",
      "                                                                                                  \n",
      " block14_sepconv1_act (Activati  (None, 8, 8, 1536)  0           ['block14_sepconv1_bn[0][0]']    \n",
      " on)                                                                                              \n",
      "                                                                                                  \n",
      " block14_sepconv2 (SeparableCon  (None, 8, 8, 2048)  3159552     ['block14_sepconv1_act[0][0]']   \n",
      " v2D)                                                                                             \n",
      "                                                                                                  \n",
      " block14_sepconv2_bn (BatchNorm  (None, 8, 8, 2048)  8192        ['block14_sepconv2[0][0]']       \n",
      " alization)                                                                                       \n",
      "                                                                                                  \n",
      " block14_sepconv2_act (Activati  (None, 8, 8, 2048)  0           ['block14_sepconv2_bn[0][0]']    \n",
      " on)                                                                                              \n",
      "                                                                                                  \n",
      " global_max_pooling2d (GlobalMa  (None, 2048)        0           ['block14_sepconv2_act[0][0]']   \n",
      " xPooling2D)                                                                                      \n",
      "                                                                                                  \n",
      "==================================================================================================\n",
      "Total params: 20,861,480\n",
      "Trainable params: 0\n",
      "Non-trainable params: 20,861,480\n",
      "__________________________________________________________________________________________________\n"
     ]
    }
   ],
   "source": [
    "base_model.summary()"
   ]
  },
  {
   "cell_type": "markdown",
   "id": "77a1feab",
   "metadata": {
    "id": "QvKCywVUdZSu",
    "papermill": {
     "duration": 0.011116,
     "end_time": "2023-03-29T12:41:27.225772",
     "exception": false,
     "start_time": "2023-03-29T12:41:27.214656",
     "status": "completed"
    },
    "tags": []
   },
   "source": [
    "## Building Model"
   ]
  },
  {
   "cell_type": "code",
   "execution_count": 9,
   "id": "1f445d2e",
   "metadata": {
    "execution": {
     "iopub.execute_input": "2023-03-29T12:41:27.250114Z",
     "iopub.status.busy": "2023-03-29T12:41:27.249193Z",
     "iopub.status.idle": "2023-03-29T12:41:27.294481Z",
     "shell.execute_reply": "2023-03-29T12:41:27.293484Z"
    },
    "id": "h7Al-lBKVRYs",
    "papermill": {
     "duration": 0.060076,
     "end_time": "2023-03-29T12:41:27.296993",
     "exception": false,
     "start_time": "2023-03-29T12:41:27.236917",
     "status": "completed"
    },
    "tags": []
   },
   "outputs": [],
   "source": [
    "# x = base_model.output\n",
    "# x = Flatten()(x)\n",
    "\n",
    "# x = Dropout(0.2)(x)\n",
    "\n",
    "# x = Dense(1024, activation='relu')(x)\n",
    "# x = BatchNormalization()(x)\n",
    "# x = Dropout(0.3)(x)\n",
    "\n",
    "# x = Dense(512, activation='relu')(x)\n",
    "# x = BatchNormalization()(x)\n",
    "# # x = Dropout(0.2)(x)  # it made more complex\n",
    "\n",
    "# x = Dense(256, activation='relu')(x)\n",
    "# x = Dense(128, activation='relu')(x)\n",
    "# x = Dense(64, activation='relu')(x)\n",
    "# prediction = Dense(2, activation='softmax')(x)\n",
    "\n",
    "# final_model = Model(inputs=base_model.input, outputs=prediction)"
   ]
  },
  {
   "cell_type": "code",
   "execution_count": 10,
   "id": "8abea58c",
   "metadata": {},
   "outputs": [],
   "source": [
    "x = base_model.output\n",
    "x = Flatten()(x)\n",
    "\n",
    "x = Dropout(0.2)(x)\n",
    "\n",
    "x = Dense(1024, activation='LeakyReLU')(x)\n",
    "x = BatchNormalization()(x)\n",
    "x = Dropout(0.2)(x)\n",
    "\n",
    "x = Dense(512, activation='LeakyReLU')(x)\n",
    "x = BatchNormalization()(x)\n",
    "# x = Dropout(0.2)(x)  # it made more complex\n",
    "\n",
    "x = Dense(256, activation='LeakyReLU')(x)\n",
    "x = Dense(128, activation='LeakyReLU')(x)\n",
    "x = Dense(64, activation='LeakyReLU')(x)\n",
    "prediction = Dense(2, activation='softmax')(x)\n",
    "\n",
    "final_model = Model(inputs=base_model.input, outputs=prediction)"
   ]
  },
  {
   "cell_type": "code",
   "execution_count": 11,
   "id": "672c7570",
   "metadata": {},
   "outputs": [
    {
     "name": "stdout",
     "output_type": "stream",
     "text": [
      "Model: \"model\"\n",
      "__________________________________________________________________________________________________\n",
      " Layer (type)                   Output Shape         Param #     Connected to                     \n",
      "==================================================================================================\n",
      " input_1 (InputLayer)           [(None, 256, 256, 3  0           []                               \n",
      "                                )]                                                                \n",
      "                                                                                                  \n",
      " block1_conv1 (Conv2D)          (None, 127, 127, 32  864         ['input_1[0][0]']                \n",
      "                                )                                                                 \n",
      "                                                                                                  \n",
      " block1_conv1_bn (BatchNormaliz  (None, 127, 127, 32  128        ['block1_conv1[0][0]']           \n",
      " ation)                         )                                                                 \n",
      "                                                                                                  \n",
      " block1_conv1_act (Activation)  (None, 127, 127, 32  0           ['block1_conv1_bn[0][0]']        \n",
      "                                )                                                                 \n",
      "                                                                                                  \n",
      " block1_conv2 (Conv2D)          (None, 125, 125, 64  18432       ['block1_conv1_act[0][0]']       \n",
      "                                )                                                                 \n",
      "                                                                                                  \n",
      " block1_conv2_bn (BatchNormaliz  (None, 125, 125, 64  256        ['block1_conv2[0][0]']           \n",
      " ation)                         )                                                                 \n",
      "                                                                                                  \n",
      " block1_conv2_act (Activation)  (None, 125, 125, 64  0           ['block1_conv2_bn[0][0]']        \n",
      "                                )                                                                 \n",
      "                                                                                                  \n",
      " block2_sepconv1 (SeparableConv  (None, 125, 125, 12  8768       ['block1_conv2_act[0][0]']       \n",
      " 2D)                            8)                                                                \n",
      "                                                                                                  \n",
      " block2_sepconv1_bn (BatchNorma  (None, 125, 125, 12  512        ['block2_sepconv1[0][0]']        \n",
      " lization)                      8)                                                                \n",
      "                                                                                                  \n",
      " block2_sepconv2_act (Activatio  (None, 125, 125, 12  0          ['block2_sepconv1_bn[0][0]']     \n",
      " n)                             8)                                                                \n",
      "                                                                                                  \n",
      " block2_sepconv2 (SeparableConv  (None, 125, 125, 12  17536      ['block2_sepconv2_act[0][0]']    \n",
      " 2D)                            8)                                                                \n",
      "                                                                                                  \n",
      " block2_sepconv2_bn (BatchNorma  (None, 125, 125, 12  512        ['block2_sepconv2[0][0]']        \n",
      " lization)                      8)                                                                \n",
      "                                                                                                  \n",
      " conv2d (Conv2D)                (None, 63, 63, 128)  8192        ['block1_conv2_act[0][0]']       \n",
      "                                                                                                  \n",
      " block2_pool (MaxPooling2D)     (None, 63, 63, 128)  0           ['block2_sepconv2_bn[0][0]']     \n",
      "                                                                                                  \n",
      " batch_normalization (BatchNorm  (None, 63, 63, 128)  512        ['conv2d[0][0]']                 \n",
      " alization)                                                                                       \n",
      "                                                                                                  \n",
      " add (Add)                      (None, 63, 63, 128)  0           ['block2_pool[0][0]',            \n",
      "                                                                  'batch_normalization[0][0]']    \n",
      "                                                                                                  \n",
      " block3_sepconv1_act (Activatio  (None, 63, 63, 128)  0          ['add[0][0]']                    \n",
      " n)                                                                                               \n",
      "                                                                                                  \n",
      " block3_sepconv1 (SeparableConv  (None, 63, 63, 256)  33920      ['block3_sepconv1_act[0][0]']    \n",
      " 2D)                                                                                              \n",
      "                                                                                                  \n",
      " block3_sepconv1_bn (BatchNorma  (None, 63, 63, 256)  1024       ['block3_sepconv1[0][0]']        \n",
      " lization)                                                                                        \n",
      "                                                                                                  \n",
      " block3_sepconv2_act (Activatio  (None, 63, 63, 256)  0          ['block3_sepconv1_bn[0][0]']     \n",
      " n)                                                                                               \n",
      "                                                                                                  \n",
      " block3_sepconv2 (SeparableConv  (None, 63, 63, 256)  67840      ['block3_sepconv2_act[0][0]']    \n",
      " 2D)                                                                                              \n",
      "                                                                                                  \n",
      " block3_sepconv2_bn (BatchNorma  (None, 63, 63, 256)  1024       ['block3_sepconv2[0][0]']        \n",
      " lization)                                                                                        \n",
      "                                                                                                  \n",
      " conv2d_1 (Conv2D)              (None, 32, 32, 256)  32768       ['add[0][0]']                    \n",
      "                                                                                                  \n",
      " block3_pool (MaxPooling2D)     (None, 32, 32, 256)  0           ['block3_sepconv2_bn[0][0]']     \n",
      "                                                                                                  \n",
      " batch_normalization_1 (BatchNo  (None, 32, 32, 256)  1024       ['conv2d_1[0][0]']               \n",
      " rmalization)                                                                                     \n",
      "                                                                                                  \n",
      " add_1 (Add)                    (None, 32, 32, 256)  0           ['block3_pool[0][0]',            \n",
      "                                                                  'batch_normalization_1[0][0]']  \n",
      "                                                                                                  \n",
      " block4_sepconv1_act (Activatio  (None, 32, 32, 256)  0          ['add_1[0][0]']                  \n",
      " n)                                                                                               \n",
      "                                                                                                  \n",
      " block4_sepconv1 (SeparableConv  (None, 32, 32, 728)  188672     ['block4_sepconv1_act[0][0]']    \n",
      " 2D)                                                                                              \n",
      "                                                                                                  \n"
     ]
    },
    {
     "name": "stdout",
     "output_type": "stream",
     "text": [
      " block4_sepconv1_bn (BatchNorma  (None, 32, 32, 728)  2912       ['block4_sepconv1[0][0]']        \n",
      " lization)                                                                                        \n",
      "                                                                                                  \n",
      " block4_sepconv2_act (Activatio  (None, 32, 32, 728)  0          ['block4_sepconv1_bn[0][0]']     \n",
      " n)                                                                                               \n",
      "                                                                                                  \n",
      " block4_sepconv2 (SeparableConv  (None, 32, 32, 728)  536536     ['block4_sepconv2_act[0][0]']    \n",
      " 2D)                                                                                              \n",
      "                                                                                                  \n",
      " block4_sepconv2_bn (BatchNorma  (None, 32, 32, 728)  2912       ['block4_sepconv2[0][0]']        \n",
      " lization)                                                                                        \n",
      "                                                                                                  \n",
      " conv2d_2 (Conv2D)              (None, 16, 16, 728)  186368      ['add_1[0][0]']                  \n",
      "                                                                                                  \n",
      " block4_pool (MaxPooling2D)     (None, 16, 16, 728)  0           ['block4_sepconv2_bn[0][0]']     \n",
      "                                                                                                  \n",
      " batch_normalization_2 (BatchNo  (None, 16, 16, 728)  2912       ['conv2d_2[0][0]']               \n",
      " rmalization)                                                                                     \n",
      "                                                                                                  \n",
      " add_2 (Add)                    (None, 16, 16, 728)  0           ['block4_pool[0][0]',            \n",
      "                                                                  'batch_normalization_2[0][0]']  \n",
      "                                                                                                  \n",
      " block5_sepconv1_act (Activatio  (None, 16, 16, 728)  0          ['add_2[0][0]']                  \n",
      " n)                                                                                               \n",
      "                                                                                                  \n",
      " block5_sepconv1 (SeparableConv  (None, 16, 16, 728)  536536     ['block5_sepconv1_act[0][0]']    \n",
      " 2D)                                                                                              \n",
      "                                                                                                  \n",
      " block5_sepconv1_bn (BatchNorma  (None, 16, 16, 728)  2912       ['block5_sepconv1[0][0]']        \n",
      " lization)                                                                                        \n",
      "                                                                                                  \n",
      " block5_sepconv2_act (Activatio  (None, 16, 16, 728)  0          ['block5_sepconv1_bn[0][0]']     \n",
      " n)                                                                                               \n",
      "                                                                                                  \n",
      " block5_sepconv2 (SeparableConv  (None, 16, 16, 728)  536536     ['block5_sepconv2_act[0][0]']    \n",
      " 2D)                                                                                              \n",
      "                                                                                                  \n",
      " block5_sepconv2_bn (BatchNorma  (None, 16, 16, 728)  2912       ['block5_sepconv2[0][0]']        \n",
      " lization)                                                                                        \n",
      "                                                                                                  \n",
      " block5_sepconv3_act (Activatio  (None, 16, 16, 728)  0          ['block5_sepconv2_bn[0][0]']     \n",
      " n)                                                                                               \n",
      "                                                                                                  \n",
      " block5_sepconv3 (SeparableConv  (None, 16, 16, 728)  536536     ['block5_sepconv3_act[0][0]']    \n",
      " 2D)                                                                                              \n",
      "                                                                                                  \n",
      " block5_sepconv3_bn (BatchNorma  (None, 16, 16, 728)  2912       ['block5_sepconv3[0][0]']        \n",
      " lization)                                                                                        \n",
      "                                                                                                  \n",
      " add_3 (Add)                    (None, 16, 16, 728)  0           ['block5_sepconv3_bn[0][0]',     \n",
      "                                                                  'add_2[0][0]']                  \n",
      "                                                                                                  \n",
      " block6_sepconv1_act (Activatio  (None, 16, 16, 728)  0          ['add_3[0][0]']                  \n",
      " n)                                                                                               \n",
      "                                                                                                  \n",
      " block6_sepconv1 (SeparableConv  (None, 16, 16, 728)  536536     ['block6_sepconv1_act[0][0]']    \n",
      " 2D)                                                                                              \n",
      "                                                                                                  \n",
      " block6_sepconv1_bn (BatchNorma  (None, 16, 16, 728)  2912       ['block6_sepconv1[0][0]']        \n",
      " lization)                                                                                        \n",
      "                                                                                                  \n",
      " block6_sepconv2_act (Activatio  (None, 16, 16, 728)  0          ['block6_sepconv1_bn[0][0]']     \n",
      " n)                                                                                               \n",
      "                                                                                                  \n",
      " block6_sepconv2 (SeparableConv  (None, 16, 16, 728)  536536     ['block6_sepconv2_act[0][0]']    \n",
      " 2D)                                                                                              \n",
      "                                                                                                  \n",
      " block6_sepconv2_bn (BatchNorma  (None, 16, 16, 728)  2912       ['block6_sepconv2[0][0]']        \n",
      " lization)                                                                                        \n",
      "                                                                                                  \n",
      " block6_sepconv3_act (Activatio  (None, 16, 16, 728)  0          ['block6_sepconv2_bn[0][0]']     \n",
      " n)                                                                                               \n",
      "                                                                                                  \n",
      " block6_sepconv3 (SeparableConv  (None, 16, 16, 728)  536536     ['block6_sepconv3_act[0][0]']    \n",
      " 2D)                                                                                              \n",
      "                                                                                                  \n",
      " block6_sepconv3_bn (BatchNorma  (None, 16, 16, 728)  2912       ['block6_sepconv3[0][0]']        \n",
      " lization)                                                                                        \n",
      "                                                                                                  \n",
      " add_4 (Add)                    (None, 16, 16, 728)  0           ['block6_sepconv3_bn[0][0]',     \n",
      "                                                                  'add_3[0][0]']                  \n",
      "                                                                                                  \n",
      " block7_sepconv1_act (Activatio  (None, 16, 16, 728)  0          ['add_4[0][0]']                  \n"
     ]
    },
    {
     "name": "stdout",
     "output_type": "stream",
     "text": [
      " n)                                                                                               \n",
      "                                                                                                  \n",
      " block7_sepconv1 (SeparableConv  (None, 16, 16, 728)  536536     ['block7_sepconv1_act[0][0]']    \n",
      " 2D)                                                                                              \n",
      "                                                                                                  \n",
      " block7_sepconv1_bn (BatchNorma  (None, 16, 16, 728)  2912       ['block7_sepconv1[0][0]']        \n",
      " lization)                                                                                        \n",
      "                                                                                                  \n",
      " block7_sepconv2_act (Activatio  (None, 16, 16, 728)  0          ['block7_sepconv1_bn[0][0]']     \n",
      " n)                                                                                               \n",
      "                                                                                                  \n",
      " block7_sepconv2 (SeparableConv  (None, 16, 16, 728)  536536     ['block7_sepconv2_act[0][0]']    \n",
      " 2D)                                                                                              \n",
      "                                                                                                  \n",
      " block7_sepconv2_bn (BatchNorma  (None, 16, 16, 728)  2912       ['block7_sepconv2[0][0]']        \n",
      " lization)                                                                                        \n",
      "                                                                                                  \n",
      " block7_sepconv3_act (Activatio  (None, 16, 16, 728)  0          ['block7_sepconv2_bn[0][0]']     \n",
      " n)                                                                                               \n",
      "                                                                                                  \n",
      " block7_sepconv3 (SeparableConv  (None, 16, 16, 728)  536536     ['block7_sepconv3_act[0][0]']    \n",
      " 2D)                                                                                              \n",
      "                                                                                                  \n",
      " block7_sepconv3_bn (BatchNorma  (None, 16, 16, 728)  2912       ['block7_sepconv3[0][0]']        \n",
      " lization)                                                                                        \n",
      "                                                                                                  \n",
      " add_5 (Add)                    (None, 16, 16, 728)  0           ['block7_sepconv3_bn[0][0]',     \n",
      "                                                                  'add_4[0][0]']                  \n",
      "                                                                                                  \n",
      " block8_sepconv1_act (Activatio  (None, 16, 16, 728)  0          ['add_5[0][0]']                  \n",
      " n)                                                                                               \n",
      "                                                                                                  \n",
      " block8_sepconv1 (SeparableConv  (None, 16, 16, 728)  536536     ['block8_sepconv1_act[0][0]']    \n",
      " 2D)                                                                                              \n",
      "                                                                                                  \n",
      " block8_sepconv1_bn (BatchNorma  (None, 16, 16, 728)  2912       ['block8_sepconv1[0][0]']        \n",
      " lization)                                                                                        \n",
      "                                                                                                  \n",
      " block8_sepconv2_act (Activatio  (None, 16, 16, 728)  0          ['block8_sepconv1_bn[0][0]']     \n",
      " n)                                                                                               \n",
      "                                                                                                  \n",
      " block8_sepconv2 (SeparableConv  (None, 16, 16, 728)  536536     ['block8_sepconv2_act[0][0]']    \n",
      " 2D)                                                                                              \n",
      "                                                                                                  \n",
      " block8_sepconv2_bn (BatchNorma  (None, 16, 16, 728)  2912       ['block8_sepconv2[0][0]']        \n",
      " lization)                                                                                        \n",
      "                                                                                                  \n",
      " block8_sepconv3_act (Activatio  (None, 16, 16, 728)  0          ['block8_sepconv2_bn[0][0]']     \n",
      " n)                                                                                               \n",
      "                                                                                                  \n",
      " block8_sepconv3 (SeparableConv  (None, 16, 16, 728)  536536     ['block8_sepconv3_act[0][0]']    \n",
      " 2D)                                                                                              \n",
      "                                                                                                  \n",
      " block8_sepconv3_bn (BatchNorma  (None, 16, 16, 728)  2912       ['block8_sepconv3[0][0]']        \n",
      " lization)                                                                                        \n",
      "                                                                                                  \n",
      " add_6 (Add)                    (None, 16, 16, 728)  0           ['block8_sepconv3_bn[0][0]',     \n",
      "                                                                  'add_5[0][0]']                  \n",
      "                                                                                                  \n",
      " block9_sepconv1_act (Activatio  (None, 16, 16, 728)  0          ['add_6[0][0]']                  \n",
      " n)                                                                                               \n",
      "                                                                                                  \n",
      " block9_sepconv1 (SeparableConv  (None, 16, 16, 728)  536536     ['block9_sepconv1_act[0][0]']    \n",
      " 2D)                                                                                              \n",
      "                                                                                                  \n",
      " block9_sepconv1_bn (BatchNorma  (None, 16, 16, 728)  2912       ['block9_sepconv1[0][0]']        \n",
      " lization)                                                                                        \n",
      "                                                                                                  \n",
      " block9_sepconv2_act (Activatio  (None, 16, 16, 728)  0          ['block9_sepconv1_bn[0][0]']     \n",
      " n)                                                                                               \n",
      "                                                                                                  \n",
      " block9_sepconv2 (SeparableConv  (None, 16, 16, 728)  536536     ['block9_sepconv2_act[0][0]']    \n",
      " 2D)                                                                                              \n",
      "                                                                                                  \n",
      " block9_sepconv2_bn (BatchNorma  (None, 16, 16, 728)  2912       ['block9_sepconv2[0][0]']        \n",
      " lization)                                                                                        \n",
      "                                                                                                  \n",
      " block9_sepconv3_act (Activatio  (None, 16, 16, 728)  0          ['block9_sepconv2_bn[0][0]']     \n",
      " n)                                                                                               \n",
      "                                                                                                  \n",
      " block9_sepconv3 (SeparableConv  (None, 16, 16, 728)  536536     ['block9_sepconv3_act[0][0]']    \n",
      " 2D)                                                                                              \n",
      "                                                                                                  \n"
     ]
    },
    {
     "name": "stdout",
     "output_type": "stream",
     "text": [
      " block9_sepconv3_bn (BatchNorma  (None, 16, 16, 728)  2912       ['block9_sepconv3[0][0]']        \n",
      " lization)                                                                                        \n",
      "                                                                                                  \n",
      " add_7 (Add)                    (None, 16, 16, 728)  0           ['block9_sepconv3_bn[0][0]',     \n",
      "                                                                  'add_6[0][0]']                  \n",
      "                                                                                                  \n",
      " block10_sepconv1_act (Activati  (None, 16, 16, 728)  0          ['add_7[0][0]']                  \n",
      " on)                                                                                              \n",
      "                                                                                                  \n",
      " block10_sepconv1 (SeparableCon  (None, 16, 16, 728)  536536     ['block10_sepconv1_act[0][0]']   \n",
      " v2D)                                                                                             \n",
      "                                                                                                  \n",
      " block10_sepconv1_bn (BatchNorm  (None, 16, 16, 728)  2912       ['block10_sepconv1[0][0]']       \n",
      " alization)                                                                                       \n",
      "                                                                                                  \n",
      " block10_sepconv2_act (Activati  (None, 16, 16, 728)  0          ['block10_sepconv1_bn[0][0]']    \n",
      " on)                                                                                              \n",
      "                                                                                                  \n",
      " block10_sepconv2 (SeparableCon  (None, 16, 16, 728)  536536     ['block10_sepconv2_act[0][0]']   \n",
      " v2D)                                                                                             \n",
      "                                                                                                  \n",
      " block10_sepconv2_bn (BatchNorm  (None, 16, 16, 728)  2912       ['block10_sepconv2[0][0]']       \n",
      " alization)                                                                                       \n",
      "                                                                                                  \n",
      " block10_sepconv3_act (Activati  (None, 16, 16, 728)  0          ['block10_sepconv2_bn[0][0]']    \n",
      " on)                                                                                              \n",
      "                                                                                                  \n",
      " block10_sepconv3 (SeparableCon  (None, 16, 16, 728)  536536     ['block10_sepconv3_act[0][0]']   \n",
      " v2D)                                                                                             \n",
      "                                                                                                  \n",
      " block10_sepconv3_bn (BatchNorm  (None, 16, 16, 728)  2912       ['block10_sepconv3[0][0]']       \n",
      " alization)                                                                                       \n",
      "                                                                                                  \n",
      " add_8 (Add)                    (None, 16, 16, 728)  0           ['block10_sepconv3_bn[0][0]',    \n",
      "                                                                  'add_7[0][0]']                  \n",
      "                                                                                                  \n",
      " block11_sepconv1_act (Activati  (None, 16, 16, 728)  0          ['add_8[0][0]']                  \n",
      " on)                                                                                              \n",
      "                                                                                                  \n",
      " block11_sepconv1 (SeparableCon  (None, 16, 16, 728)  536536     ['block11_sepconv1_act[0][0]']   \n",
      " v2D)                                                                                             \n",
      "                                                                                                  \n",
      " block11_sepconv1_bn (BatchNorm  (None, 16, 16, 728)  2912       ['block11_sepconv1[0][0]']       \n",
      " alization)                                                                                       \n",
      "                                                                                                  \n",
      " block11_sepconv2_act (Activati  (None, 16, 16, 728)  0          ['block11_sepconv1_bn[0][0]']    \n",
      " on)                                                                                              \n",
      "                                                                                                  \n",
      " block11_sepconv2 (SeparableCon  (None, 16, 16, 728)  536536     ['block11_sepconv2_act[0][0]']   \n",
      " v2D)                                                                                             \n",
      "                                                                                                  \n",
      " block11_sepconv2_bn (BatchNorm  (None, 16, 16, 728)  2912       ['block11_sepconv2[0][0]']       \n",
      " alization)                                                                                       \n",
      "                                                                                                  \n",
      " block11_sepconv3_act (Activati  (None, 16, 16, 728)  0          ['block11_sepconv2_bn[0][0]']    \n",
      " on)                                                                                              \n",
      "                                                                                                  \n",
      " block11_sepconv3 (SeparableCon  (None, 16, 16, 728)  536536     ['block11_sepconv3_act[0][0]']   \n",
      " v2D)                                                                                             \n",
      "                                                                                                  \n",
      " block11_sepconv3_bn (BatchNorm  (None, 16, 16, 728)  2912       ['block11_sepconv3[0][0]']       \n",
      " alization)                                                                                       \n",
      "                                                                                                  \n",
      " add_9 (Add)                    (None, 16, 16, 728)  0           ['block11_sepconv3_bn[0][0]',    \n",
      "                                                                  'add_8[0][0]']                  \n",
      "                                                                                                  \n",
      " block12_sepconv1_act (Activati  (None, 16, 16, 728)  0          ['add_9[0][0]']                  \n",
      " on)                                                                                              \n",
      "                                                                                                  \n",
      " block12_sepconv1 (SeparableCon  (None, 16, 16, 728)  536536     ['block12_sepconv1_act[0][0]']   \n",
      " v2D)                                                                                             \n",
      "                                                                                                  \n",
      " block12_sepconv1_bn (BatchNorm  (None, 16, 16, 728)  2912       ['block12_sepconv1[0][0]']       \n",
      " alization)                                                                                       \n",
      "                                                                                                  \n",
      " block12_sepconv2_act (Activati  (None, 16, 16, 728)  0          ['block12_sepconv1_bn[0][0]']    \n",
      " on)                                                                                              \n",
      "                                                                                                  \n",
      " block12_sepconv2 (SeparableCon  (None, 16, 16, 728)  536536     ['block12_sepconv2_act[0][0]']   \n",
      " v2D)                                                                                             \n",
      "                                                                                                  \n",
      " block12_sepconv2_bn (BatchNorm  (None, 16, 16, 728)  2912       ['block12_sepconv2[0][0]']       \n",
      " alization)                                                                                       \n"
     ]
    },
    {
     "name": "stdout",
     "output_type": "stream",
     "text": [
      "                                                                                                  \n",
      " block12_sepconv3_act (Activati  (None, 16, 16, 728)  0          ['block12_sepconv2_bn[0][0]']    \n",
      " on)                                                                                              \n",
      "                                                                                                  \n",
      " block12_sepconv3 (SeparableCon  (None, 16, 16, 728)  536536     ['block12_sepconv3_act[0][0]']   \n",
      " v2D)                                                                                             \n",
      "                                                                                                  \n",
      " block12_sepconv3_bn (BatchNorm  (None, 16, 16, 728)  2912       ['block12_sepconv3[0][0]']       \n",
      " alization)                                                                                       \n",
      "                                                                                                  \n",
      " add_10 (Add)                   (None, 16, 16, 728)  0           ['block12_sepconv3_bn[0][0]',    \n",
      "                                                                  'add_9[0][0]']                  \n",
      "                                                                                                  \n",
      " block13_sepconv1_act (Activati  (None, 16, 16, 728)  0          ['add_10[0][0]']                 \n",
      " on)                                                                                              \n",
      "                                                                                                  \n",
      " block13_sepconv1 (SeparableCon  (None, 16, 16, 728)  536536     ['block13_sepconv1_act[0][0]']   \n",
      " v2D)                                                                                             \n",
      "                                                                                                  \n",
      " block13_sepconv1_bn (BatchNorm  (None, 16, 16, 728)  2912       ['block13_sepconv1[0][0]']       \n",
      " alization)                                                                                       \n",
      "                                                                                                  \n",
      " block13_sepconv2_act (Activati  (None, 16, 16, 728)  0          ['block13_sepconv1_bn[0][0]']    \n",
      " on)                                                                                              \n",
      "                                                                                                  \n",
      " block13_sepconv2 (SeparableCon  (None, 16, 16, 1024  752024     ['block13_sepconv2_act[0][0]']   \n",
      " v2D)                           )                                                                 \n",
      "                                                                                                  \n",
      " block13_sepconv2_bn (BatchNorm  (None, 16, 16, 1024  4096       ['block13_sepconv2[0][0]']       \n",
      " alization)                     )                                                                 \n",
      "                                                                                                  \n",
      " conv2d_3 (Conv2D)              (None, 8, 8, 1024)   745472      ['add_10[0][0]']                 \n",
      "                                                                                                  \n",
      " block13_pool (MaxPooling2D)    (None, 8, 8, 1024)   0           ['block13_sepconv2_bn[0][0]']    \n",
      "                                                                                                  \n",
      " batch_normalization_3 (BatchNo  (None, 8, 8, 1024)  4096        ['conv2d_3[0][0]']               \n",
      " rmalization)                                                                                     \n",
      "                                                                                                  \n",
      " add_11 (Add)                   (None, 8, 8, 1024)   0           ['block13_pool[0][0]',           \n",
      "                                                                  'batch_normalization_3[0][0]']  \n",
      "                                                                                                  \n",
      " block14_sepconv1 (SeparableCon  (None, 8, 8, 1536)  1582080     ['add_11[0][0]']                 \n",
      " v2D)                                                                                             \n",
      "                                                                                                  \n",
      " block14_sepconv1_bn (BatchNorm  (None, 8, 8, 1536)  6144        ['block14_sepconv1[0][0]']       \n",
      " alization)                                                                                       \n",
      "                                                                                                  \n",
      " block14_sepconv1_act (Activati  (None, 8, 8, 1536)  0           ['block14_sepconv1_bn[0][0]']    \n",
      " on)                                                                                              \n",
      "                                                                                                  \n",
      " block14_sepconv2 (SeparableCon  (None, 8, 8, 2048)  3159552     ['block14_sepconv1_act[0][0]']   \n",
      " v2D)                                                                                             \n",
      "                                                                                                  \n",
      " block14_sepconv2_bn (BatchNorm  (None, 8, 8, 2048)  8192        ['block14_sepconv2[0][0]']       \n",
      " alization)                                                                                       \n",
      "                                                                                                  \n",
      " block14_sepconv2_act (Activati  (None, 8, 8, 2048)  0           ['block14_sepconv2_bn[0][0]']    \n",
      " on)                                                                                              \n",
      "                                                                                                  \n",
      " global_max_pooling2d (GlobalMa  (None, 2048)        0           ['block14_sepconv2_act[0][0]']   \n",
      " xPooling2D)                                                                                      \n",
      "                                                                                                  \n",
      " flatten (Flatten)              (None, 2048)         0           ['global_max_pooling2d[0][0]']   \n",
      "                                                                                                  \n",
      " dropout (Dropout)              (None, 2048)         0           ['flatten[0][0]']                \n",
      "                                                                                                  \n",
      " dense (Dense)                  (None, 1024)         2098176     ['dropout[0][0]']                \n",
      "                                                                                                  \n",
      " batch_normalization_4 (BatchNo  (None, 1024)        4096        ['dense[0][0]']                  \n",
      " rmalization)                                                                                     \n",
      "                                                                                                  \n",
      " dropout_1 (Dropout)            (None, 1024)         0           ['batch_normalization_4[0][0]']  \n",
      "                                                                                                  \n",
      " dense_1 (Dense)                (None, 512)          524800      ['dropout_1[0][0]']              \n",
      "                                                                                                  \n",
      " batch_normalization_5 (BatchNo  (None, 512)         2048        ['dense_1[0][0]']                \n",
      " rmalization)                                                                                     \n",
      "                                                                                                  \n",
      " dense_2 (Dense)                (None, 256)          131328      ['batch_normalization_5[0][0]']  \n",
      "                                                                                                  \n",
      " dense_3 (Dense)                (None, 128)          32896       ['dense_2[0][0]']                \n",
      "                                                                                                  \n",
      " dense_4 (Dense)                (None, 64)           8256        ['dense_3[0][0]']                \n"
     ]
    },
    {
     "name": "stdout",
     "output_type": "stream",
     "text": [
      "                                                                                                  \n",
      " dense_5 (Dense)                (None, 2)            130         ['dense_4[0][0]']                \n",
      "                                                                                                  \n",
      "==================================================================================================\n",
      "Total params: 23,663,210\n",
      "Trainable params: 2,798,658\n",
      "Non-trainable params: 20,864,552\n",
      "__________________________________________________________________________________________________\n"
     ]
    }
   ],
   "source": [
    "final_model.summary()"
   ]
  },
  {
   "cell_type": "markdown",
   "id": "c3fc2512",
   "metadata": {
    "papermill": {
     "duration": 0.01157,
     "end_time": "2023-03-29T12:41:27.320048",
     "exception": false,
     "start_time": "2023-03-29T12:41:27.308478",
     "status": "completed"
    },
    "tags": []
   },
   "source": [
    "## Optimization"
   ]
  },
  {
   "cell_type": "code",
   "execution_count": 12,
   "id": "6c23b2b2",
   "metadata": {
    "execution": {
     "iopub.execute_input": "2023-03-29T12:41:27.344749Z",
     "iopub.status.busy": "2023-03-29T12:41:27.343819Z",
     "iopub.status.idle": "2023-03-29T12:41:27.348978Z",
     "shell.execute_reply": "2023-03-29T12:41:27.347913Z"
    },
    "papermill": {
     "duration": 0.019578,
     "end_time": "2023-03-29T12:41:27.351096",
     "exception": false,
     "start_time": "2023-03-29T12:41:27.331518",
     "status": "completed"
    },
    "tags": []
   },
   "outputs": [],
   "source": [
    "reduce_lr = ReduceLROnPlateau(monitor='val_accuracy', factor=0.5, patience=2)\n",
    "\n",
    "early = EarlyStopping(monitor='loss', patience=3)"
   ]
  },
  {
   "cell_type": "markdown",
   "id": "8d14a7fc",
   "metadata": {
    "papermill": {
     "duration": 0.010853,
     "end_time": "2023-03-29T12:41:27.372955",
     "exception": false,
     "start_time": "2023-03-29T12:41:27.362102",
     "status": "completed"
    },
    "tags": []
   },
   "source": [
    "## Compiling Model"
   ]
  },
  {
   "cell_type": "code",
   "execution_count": 13,
   "id": "c1b93b4f",
   "metadata": {
    "execution": {
     "iopub.execute_input": "2023-03-29T12:41:27.396356Z",
     "iopub.status.busy": "2023-03-29T12:41:27.396054Z",
     "iopub.status.idle": "2023-03-29T12:41:27.415150Z",
     "shell.execute_reply": "2023-03-29T12:41:27.414225Z"
    },
    "id": "onWkMLGkVj_x",
    "papermill": {
     "duration": 0.033112,
     "end_time": "2023-03-29T12:41:27.417100",
     "exception": false,
     "start_time": "2023-03-29T12:41:27.383988",
     "status": "completed"
    },
    "tags": []
   },
   "outputs": [],
   "source": [
    "final_model.compile(\n",
    "  loss='categorical_crossentropy',\n",
    "  optimizer='adam',\n",
    "  metrics=['accuracy']\n",
    ")"
   ]
  },
  {
   "cell_type": "markdown",
   "id": "b7219014",
   "metadata": {
    "id": "UrGXm4MkKIr7",
    "papermill": {
     "duration": 0.010883,
     "end_time": "2023-03-29T12:41:27.439110",
     "exception": false,
     "start_time": "2023-03-29T12:41:27.428227",
     "status": "completed"
    },
    "tags": []
   },
   "source": [
    "## Training"
   ]
  },
  {
   "cell_type": "code",
   "execution_count": 14,
   "id": "8f7e6f93",
   "metadata": {
    "execution": {
     "iopub.execute_input": "2023-03-29T12:41:27.462884Z",
     "iopub.status.busy": "2023-03-29T12:41:27.462575Z",
     "iopub.status.idle": "2023-03-29T19:31:26.094578Z",
     "shell.execute_reply": "2023-03-29T19:31:26.093462Z"
    },
    "id": "T7LwpawHGgs6",
    "outputId": "80e6e6ed-18ce-4cfc-f0ba-d93b25d41615",
    "papermill": {
     "duration": 24602.578574,
     "end_time": "2023-03-29T19:31:30.029076",
     "exception": false,
     "start_time": "2023-03-29T12:41:27.450502",
     "status": "completed"
    },
    "scrolled": false,
    "tags": []
   },
   "outputs": [
    {
     "name": "stdout",
     "output_type": "stream",
     "text": [
      "Epoch 1/40\n",
      "9/9 [==============================] - 11s 558ms/step - loss: 0.8243 - accuracy: 0.6857 - val_loss: 2.1590 - val_accuracy: 0.5000 - lr: 0.0010\n",
      "Epoch 2/40\n",
      "9/9 [==============================] - 2s 242ms/step - loss: 0.4189 - accuracy: 0.8357 - val_loss: 1.4804 - val_accuracy: 0.8000 - lr: 0.0010\n",
      "Epoch 3/40\n",
      "9/9 [==============================] - 2s 244ms/step - loss: 0.5150 - accuracy: 0.7500 - val_loss: 1.5630 - val_accuracy: 0.5667 - lr: 0.0010\n",
      "Epoch 4/40\n",
      "9/9 [==============================] - 2s 240ms/step - loss: 0.3172 - accuracy: 0.8571 - val_loss: 0.8485 - val_accuracy: 0.7333 - lr: 0.0010\n",
      "Epoch 5/40\n",
      "9/9 [==============================] - 2s 239ms/step - loss: 0.2711 - accuracy: 0.8786 - val_loss: 0.4670 - val_accuracy: 0.8667 - lr: 5.0000e-04\n",
      "Epoch 6/40\n",
      "9/9 [==============================] - 2s 243ms/step - loss: 0.3419 - accuracy: 0.8500 - val_loss: 0.5490 - val_accuracy: 0.8333 - lr: 5.0000e-04\n",
      "Epoch 7/40\n",
      "9/9 [==============================] - 2s 245ms/step - loss: 0.2562 - accuracy: 0.8714 - val_loss: 0.3893 - val_accuracy: 0.8667 - lr: 5.0000e-04\n",
      "Epoch 8/40\n",
      "9/9 [==============================] - 2s 239ms/step - loss: 0.2761 - accuracy: 0.8643 - val_loss: 0.3473 - val_accuracy: 0.8667 - lr: 2.5000e-04\n",
      "Epoch 9/40\n",
      "9/9 [==============================] - 2s 247ms/step - loss: 0.2120 - accuracy: 0.9071 - val_loss: 0.3109 - val_accuracy: 0.9000 - lr: 2.5000e-04\n",
      "Epoch 10/40\n",
      "9/9 [==============================] - 2s 243ms/step - loss: 0.1633 - accuracy: 0.9357 - val_loss: 0.3265 - val_accuracy: 0.9000 - lr: 2.5000e-04\n",
      "Epoch 11/40\n",
      "9/9 [==============================] - 2s 243ms/step - loss: 0.1720 - accuracy: 0.9286 - val_loss: 0.2104 - val_accuracy: 0.9333 - lr: 2.5000e-04\n",
      "Epoch 12/40\n",
      "9/9 [==============================] - 2s 242ms/step - loss: 0.2641 - accuracy: 0.8786 - val_loss: 0.1788 - val_accuracy: 0.9333 - lr: 2.5000e-04\n",
      "Epoch 13/40\n",
      "9/9 [==============================] - 2s 248ms/step - loss: 0.1705 - accuracy: 0.9286 - val_loss: 0.2273 - val_accuracy: 0.9333 - lr: 2.5000e-04\n"
     ]
    }
   ],
   "source": [
    "\n",
    "history = final_model.fit(\n",
    "    training_set,\n",
    "    validation_data=val_set,\n",
    "    epochs=40,\n",
    "    callbacks=[reduce_lr, early]\n",
    ")"
   ]
  },
  {
   "cell_type": "markdown",
   "id": "f93be814",
   "metadata": {
    "id": "wqvMA-ZuKdG6",
    "papermill": {
     "duration": 3.957571,
     "end_time": "2023-03-29T19:31:37.740673",
     "exception": false,
     "start_time": "2023-03-29T19:31:33.783102",
     "status": "completed"
    },
    "tags": []
   },
   "source": [
    "## Evaluating Model"
   ]
  },
  {
   "cell_type": "code",
   "execution_count": 15,
   "id": "b20018a6",
   "metadata": {
    "execution": {
     "iopub.execute_input": "2023-03-29T19:31:45.641059Z",
     "iopub.status.busy": "2023-03-29T19:31:45.640016Z",
     "iopub.status.idle": "2023-03-29T19:32:04.191348Z",
     "shell.execute_reply": "2023-03-29T19:32:04.190382Z"
    },
    "id": "Lf56gnUUZ8PB",
    "papermill": {
     "duration": 22.290076,
     "end_time": "2023-03-29T19:32:04.193426",
     "exception": false,
     "start_time": "2023-03-29T19:31:41.903350",
     "status": "completed"
    },
    "tags": []
   },
   "outputs": [
    {
     "name": "stdout",
     "output_type": "stream",
     "text": [
      "Evaluating on test data ....\n",
      "2/2 [==============================] - 0s 114ms/step - loss: 0.1506 - accuracy: 0.9333\n",
      "test loss, test acc: [0.1505754441022873, 0.9333333373069763]\n"
     ]
    }
   ],
   "source": [
    "print(\"Evaluating on test data ....\")\n",
    "results = final_model.evaluate(test_set, batch_size=Batch)\n",
    "print(\"test loss, test acc:\", results)"
   ]
  },
  {
   "cell_type": "markdown",
   "id": "fcc5c44d",
   "metadata": {
    "id": "oAttfdbALKT-",
    "papermill": {
     "duration": 4.431841,
     "end_time": "2023-03-29T19:32:12.591079",
     "exception": false,
     "start_time": "2023-03-29T19:32:08.159238",
     "status": "completed"
    },
    "tags": []
   },
   "source": [
    "## Saving History"
   ]
  },
  {
   "cell_type": "code",
   "execution_count": 16,
   "id": "16d537e2",
   "metadata": {
    "execution": {
     "iopub.execute_input": "2023-03-29T19:32:20.404174Z",
     "iopub.status.busy": "2023-03-29T19:32:20.403782Z",
     "iopub.status.idle": "2023-03-29T19:32:20.436188Z",
     "shell.execute_reply": "2023-03-29T19:32:20.435245Z"
    },
    "id": "Qdbzj8VlLOGb",
    "papermill": {
     "duration": 4.002553,
     "end_time": "2023-03-29T19:32:20.439303",
     "exception": false,
     "start_time": "2023-03-29T19:32:16.436750",
     "status": "completed"
    },
    "tags": []
   },
   "outputs": [],
   "source": [
    "#history.history"
   ]
  },
  {
   "cell_type": "markdown",
   "id": "e724ea70",
   "metadata": {
    "papermill": {
     "duration": 3.780717,
     "end_time": "2023-03-29T19:32:28.174703",
     "exception": false,
     "start_time": "2023-03-29T19:32:24.393986",
     "status": "completed"
    },
    "tags": []
   },
   "source": [
    "## Plotting Curves"
   ]
  },
  {
   "cell_type": "code",
   "execution_count": 17,
   "id": "c0e691b3",
   "metadata": {
    "execution": {
     "iopub.execute_input": "2023-03-29T19:32:35.900597Z",
     "iopub.status.busy": "2023-03-29T19:32:35.899543Z",
     "iopub.status.idle": "2023-03-29T19:32:35.906330Z",
     "shell.execute_reply": "2023-03-29T19:32:35.905245Z"
    },
    "papermill": {
     "duration": 3.905151,
     "end_time": "2023-03-29T19:32:35.908479",
     "exception": false,
     "start_time": "2023-03-29T19:32:32.003328",
     "status": "completed"
    },
    "tags": []
   },
   "outputs": [],
   "source": [
    "def plot(history):\n",
    "    fig, axes = plt.subplots(1, 2, figsize=(10, 4))\n",
    "    axes[0].plot(history[\"loss\"], \"r-\", history[\"val_loss\"], \"b-\", linewidth=0.5)\n",
    "    axes[0].set_title(\"Loss\")\n",
    "    axes[1].plot(history[\"accuracy\"], \"r-\", history[\"val_accuracy\"], \"b-\", linewidth=0.5)\n",
    "    axes[1].set_title(\"Accuracy\")\n",
    "    fig.tight_layout()\n",
    "    fig.show()"
   ]
  },
  {
   "cell_type": "code",
   "execution_count": 18,
   "id": "2a9e5916",
   "metadata": {
    "execution": {
     "iopub.execute_input": "2023-03-29T19:32:44.282699Z",
     "iopub.status.busy": "2023-03-29T19:32:44.282280Z",
     "iopub.status.idle": "2023-03-29T19:32:44.686056Z",
     "shell.execute_reply": "2023-03-29T19:32:44.685075Z"
    },
    "papermill": {
     "duration": 4.8748,
     "end_time": "2023-03-29T19:32:44.688303",
     "exception": false,
     "start_time": "2023-03-29T19:32:39.813503",
     "status": "completed"
    },
    "tags": []
   },
   "outputs": [
    {
     "data": {
      "image/png": "[encoded data removed]",
      "text/plain": [
       "<Figure size 1000x400 with 2 Axes>"
      ]
     },
     "metadata": {},
     "output_type": "display_data"
    }
   ],
   "source": [
    "plot(history.history)"
   ]
  },
  {
   "cell_type": "markdown",
   "id": "517df935",
   "metadata": {
    "id": "_6YrqxNiK74j",
    "papermill": {
     "duration": 3.858959,
     "end_time": "2023-03-29T19:32:52.321522",
     "exception": false,
     "start_time": "2023-03-29T19:32:48.462563",
     "status": "completed"
    },
    "tags": []
   },
   "source": [
    "### Accuracy vs Epochs"
   ]
  },
  {
   "cell_type": "code",
   "execution_count": 19,
   "id": "ce5dee9a",
   "metadata": {
    "execution": {
     "iopub.execute_input": "2023-03-29T19:33:00.058879Z",
     "iopub.status.busy": "2023-03-29T19:33:00.058517Z",
     "iopub.status.idle": "2023-03-29T19:33:00.276759Z",
     "shell.execute_reply": "2023-03-29T19:33:00.275830Z"
    },
    "id": "sdB7_fjsaa5z",
    "papermill": {
     "duration": 3.9849,
     "end_time": "2023-03-29T19:33:00.278890",
     "exception": false,
     "start_time": "2023-03-29T19:32:56.293990",
     "status": "completed"
    },
    "tags": []
   },
   "outputs": [
    {
     "data": {
      "image/png": "[encoded data removed]",
      "text/plain": [
       "<Figure size 640x480 with 1 Axes>"
      ]
     },
     "metadata": {},
     "output_type": "display_data"
    }
   ],
   "source": [
    "plt.plot(history.history['accuracy'])\n",
    "plt.plot(history.history['val_accuracy'])\n",
    "plt.title('model accuracy')\n",
    "plt.ylabel('accuracy')\n",
    "plt.xlabel('epoch')\n",
    "plt.legend(['train', 'test'], loc='upper left')\n",
    "plt.show()"
   ]
  },
  {
   "cell_type": "markdown",
   "id": "2209bb76",
   "metadata": {
    "id": "2Y77bbOVLAhu",
    "papermill": {
     "duration": 3.93183,
     "end_time": "2023-03-29T19:33:07.998022",
     "exception": false,
     "start_time": "2023-03-29T19:33:04.066192",
     "status": "completed"
    },
    "tags": []
   },
   "source": [
    "### Loss vs Epochs"
   ]
  },
  {
   "cell_type": "code",
   "execution_count": 20,
   "id": "75499e6e",
   "metadata": {
    "execution": {
     "iopub.execute_input": "2023-03-29T19:33:16.357518Z",
     "iopub.status.busy": "2023-03-29T19:33:16.357066Z",
     "iopub.status.idle": "2023-03-29T19:33:16.571878Z",
     "shell.execute_reply": "2023-03-29T19:33:16.570943Z"
    },
    "id": "_GV-kvZqKydx",
    "papermill": {
     "duration": 4.649906,
     "end_time": "2023-03-29T19:33:16.574438",
     "exception": false,
     "start_time": "2023-03-29T19:33:11.924532",
     "status": "completed"
    },
    "tags": []
   },
   "outputs": [
    {
     "data": {
      "image/png": "[encoded data removed]",
      "text/plain": [
       "<Figure size 640x480 with 1 Axes>"
      ]
     },
     "metadata": {},
     "output_type": "display_data"
    }
   ],
   "source": [
    "plt.plot(history.history['loss'])\n",
    "plt.plot(history.history['val_loss'])\n",
    "plt.title('model loss')\n",
    "plt.ylabel('loss')\n",
    "plt.xlabel('epoch')\n",
    "plt.legend(['train', 'test'], loc='upper left')\n",
    "plt.show()"
   ]
  },
  {
   "cell_type": "markdown",
   "id": "bdb6b9b1",
   "metadata": {
    "papermill": {
     "duration": 3.771053,
     "end_time": "2023-03-29T19:33:24.279005",
     "exception": false,
     "start_time": "2023-03-29T19:33:20.507952",
     "status": "completed"
    },
    "tags": []
   },
   "source": [
    "### Confusion Matrix"
   ]
  },
  {
   "cell_type": "code",
   "execution_count": 21,
   "id": "703ea1cb",
   "metadata": {
    "execution": {
     "iopub.execute_input": "2023-03-29T19:33:32.133224Z",
     "iopub.status.busy": "2023-03-29T19:33:32.132125Z",
     "iopub.status.idle": "2023-03-29T19:33:43.318662Z",
     "shell.execute_reply": "2023-03-29T19:33:43.317621Z"
    },
    "papermill": {
     "duration": 14.971482,
     "end_time": "2023-03-29T19:33:43.321435",
     "exception": false,
     "start_time": "2023-03-29T19:33:28.349953",
     "status": "completed"
    },
    "tags": []
   },
   "outputs": [],
   "source": [
    "Y_pred = np.argmax(final_model.predict_generator(test_set), axis=1)\n",
    "Y_test = test_set.classes"
   ]
  },
  {
   "cell_type": "code",
   "execution_count": 22,
   "id": "70a29784",
   "metadata": {
    "execution": {
     "iopub.execute_input": "2023-03-29T19:33:51.546269Z",
     "iopub.status.busy": "2023-03-29T19:33:51.545880Z",
     "iopub.status.idle": "2023-03-29T19:33:51.553252Z",
     "shell.execute_reply": "2023-03-29T19:33:51.552121Z"
    },
    "papermill": {
     "duration": 4.236474,
     "end_time": "2023-03-29T19:33:51.556045",
     "exception": false,
     "start_time": "2023-03-29T19:33:47.319571",
     "status": "completed"
    },
    "tags": []
   },
   "outputs": [
    {
     "name": "stdout",
     "output_type": "stream",
     "text": [
      "Confusion Matrix : \n",
      " [[15  0]\n",
      " [ 2 13]]\n"
     ]
    }
   ],
   "source": [
    "cm = confusion_matrix(Y_test, Y_pred)\n",
    "print('Confusion Matrix : \\n', cm)"
   ]
  },
  {
   "cell_type": "code",
   "execution_count": 23,
   "id": "0cd7d018",
   "metadata": {
    "execution": {
     "iopub.execute_input": "2023-03-29T19:34:15.425740Z",
     "iopub.status.busy": "2023-03-29T19:34:15.425379Z",
     "iopub.status.idle": "2023-03-29T19:34:15.648846Z",
     "shell.execute_reply": "2023-03-29T19:34:15.647810Z"
    },
    "papermill": {
     "duration": 4.055735,
     "end_time": "2023-03-29T19:34:15.650874",
     "exception": false,
     "start_time": "2023-03-29T19:34:11.595139",
     "status": "completed"
    },
    "tags": []
   },
   "outputs": [
    {
     "data": {
      "image/png": "[encoded data removed]",
      "text/plain": [
       "<Figure size 640x480 with 2 Axes>"
      ]
     },
     "metadata": {},
     "output_type": "display_data"
    }
   ],
   "source": [
    "cm = sns.heatmap(confusion_matrix(Y_test, Y_pred), cmap=\"Blues\", annot=True,fmt=\"d\")"
   ]
  },
  {
   "cell_type": "markdown",
   "id": "4e2f7260",
   "metadata": {
    "papermill": {
     "duration": 4.076178,
     "end_time": "2023-03-29T19:34:23.972511",
     "exception": false,
     "start_time": "2023-03-29T19:34:19.896333",
     "status": "completed"
    },
    "tags": []
   },
   "source": [
    "### Classification Report"
   ]
  },
  {
   "cell_type": "code",
   "execution_count": 24,
   "id": "80cc183f",
   "metadata": {
    "execution": {
     "iopub.execute_input": "2023-03-29T19:34:31.556501Z",
     "iopub.status.busy": "2023-03-29T19:34:31.556128Z",
     "iopub.status.idle": "2023-03-29T19:34:31.567682Z",
     "shell.execute_reply": "2023-03-29T19:34:31.566364Z"
    },
    "papermill": {
     "duration": 3.823602,
     "end_time": "2023-03-29T19:34:31.569862",
     "exception": false,
     "start_time": "2023-03-29T19:34:27.746260",
     "status": "completed"
    },
    "tags": []
   },
   "outputs": [
    {
     "name": "stdout",
     "output_type": "stream",
     "text": [
      "              precision    recall  f1-score   support\n",
      "\n",
      "           0       0.88      1.00      0.94        15\n",
      "           1       1.00      0.87      0.93        15\n",
      "\n",
      "    accuracy                           0.93        30\n",
      "   macro avg       0.94      0.93      0.93        30\n",
      "weighted avg       0.94      0.93      0.93        30\n",
      "\n"
     ]
    }
   ],
   "source": [
    "print(classification_report(Y_test, Y_pred))"
   ]
  },
  {
   "cell_type": "markdown",
   "id": "964a8759",
   "metadata": {
    "papermill": {
     "duration": 3.750739,
     "end_time": "2023-03-29T19:34:39.355438",
     "exception": false,
     "start_time": "2023-03-29T19:34:35.604699",
     "status": "completed"
    },
    "tags": []
   },
   "source": [
    "### AUC-ROC"
   ]
  },
  {
   "cell_type": "code",
   "execution_count": 25,
   "id": "69b5e65a",
   "metadata": {
    "execution": {
     "iopub.execute_input": "2023-03-29T19:34:47.292054Z",
     "iopub.status.busy": "2023-03-29T19:34:47.291665Z",
     "iopub.status.idle": "2023-03-29T19:34:47.539803Z",
     "shell.execute_reply": "2023-03-29T19:34:47.538806Z"
    },
    "papermill": {
     "duration": 4.224917,
     "end_time": "2023-03-29T19:34:47.542438",
     "exception": false,
     "start_time": "2023-03-29T19:34:43.317521",
     "status": "completed"
    },
    "tags": []
   },
   "outputs": [
    {
     "name": "stdout",
     "output_type": "stream",
     "text": [
      "ROC AUC score: 0.9333333333333333\n"
     ]
    },
    {
     "data": {
      "image/png": "[encoded data removed]",
      "text/plain": [
       "<Figure size 1200x800 with 1 Axes>"
      ]
     },
     "metadata": {},
     "output_type": "display_data"
    }
   ],
   "source": [
    "import matplotlib.pyplot as plt \n",
    "from sklearn.preprocessing import LabelBinarizer\n",
    "from sklearn.metrics import roc_curve, auc, roc_auc_score\n",
    "\n",
    "\n",
    "target= ['ROC curve']\n",
    "\n",
    "# set plot figure size\n",
    "fig, c_ax = plt.subplots(1,1, figsize = (12, 8))\n",
    "\n",
    "# function for scoring roc auc score for multi-class\n",
    "def multiclass_roc_auc_score(y_test, y_pred, average=\"macro\"):\n",
    "    lb = LabelBinarizer()\n",
    "    lb.fit(y_test)\n",
    "    y_test = lb.transform(y_test)\n",
    "    y_pred = lb.transform(y_pred)\n",
    "\n",
    "    for (idx, c_label) in enumerate(target):\n",
    "        fpr, tpr, thresholds = roc_curve(y_test[:,idx].astype(int), y_pred[:,idx])\n",
    "        c_ax.plot(fpr, tpr, label = '%s (AUC:%0.2f)'  % (c_label, auc(fpr, tpr)))\n",
    "    c_ax.plot(fpr, fpr, 'b-', label = 'Random Guessing')\n",
    "    return roc_auc_score(y_test, y_pred, average=average)\n",
    "\n",
    "\n",
    "print('ROC AUC score:', multiclass_roc_auc_score(Y_test, Y_pred))\n",
    "\n",
    "c_ax.legend()\n",
    "c_ax.set_xlabel('False Positive Rate')\n",
    "c_ax.set_ylabel('True Positive Rate')\n",
    "plt.show()"
   ]
  },
  {
   "cell_type": "markdown",
   "id": "699a950a",
   "metadata": {
    "papermill": {
     "duration": 4.03697,
     "end_time": "2023-03-29T19:34:55.874419",
     "exception": false,
     "start_time": "2023-03-29T19:34:51.837449",
     "status": "completed"
    },
    "tags": []
   },
   "source": [
    "### Curves with Seaborn Styling"
   ]
  },
  {
   "cell_type": "code",
   "execution_count": 26,
   "id": "437ea9ba",
   "metadata": {},
   "outputs": [],
   "source": [
    "from sklearn.metrics import roc_auc_score\n",
    "\n",
    "auc_value = roc_auc_score(Y_test, Y_pred)"
   ]
  },
  {
   "cell_type": "code",
   "execution_count": 27,
   "id": "1a2900f2",
   "metadata": {},
   "outputs": [
    {
     "data": {
      "text/plain": [
       "0.9333333333333333"
      ]
     },
     "execution_count": 27,
     "metadata": {},
     "output_type": "execute_result"
    }
   ],
   "source": [
    "auc_value"
   ]
  },
  {
   "cell_type": "code",
   "execution_count": null,
   "id": "6a938ba4",
   "metadata": {},
   "outputs": [],
   "source": []
  },
  {
   "cell_type": "code",
   "execution_count": 28,
   "id": "96f6e5f8",
   "metadata": {
    "execution": {
     "iopub.execute_input": "2023-03-29T19:35:19.242302Z",
     "iopub.status.busy": "2023-03-29T19:35:19.241895Z",
     "iopub.status.idle": "2023-03-29T19:35:19.731853Z",
     "shell.execute_reply": "2023-03-29T19:35:19.730873Z"
    },
    "papermill": {
     "duration": 4.450754,
     "end_time": "2023-03-29T19:35:19.734798",
     "exception": false,
     "start_time": "2023-03-29T19:35:15.284044",
     "status": "completed"
    },
    "tags": []
   },
   "outputs": [
    {
     "data": {
      "image/png": "[encoded data removed]",
      "text/plain": [
       "<Figure size 1000x400 with 2 Axes>"
      ]
     },
     "metadata": {},
     "output_type": "display_data"
    }
   ],
   "source": [
    "plot(history.history)"
   ]
  },
  {
   "cell_type": "markdown",
   "id": "0a58f9f5",
   "metadata": {
    "papermill": {
     "duration": 3.831082,
     "end_time": "2023-03-29T19:35:28.070841",
     "exception": false,
     "start_time": "2023-03-29T19:35:24.239759",
     "status": "completed"
    },
    "tags": []
   },
   "source": [
    "### test x-rays\n"
   ]
  },
  {
   "cell_type": "code",
   "execution_count": 29,
   "id": "82099b68",
   "metadata": {},
   "outputs": [
    {
     "name": "stdout",
     "output_type": "stream",
     "text": [
      "1/1 [==============================] - 1s 1s/step\n"
     ]
    },
    {
     "data": {
      "text/plain": [
       "array([[0.15531117, 0.84468883]], dtype=float32)"
      ]
     },
     "execution_count": 29,
     "metadata": {},
     "output_type": "execute_result"
    }
   ],
   "source": [
    "from tensorflow.keras.preprocessing import image\n",
    "\n",
    "img = image.load_img(\"TB7.bmp\", target_size=(256,256))              \n",
    "img_array = image.img_to_array(img)\n",
    "img_array = np.expand_dims(img_array, axis=0)  # Add a batch dimension\n",
    "img_array = img_array / 255.0  \n",
    "\n",
    "pred = final_model.predict(img_array)\n",
    "pred"
   ]
  },
  {
   "cell_type": "markdown",
   "id": "ae9baf31",
   "metadata": {},
   "source": [
    "#### np.argmax(pred)"
   ]
  },
  {
   "cell_type": "code",
   "execution_count": 30,
   "id": "f7becb9f",
   "metadata": {},
   "outputs": [],
   "source": [
    "# if pred >= 0.5:\n",
    "#     print('1')\n",
    "# else:\n",
    "#     print('0')"
   ]
  },
  {
   "cell_type": "code",
   "execution_count": 31,
   "id": "58a80877",
   "metadata": {},
   "outputs": [],
   "source": [
    "\n",
    "# if np.argmax(pred)==0:\n",
    "#     print(\"Tuberculosis Negative\")\n",
    "# else:\n",
    "#     print(\"Tuberculosis positive\")"
   ]
  },
  {
   "cell_type": "code",
   "execution_count": null,
   "id": "4266a9b4",
   "metadata": {},
   "outputs": [],
   "source": []
  },
  {
   "cell_type": "markdown",
   "id": "4c0165e2",
   "metadata": {},
   "source": []
  },
  {
   "cell_type": "code",
   "execution_count": null,
   "id": "40ec29db",
   "metadata": {},
   "outputs": [],
   "source": []
  },
  {
   "cell_type": "code",
   "execution_count": 32,
   "id": "56c6c141",
   "metadata": {},
   "outputs": [],
   "source": [
    "# import pickle\n",
    "# # Save the model to a file using pickle\n",
    "# with open('xception_model.pkl', 'wb') as file:\n",
    "#     pickle.dump(final_model, file)"
   ]
  },
  {
   "cell_type": "code",
   "execution_count": 33,
   "id": "e8de8bb0",
   "metadata": {},
   "outputs": [
    {
     "name": "stdout",
     "output_type": "stream",
     "text": [
      "NORMAL1.png\n",
      "1/1 [==============================] - 0s 25ms/step\n",
      "\t Tuberculosis Negative\n",
      "NORMAL10.png\n",
      "1/1 [==============================] - 0s 23ms/step\n",
      "\t Tuberculosis Negative\n",
      "NORMAL11.png\n",
      "1/1 [==============================] - 0s 27ms/step\n",
      "\t Tuberculosis Negative\n",
      "NORMAL2.png\n",
      "1/1 [==============================] - 0s 24ms/step\n",
      "\t Tuberculosis positive\n",
      "NORMAL3.png\n",
      "1/1 [==============================] - 0s 26ms/step\n",
      "\t Tuberculosis positive\n",
      "NORMAL4.png\n",
      "1/1 [==============================] - 0s 23ms/step\n",
      "\t Tuberculosis positive\n",
      "NORMAL5.png\n",
      "1/1 [==============================] - 0s 25ms/step\n",
      "\t Tuberculosis Negative\n",
      "NORMAL6.png\n",
      "1/1 [==============================] - 0s 23ms/step\n",
      "\t Tuberculosis Negative\n",
      "NORMAL7.png\n",
      "1/1 [==============================] - 0s 23ms/step\n",
      "\t Tuberculosis Negative\n",
      "NORMAL8.png\n",
      "1/1 [==============================] - 0s 23ms/step\n",
      "\t Tuberculosis Negative\n",
      "NORMAL9.png\n",
      "1/1 [==============================] - 0s 22ms/step\n",
      "\t Tuberculosis Negative\n",
      "TB1.bmp\n",
      "1/1 [==============================] - 0s 22ms/step\n",
      "\t Tuberculosis positive\n",
      "TB2.bmp\n",
      "1/1 [==============================] - 0s 26ms/step\n",
      "\t Tuberculosis positive\n",
      "TB3.bmp\n",
      "1/1 [==============================] - 0s 24ms/step\n",
      "\t Tuberculosis positive\n",
      "TB4.bmp\n",
      "1/1 [==============================] - 0s 23ms/step\n",
      "\t Tuberculosis positive\n",
      "TB5.bmp\n",
      "1/1 [==============================] - 0s 24ms/step\n",
      "\t Tuberculosis positive\n",
      "TB6.bmp\n",
      "1/1 [==============================] - 0s 30ms/step\n",
      "\t Tuberculosis positive\n",
      "TB7.bmp\n",
      "1/1 [==============================] - 0s 23ms/step\n",
      "\t Tuberculosis positive\n",
      "TB8.bmp\n",
      "1/1 [==============================] - 0s 23ms/step\n",
      "\t Tuberculosis positive\n",
      "TB9.bmp\n",
      "1/1 [==============================] - 0s 23ms/step\n",
      "\t Tuberculosis positive\n"
     ]
    }
   ],
   "source": [
    "import os\n",
    "from tensorflow.keras.preprocessing import image\n",
    "import numpy as np\n",
    "\n",
    "# Path to the folder containing images\n",
    "folder_path = 'ForTest/'\n",
    "\n",
    "# List all files in the folder\n",
    "image_files = os.listdir(folder_path)\n",
    "\n",
    "for file_name in image_files:\n",
    "    # Construct the complete file path\n",
    "    file_path = os.path.join(folder_path, file_name)\n",
    "    \n",
    "    # Load and preprocess each image\n",
    "    img = image.load_img(file_path, target_size=(256, 256))\n",
    "    img_array = image.img_to_array(img)\n",
    "    img_array = np.expand_dims(img_array, axis=0)  # Add a batch dimension\n",
    "    img_array = img_array / 255.0  # Normalize\n",
    "    \n",
    "    # Perform further processing or prediction with the img_array\n",
    "    # Example: model.predict(img_array) if you have a model for predictions\n",
    "    print(file_name)\n",
    "    pred = final_model.predict(img_array)\n",
    "    \n",
    "    if np.argmax(pred)==0:\n",
    "        print(\"\\t Tuberculosis Negative\")\n",
    "    else:\n",
    "        print(\"\\t Tuberculosis positive\")\n"
   ]
  },
  {
   "cell_type": "code",
   "execution_count": null,
   "id": "0ef254b6",
   "metadata": {},
   "outputs": [],
   "source": []
  },
  {
   "cell_type": "code",
   "execution_count": null,
   "id": "b17ac571",
   "metadata": {},
   "outputs": [],
   "source": []
  },
  {
   "cell_type": "code",
   "execution_count": null,
   "id": "acfca596",
   "metadata": {},
   "outputs": [],
   "source": []
  },
  {
   "cell_type": "code",
   "execution_count": null,
   "id": "4c47eed5",
   "metadata": {},
   "outputs": [],
   "source": []
  },
  {
   "cell_type": "code",
   "execution_count": null,
   "id": "edac97a1",
   "metadata": {},
   "outputs": [],
   "source": []
  },
  {
   "cell_type": "code",
   "execution_count": null,
   "id": "fd32f0a5",
   "metadata": {},
   "outputs": [],
   "source": []
  },
  {
   "cell_type": "code",
   "execution_count": null,
   "id": "4ce052d3",
   "metadata": {},
   "outputs": [],
   "source": [
    "\n",
    "\n",
    "\n",
    "\n",
    "\n",
    "\n",
    "\n",
    "\n",
    "\n",
    "\n",
    "\n"
   ]
  }
 ],
 "metadata": {
  "kernelspec": {
   "display_name": "Python 3 (ipykernel)",
   "language": "python",
   "name": "python3"
  },
  "language_info": {
   "codemirror_mode": {
    "name": "ipython",
    "version": 3
   },
   "file_extension": ".py",
   "mimetype": "text/x-python",
   "name": "python",
   "nbconvert_exporter": "python",
   "pygments_lexer": "ipython3",
   "version": "3.10.8"
  },
  "papermill": {
   "default_parameters": {},
   "duration": 24917.923826,
   "end_time": "2023-03-29T19:36:16.483625",
   "environment_variables": {},
   "exception": null,
   "input_path": "__notebook__.ipynb",
   "output_path": "__notebook__.ipynb",
   "parameters": {},
   "start_time": "2023-03-29T12:40:58.559799",
   "version": "2.4.0"
  }
 },
 "nbformat": 4,
 "nbformat_minor": 5
}
